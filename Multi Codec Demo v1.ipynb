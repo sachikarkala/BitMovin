{
 "cells": [
  {
   "cell_type": "code",
   "execution_count": 1,
   "metadata": {},
   "outputs": [],
   "source": [
    "import datetime\n",
    "import time\n",
    "from bitmovin_api_sdk import AacAudioConfiguration, GcsOutput, Ac3AudioConfiguration, AclEntry, AclPermission, BitmovinApi, \\\n",
    "    BitmovinApiLogger, CodecConfiguration, Encoding, EncodingOutput, H264VideoConfiguration, H265VideoConfiguration, \\\n",
    "    HttpInput, Input, MessageType, Mp4Muxing, MuxingStream, Output, PresetConfiguration, ProgressiveTsMuxing, \\\n",
    "    Status, Stream, StreamInput, Task, Vp9VideoConfiguration, AclEntry, ProgressiveWebmMuxing, OpusAudioConfiguration,\\\n",
    "    ProgressiveTsMuxing, HlsManifest, StreamInfo, AudioMediaInfo, Fmp4Muxing\n",
    "from bitmovin.errors import BitmovinError\n",
    "from os import path"
   ]
  },
  {
   "cell_type": "code",
   "execution_count": 2,
   "metadata": {},
   "outputs": [],
   "source": [
    "def _log_task_errors(task):\n",
    "    if task is None:\n",
    "        return\n",
    "\n",
    "    filtered = filter(lambda msg: msg.type is MessageType.ERROR, task.messages)\n",
    "\n",
    "    for message in filtered:\n",
    "        print(message.text)\n"
   ]
  },
  {
   "cell_type": "code",
   "execution_count": 3,
   "metadata": {},
   "outputs": [],
   "source": [
    "bitmovin_api = BitmovinApi(api_key='783c2ba9-49a3-4e4d-a033-b4964210e3d3', logger=BitmovinApiLogger())"
   ]
  },
  {
   "cell_type": "code",
   "execution_count": 4,
   "metadata": {},
   "outputs": [
    {
     "name": "stdout",
     "output_type": "stream",
     "text": [
      "2020-04-05 11:48:27,347 bitmovin_api_sdk.common.bitmovin_api_logger.BitmovinApiLogger DEBUG    REQUEST: GET https://api.bitmovin.com/v1/encoding/inputs/https/620f6680-37cd-442c-bc24-71b4c3f44f28\n",
      "2020-04-05 11:48:27,774 bitmovin_api_sdk.common.bitmovin_api_logger.BitmovinApiLogger DEBUG    RESPONSE: {\"requestId\":\"079afaf2-ac8f-4b82-9004-7f99dcb82904\",\"status\":\"SUCCESS\",\"data\":{\"result\":{\"id\":\"620f6680-37cd-442c-bc24-71b4c3f44f28\",\"name\":\"Create Multi-codec Streaming HTTPS input\",\"createdAt\":\"2020-04-04T13:26:41Z\",\"modifiedAt\":\"2020-04-04T13:26:41Z\",\"host\":\"https://storage.googleapis.com/bitmovin-sample-content\"},\"messages\":[{\"id\":\"e8aaf340-df80-4e5c-91a3-93ec277078a5\",\"date\":\"2020-04-05T02:48:28Z\",\"type\":\"INFO\",\"text\":\"Successfully retrieved details of HTTPS input!\"}]}}\n"
     ]
    }
   ],
   "source": [
    "input = bitmovin_api.encoding.inputs.https.get(input_id='620f6680-37cd-442c-bc24-71b4c3f44f28')\n",
    "input_id = input.id"
   ]
  },
  {
   "cell_type": "code",
   "execution_count": 5,
   "metadata": {},
   "outputs": [
    {
     "name": "stdout",
     "output_type": "stream",
     "text": [
      "2020-04-05 11:48:27,786 bitmovin_api_sdk.common.bitmovin_api_logger.BitmovinApiLogger DEBUG    REQUEST: GET https://api.bitmovin.com/v1/encoding/outputs/gcs/50d0e12b-3117-48a1-aeb1-92ff71b30a7d\n",
      "2020-04-05 11:48:28,184 bitmovin_api_sdk.common.bitmovin_api_logger.BitmovinApiLogger DEBUG    RESPONSE: {\"requestId\":\"70b10fe5-a092-4f0b-b88a-2fc5cdb89546\",\"status\":\"SUCCESS\",\"data\":{\"result\":{\"id\":\"50d0e12b-3117-48a1-aeb1-92ff71b30a7d\",\"name\":\"MultiCodec Demo Output\",\"createdAt\":\"2020-04-04T13:26:58Z\",\"modifiedAt\":\"2020-04-04T13:26:58Z\",\"type\":\"GCS\",\"bucketName\":\"sachibitmovintest\"},\"messages\":[{\"id\":\"9fce375a-6ad5-4e6b-85c0-28fa5927ab8c\",\"date\":\"2020-04-05T02:48:29Z\",\"type\":\"INFO\",\"text\":\"Successfully retrieved details of GCS output!\"}]}}\n"
     ]
    }
   ],
   "source": [
    "gcs_output = bitmovin_api.encoding.outputs.gcs.get(output_id='50d0e12b-3117-48a1-aeb1-92ff71b30a7d')\n"
   ]
  },
  {
   "cell_type": "code",
   "execution_count": 79,
   "metadata": {
    "scrolled": true
   },
   "outputs": [
    {
     "name": "stdout",
     "output_type": "stream",
     "text": [
      "2020-04-05 14:02:31,304 bitmovin_api_sdk.common.bitmovin_api_logger.BitmovinApiLogger DEBUG    REQUEST: POST https://api.bitmovin.com/v1/encoding/encodings  --> {\"name\": \"MultiCodec\", \"description\": \"Demo\"}\n",
      "2020-04-05 14:02:31,308 bitmovin_api_sdk.common.bitmovin_api_logger.BitmovinApiLogger DEBUG    Serialized request object: {\"description\": \"Demo\", \"name\": \"MultiCodec\"}\n",
      "2020-04-05 14:02:31,677 bitmovin_api_sdk.common.bitmovin_api_logger.BitmovinApiLogger DEBUG    RESPONSE: {\"requestId\":\"162367fd-6b4c-45b4-81de-527f6f5b5586\",\"status\":\"SUCCESS\",\"data\":{\"result\":{\"id\":\"952c8d4f-ee3e-45d9-88ba-b8a967ffaa15\",\"name\":\"MultiCodec\",\"description\":\"Demo\",\"encoderVersion\":\"STABLE\",\"createdAt\":\"2020-04-05T05:02:32Z\",\"modifiedAt\":\"2020-04-05T05:02:32Z\",\"cloudRegion\":\"AUTO\",\"selectedCloudRegion\":\"AUTO\",\"type\":\"NONE\",\"status\":\"CREATED\",\"progress\":0},\"messages\":[{\"id\":\"8b2fa7b8-7a36-439f-a155-cb52eb4cc9e5\",\"date\":\"2020-04-05T05:02:32Z\",\"type\":\"INFO\",\"text\":\"Encoding created successfully\"}]}}\n"
     ]
    }
   ],
   "source": [
    "encoder = bitmovin_api.encoding.encodings.create(encoding = Encoding(name ='MultiCodec', description='Demo'))"
   ]
  },
  {
   "cell_type": "code",
   "execution_count": 64,
   "metadata": {},
   "outputs": [],
   "source": [
    "def _getH264Configuration():\n",
    "    return bitmovin_api.encoding.configurations.video.h264.get(configuration_id='3832994e-7064-4c0e-9e90-c8a185be9486')"
   ]
  },
  {
   "cell_type": "code",
   "execution_count": 8,
   "metadata": {},
   "outputs": [],
   "source": [
    "def _getAACConfiguration():\n",
    "    return bitmovin_api.encoding.configurations.audio.aac.get(configuration_id='f52cc943-1544-468d-8540-5f7dcc7924d7')"
   ]
  },
  {
   "cell_type": "code",
   "execution_count": 9,
   "metadata": {},
   "outputs": [],
   "source": [
    "def _getOpusConfiguration():\n",
    "    return bitmovin_api.encoding.configurations.audio.opus.get(configuration_id='2a2d85c4-f743-40b7-9cb4-7b0d7e97bd11')"
   ]
  },
  {
   "cell_type": "code",
   "execution_count": 10,
   "metadata": {
    "scrolled": true
   },
   "outputs": [],
   "source": [
    "def _createH264Configuration():\n",
    "    \n",
    "    h264config = H264VideoConfiguration (\n",
    "        name=\"H.264 1080p 5.8 Mbit/s\",\n",
    "        preset_configuration=PresetConfiguration.VOD_STANDARD,\n",
    "        height=1080,\n",
    "        bitrate=5400000\n",
    "    )\n",
    "\n",
    "    return bitmovin_api.encoding.configurations.video.h264.create(h264_video_configuration=h264config)"
   ]
  },
  {
   "cell_type": "code",
   "execution_count": 11,
   "metadata": {},
   "outputs": [],
   "source": [
    "def _createOpusConfiguration():\n",
    "    \n",
    "    opusconfig = OpusAudioConfiguration (\n",
    "        name=\"Opus 128Kbps\",\n",
    "        bitrate=128000\n",
    "    )\n",
    "\n",
    "    return bitmovin_api.encoding.configurations.audio.opus.create(opus_audio_configuration=opusconfig)"
   ]
  },
  {
   "cell_type": "code",
   "execution_count": 12,
   "metadata": {},
   "outputs": [],
   "source": [
    "def _getOpusConfiguration():\n",
    "    return bitmovin_api.encoding.configurations.audio.opus.get(configuration_id='f52cc943-1544-468d-8540-5f7dcc7924d7')"
   ]
  },
  {
   "cell_type": "code",
   "execution_count": 13,
   "metadata": {},
   "outputs": [],
   "source": [
    "def _createH265Configuration():\n",
    "    \n",
    "    h265config = H265VideoConfiguration (\n",
    "        name=\"H.265 1080p 3.48 Mbit/s\",\n",
    "        preset_configuration=PresetConfiguration.VOD_STANDARD,\n",
    "        height=1080,\n",
    "        bitrate=3480000\n",
    "    )\n",
    "\n",
    "    return bitmovin_api.encoding.configurations.video.h265.create(h265_video_configuration=h265config)"
   ]
  },
  {
   "cell_type": "code",
   "execution_count": 14,
   "metadata": {},
   "outputs": [],
   "source": [
    "def _createVp9Configuration():\n",
    "    \n",
    "    vp9config = Vp9VideoConfiguration (\n",
    "        name=\"VP9 1080p 3.48 Mbit/s\",\n",
    "        preset_configuration=PresetConfiguration.VOD_STANDARD,\n",
    "        height=1080,\n",
    "        bitrate=3480000\n",
    "    )\n",
    "\n",
    "    return bitmovin_api.encoding.configurations.video.vp9.create(vp9_video_configuration=vp9config)"
   ]
  },
  {
   "cell_type": "code",
   "execution_count": 15,
   "metadata": {},
   "outputs": [],
   "source": [
    "def _createStream(encoding, encoder_input, input_path, avconfig):\n",
    "    \n",
    "    stream_input = StreamInput(\n",
    "        input_id = encoder_input,\n",
    "        input_path = input_path    \n",
    "    )\n",
    "    \n",
    "    stream = Stream(\n",
    "        input_streams = [stream_input],\n",
    "        codec_config_id = avconfig.id        \n",
    "    )\n",
    "    \n",
    "    return bitmovin_api.encoding.encodings.streams.create(encoding_id = encoding.id,stream = stream)"
   ]
  },
  {
   "cell_type": "code",
   "execution_count": 16,
   "metadata": {},
   "outputs": [],
   "source": [
    "def _getStream(encodingid,streamid):\n",
    "    \n",
    "    return bitmovin_api.encoding.encodings.streams.get(encoding_id=encodingid,stream_id=streamid)"
   ]
  },
  {
   "cell_type": "code",
   "execution_count": 17,
   "metadata": {},
   "outputs": [],
   "source": [
    "def _getH265Configuration():\n",
    "    return bitmovin_api.encoding.configurations.video.h265.get(configuration_id='79e73af6-c888-4924-8926-16449dbd3515')"
   ]
  },
  {
   "cell_type": "code",
   "execution_count": 18,
   "metadata": {},
   "outputs": [],
   "source": [
    "def _getVp9Configuration():\n",
    "    return bitmovin_api.encoding.configurations.video.vp9.get(configuration_id='8934d528-80f6-4c9c-94f7-67b3bb5ea476')"
   ]
  },
  {
   "cell_type": "code",
   "execution_count": 19,
   "metadata": {},
   "outputs": [],
   "source": [
    "def _createMp4Mux(encoding, output, output_path, mystreams):\n",
    "\n",
    "    acl_entry = AclEntry(\n",
    "        permission = AclPermission.PUBLIC_READ\n",
    "    )\n",
    "    muxing = Mp4Muxing(\n",
    "        filename = file_name,\n",
    "        outputs=[EncodingOutput(output_path = path.join(\"/video/MultiCodec/\", output_path), output_id = output.id, \\\n",
    "                               acl = [acl_entry])],\n",
    "        streams=[MuxingStream(stream_id=stream.id) for stream in mystreams]\n",
    "    )\n",
    "\n",
    "    return bitmovin_api.encoding.encodings.muxings.mp4.create(encoding_id=encoding.id, mp4_muxing=muxing)"
   ]
  },
  {
   "cell_type": "code",
   "execution_count": 20,
   "metadata": {},
   "outputs": [],
   "source": [
    "def _createFmp4Mux(encoding, output, output_path, mystreams):\n",
    "\n",
    "    acl_entry = AclEntry(\n",
    "        permission = AclPermission.PUBLIC_READ\n",
    "    )\n",
    "    muxing = Fmp4Muxing(\n",
    "        outputs=[EncodingOutput(output_path = path.join(\"/video/MultiCodec/\", output_path), output_id = output.id, \\\n",
    "                               acl = [acl_entry])],\n",
    "        streams=[MuxingStream(stream_id=stream.id) for stream in mystreams],\n",
    "        segment_length=4.0\n",
    "    )\n",
    "\n",
    "    return bitmovin_api.encoding.encodings.muxings.fmp4.create(encoding_id=encoding.id, fmp4_muxing=muxing)"
   ]
  },
  {
   "cell_type": "code",
   "execution_count": 21,
   "metadata": {},
   "outputs": [],
   "source": [
    "def _createProgressiveTSMux(encoding, output, output_path, mystreams, file_name):\n",
    "\n",
    "    acl_entry = AclEntry(\n",
    "        permission = AclPermission.PUBLIC_READ\n",
    "    )\n",
    "    muxing = ProgressiveTsMuxing(\n",
    "        filename = file_name,\n",
    "        outputs=[EncodingOutput(output_path = path.join(\"/video/MultiCodec/\", output_path), output_id = output.id, \\\n",
    "                               acl = [acl_entry])],\n",
    "        streams=[MuxingStream(stream_id=stream.id) for stream in mystreams]\n",
    "    )\n",
    "\n",
    "    return bitmovin_api.encoding.encodings.muxings.progressive_ts.create(encoding_id=encoding.id, \\\n",
    "                                                                           progressive_ts_muxing=muxing)"
   ]
  },
  {
   "cell_type": "code",
   "execution_count": 22,
   "metadata": {},
   "outputs": [],
   "source": [
    "def _createProgressiveWebmMux(encoding, output, output_path, mystreams, file_name):\n",
    "\n",
    "    acl_entry = AclEntry(\n",
    "        permission = AclPermission.PUBLIC_READ\n",
    "    )\n",
    "    muxing = ProgressiveWebmMuxing(\n",
    "        filename = file_name,\n",
    "        outputs=[EncodingOutput(output_path = path.join(\"/video/MultiCodec/\", output_path), output_id = output.id, \\\n",
    "                               acl = [acl_entry])],\n",
    "        streams=[MuxingStream(stream_id=stream.id) for stream in mystreams]\n",
    "    )\n",
    "\n",
    "    return bitmovin_api.encoding.encodings.muxings.progressive_webm.create(encoding_id=encoding.id, \\\n",
    "                                                                           progressive_webm_muxing=muxing)"
   ]
  },
  {
   "cell_type": "code",
   "execution_count": 23,
   "metadata": {},
   "outputs": [],
   "source": [
    "#_createH264Configuration()"
   ]
  },
  {
   "cell_type": "code",
   "execution_count": 80,
   "metadata": {},
   "outputs": [
    {
     "name": "stdout",
     "output_type": "stream",
     "text": [
      "2020-04-05 14:02:40,743 bitmovin_api_sdk.common.bitmovin_api_logger.BitmovinApiLogger DEBUG    REQUEST: GET https://api.bitmovin.com/v1/encoding/configurations/video/h264/3832994e-7064-4c0e-9e90-c8a185be9486\n",
      "2020-04-05 14:02:41,183 bitmovin_api_sdk.common.bitmovin_api_logger.BitmovinApiLogger DEBUG    RESPONSE: {\"requestId\":\"652ee4c3-5e1b-4004-b82f-eef52475992d\",\"status\":\"SUCCESS\",\"data\":{\"result\":{\"id\":\"3832994e-7064-4c0e-9e90-c8a185be9486\",\"name\":\"H.264 1080p\",\"createdAt\":\"2020-03-30T06:29:39Z\",\"modifiedAt\":\"2020-03-30T06:29:39Z\",\"bitrate\":4800000,\"height\":1080,\"encodingMode\":\"TWO_PASS\",\"presetConfiguration\":\"VOD_STANDARD\",\"profile\":\"HIGH\",\"bframes\":3,\"refFrames\":3,\"mvPredictionMode\":\"SPATIAL\",\"mvSearchRangeMax\":16,\"cabac\":true,\"bAdaptiveStrategy\":\"FAST\",\"motionEstimationMethod\":\"HEX\",\"rcLookahead\":40,\"subMe\":\"RD_ALL\",\"partitions\":[\"P8X8\",\"B8X8\",\"I8X8\",\"I4X4\"],\"trellis\":\"ENABLED_FINAL_MB\",\"sceneCutThreshold\":0,\"nalHrd\":\"NONE\",\"bPyramid\":\"NORMAL\",\"adaptiveQuantizationMode\":\"VARIANCE\",\"adaptiveQuantizationStrength\":1.0,\"mixedReferences\":true,\"fastSkipDetectionPFrames\":true,\"weightedPredictionBFrames\":true,\"weightedPredictionPFrames\":\"SMART\"},\"messages\":[{\"date\":\"2020-04-05T05:02:41Z\",\"type\":\"INFO\",\"text\":\"Successfully read H264 video configuration!\"}]}}\n"
     ]
    }
   ],
   "source": [
    "h264_config = _getH264Configuration()"
   ]
  },
  {
   "cell_type": "code",
   "execution_count": 81,
   "metadata": {
    "scrolled": false
   },
   "outputs": [
    {
     "name": "stdout",
     "output_type": "stream",
     "text": [
      "2020-04-05 14:02:43,933 bitmovin_api_sdk.common.bitmovin_api_logger.BitmovinApiLogger DEBUG    REQUEST: POST https://api.bitmovin.com/v1/encoding/encodings/952c8d4f-ee3e-45d9-88ba-b8a967ffaa15/streams  --> {\"inputStreams\": [{\"inputId\": \"620f6680-37cd-442c-bc24-71b4c3f44f28\", \"inputPath\": \"/Sintel.2010.1080p.mkv\"}], \"codecConfigId\": \"3832994e-7064-4c0e-9e90-c8a185be9486\"}\n",
      "2020-04-05 14:02:43,947 bitmovin_api_sdk.common.bitmovin_api_logger.BitmovinApiLogger DEBUG    Serialized request object: {\"codecConfigId\": \"3832994e-7064-4c0e-9e90-c8a185be9486\", \"inputStreams\": [{\"inputId\": \"620f6680-37cd-442c-bc24-71b4c3f44f28\", \"inputPath\": \"/Sintel.2010.1080p.mkv\"}]}\n",
      "2020-04-05 14:02:44,352 bitmovin_api_sdk.common.bitmovin_api_logger.BitmovinApiLogger DEBUG    RESPONSE: {\"requestId\":\"7f5c6d70-3498-4a2c-85de-229c5107dd21\",\"status\":\"SUCCESS\",\"data\":{\"result\":{\"id\":\"0cd062d9-2762-42e7-a33f-530c11f3cc19\",\"createdAt\":\"2020-04-05T05:02:45Z\",\"customDataCreatedAt\":\"2020-04-05T05:02:45Z\",\"modifiedAt\":\"2020-04-05T05:02:45Z\",\"inputStreams\":[{\"id\":\"ee928699-f54c-410c-8ca7-9950a3f2ed0f\",\"inputId\":\"620f6680-37cd-442c-bc24-71b4c3f44f28\",\"inputPath\":\"/Sintel.2010.1080p.mkv\",\"position\":0}],\"createQualityMetaData\":false,\"codecConfigId\":\"3832994e-7064-4c0e-9e90-c8a185be9486\",\"segmentsEncoded\":0},\"messages\":[{\"id\":\"684f923e-51fd-4ae7-9187-7db7b9196542\",\"date\":\"2020-04-05T05:02:45Z\",\"type\":\"INFO\",\"text\":\"Successfully created Stream!\"}]}}\n"
     ]
    }
   ],
   "source": [
    "h264_stream = _createStream(encoder, input.id, \"/Sintel.2010.1080p.mkv\", h264_config)"
   ]
  },
  {
   "cell_type": "code",
   "execution_count": 26,
   "metadata": {},
   "outputs": [
    {
     "data": {
      "text/plain": [
       "'e0d88cbd-7c0f-4f78-a116-348e8b6ff77d'"
      ]
     },
     "execution_count": 26,
     "metadata": {},
     "output_type": "execute_result"
    }
   ],
   "source": [
    "h264_stream.id"
   ]
  },
  {
   "cell_type": "code",
   "execution_count": 82,
   "metadata": {
    "scrolled": true
   },
   "outputs": [
    {
     "name": "stdout",
     "output_type": "stream",
     "text": [
      "2020-04-05 14:02:47,384 bitmovin_api_sdk.common.bitmovin_api_logger.BitmovinApiLogger DEBUG    REQUEST: GET https://api.bitmovin.com/v1/encoding/configurations/audio/aac/f52cc943-1544-468d-8540-5f7dcc7924d7\n",
      "2020-04-05 14:02:47,845 bitmovin_api_sdk.common.bitmovin_api_logger.BitmovinApiLogger DEBUG    RESPONSE: {\"requestId\":\"d02fe77a-f754-4780-871e-577f15c7179c\",\"status\":\"SUCCESS\",\"data\":{\"result\":{\"id\":\"f52cc943-1544-468d-8540-5f7dcc7924d7\",\"name\":\"AAC 128 kbit/s\",\"createdAt\":\"2020-03-30T06:29:45Z\",\"modifiedAt\":\"2020-03-30T06:29:45Z\",\"type\":\"AAC\",\"bitrate\":128000,\"channelLayout\":\"NONE\"},\"messages\":[{\"id\":\"422f46d3-184b-4ff5-8962-1055fd2d45c0\",\"date\":\"2020-04-05T05:02:48Z\",\"type\":\"INFO\",\"text\":\"Successfully read AAC audio configuration!\"}]}}\n"
     ]
    }
   ],
   "source": [
    "aac_config = _getAACConfiguration()"
   ]
  },
  {
   "cell_type": "code",
   "execution_count": 28,
   "metadata": {},
   "outputs": [
    {
     "data": {
      "text/plain": [
       "'f52cc943-1544-468d-8540-5f7dcc7924d7'"
      ]
     },
     "execution_count": 28,
     "metadata": {},
     "output_type": "execute_result"
    }
   ],
   "source": [
    "aac_config.id"
   ]
  },
  {
   "cell_type": "code",
   "execution_count": 83,
   "metadata": {
    "scrolled": true
   },
   "outputs": [
    {
     "name": "stdout",
     "output_type": "stream",
     "text": [
      "2020-04-05 14:02:51,996 bitmovin_api_sdk.common.bitmovin_api_logger.BitmovinApiLogger DEBUG    REQUEST: POST https://api.bitmovin.com/v1/encoding/encodings/952c8d4f-ee3e-45d9-88ba-b8a967ffaa15/streams  --> {\"inputStreams\": [{\"inputId\": \"620f6680-37cd-442c-bc24-71b4c3f44f28\", \"inputPath\": \"/Sintel.2010.1080p.mkv\"}], \"codecConfigId\": \"f52cc943-1544-468d-8540-5f7dcc7924d7\"}\n",
      "2020-04-05 14:02:51,999 bitmovin_api_sdk.common.bitmovin_api_logger.BitmovinApiLogger DEBUG    Serialized request object: {\"codecConfigId\": \"f52cc943-1544-468d-8540-5f7dcc7924d7\", \"inputStreams\": [{\"inputId\": \"620f6680-37cd-442c-bc24-71b4c3f44f28\", \"inputPath\": \"/Sintel.2010.1080p.mkv\"}]}\n",
      "2020-04-05 14:02:52,555 bitmovin_api_sdk.common.bitmovin_api_logger.BitmovinApiLogger DEBUG    RESPONSE: {\"requestId\":\"10944cc9-518c-4c9f-b5b4-417b929a896b\",\"status\":\"SUCCESS\",\"data\":{\"result\":{\"id\":\"d5382d70-9cd4-4879-bd35-8e121a3ebbf5\",\"createdAt\":\"2020-04-05T05:02:53Z\",\"customDataCreatedAt\":\"2020-04-05T05:02:53Z\",\"modifiedAt\":\"2020-04-05T05:02:53Z\",\"inputStreams\":[{\"id\":\"43282ae9-806f-4ff2-9a95-ad48281371c6\",\"inputId\":\"620f6680-37cd-442c-bc24-71b4c3f44f28\",\"inputPath\":\"/Sintel.2010.1080p.mkv\",\"position\":0}],\"createQualityMetaData\":false,\"codecConfigId\":\"f52cc943-1544-468d-8540-5f7dcc7924d7\",\"segmentsEncoded\":0},\"messages\":[{\"id\":\"6d908f62-dbb9-4567-8fdc-11ec80a1da55\",\"date\":\"2020-04-05T05:02:53Z\",\"type\":\"INFO\",\"text\":\"Successfully created Stream!\"}]}}\n"
     ]
    }
   ],
   "source": [
    "aac_stream = _createStream(encoder, input.id, \"/Sintel.2010.1080p.mkv\", aac_config)"
   ]
  },
  {
   "cell_type": "code",
   "execution_count": 30,
   "metadata": {
    "scrolled": false
   },
   "outputs": [
    {
     "name": "stdout",
     "output_type": "stream",
     "text": [
      "2020-04-05 11:48:30,477 bitmovin_api_sdk.common.bitmovin_api_logger.BitmovinApiLogger DEBUG    REQUEST: POST https://api.bitmovin.com/v1/encoding/configurations/audio/opus  --> {\"name\": \"Opus 128Kbps\", \"bitrate\": 128000, \"type\": \"OPUS\"}\n",
      "2020-04-05 11:48:30,480 bitmovin_api_sdk.common.bitmovin_api_logger.BitmovinApiLogger DEBUG    Serialized request object: {\"bitrate\": 128000, \"name\": \"Opus 128Kbps\", \"type\": \"OPUS\"}\n",
      "2020-04-05 11:48:30,823 bitmovin_api_sdk.common.bitmovin_api_logger.BitmovinApiLogger DEBUG    RESPONSE: {\"requestId\":\"f4a59f11-556d-4b4c-aac3-de8d9c6c9160\",\"status\":\"SUCCESS\",\"data\":{\"result\":{\"id\":\"93e10579-d87d-4d60-b7a3-421321919aa8\",\"name\":\"Opus 128Kbps\",\"createdAt\":\"2020-04-05T02:48:31Z\",\"modifiedAt\":\"2020-04-05T02:48:31Z\",\"type\":\"OPUS\",\"bitrate\":128000,\"channelLayout\":\"NONE\"},\"messages\":[{\"id\":\"3bc8d9ee-875f-4a9d-a342-0262581fd87e\",\"date\":\"2020-04-05T02:48:31Z\",\"type\":\"INFO\",\"text\":\"Opus audio codec configuration created successfully\"}]}}\n"
     ]
    }
   ],
   "source": [
    "opus_config = _createOpusConfiguration()"
   ]
  },
  {
   "cell_type": "code",
   "execution_count": 31,
   "metadata": {
    "scrolled": false
   },
   "outputs": [
    {
     "name": "stdout",
     "output_type": "stream",
     "text": [
      "2020-04-05 11:48:30,839 bitmovin_api_sdk.common.bitmovin_api_logger.BitmovinApiLogger DEBUG    REQUEST: POST https://api.bitmovin.com/v1/encoding/encodings/c18b735f-c298-473d-94a6-24c9480d81d3/streams  --> {\"inputStreams\": [{\"inputId\": \"620f6680-37cd-442c-bc24-71b4c3f44f28\", \"inputPath\": \"/Sintel.2010.1080p.mkv\"}], \"codecConfigId\": \"93e10579-d87d-4d60-b7a3-421321919aa8\"}\n",
      "2020-04-05 11:48:30,842 bitmovin_api_sdk.common.bitmovin_api_logger.BitmovinApiLogger DEBUG    Serialized request object: {\"codecConfigId\": \"93e10579-d87d-4d60-b7a3-421321919aa8\", \"inputStreams\": [{\"inputId\": \"620f6680-37cd-442c-bc24-71b4c3f44f28\", \"inputPath\": \"/Sintel.2010.1080p.mkv\"}]}\n",
      "2020-04-05 11:48:31,176 bitmovin_api_sdk.common.bitmovin_api_logger.BitmovinApiLogger DEBUG    RESPONSE: {\"requestId\":\"dc8f2dab-cf16-4b2e-8f07-7ec01b6f6b64\",\"status\":\"SUCCESS\",\"data\":{\"result\":{\"id\":\"62a287e1-190e-47ff-b37e-2fd898a546f3\",\"createdAt\":\"2020-04-05T02:48:32Z\",\"customDataCreatedAt\":\"2020-04-05T02:48:32Z\",\"modifiedAt\":\"2020-04-05T02:48:32Z\",\"inputStreams\":[{\"id\":\"90ae7cf2-84c3-410a-87ca-b12447c42777\",\"inputId\":\"620f6680-37cd-442c-bc24-71b4c3f44f28\",\"inputPath\":\"/Sintel.2010.1080p.mkv\",\"position\":0}],\"createQualityMetaData\":false,\"codecConfigId\":\"93e10579-d87d-4d60-b7a3-421321919aa8\",\"segmentsEncoded\":0},\"messages\":[{\"id\":\"703392ed-c7cf-4503-bdc5-396d19c58b2b\",\"date\":\"2020-04-05T02:48:32Z\",\"type\":\"INFO\",\"text\":\"Successfully created Stream!\"}]}}\n"
     ]
    }
   ],
   "source": [
    "opus_stream = _createStream(encoder, input.id, \"/Sintel.2010.1080p.mkv\", opus_config)"
   ]
  },
  {
   "cell_type": "code",
   "execution_count": 32,
   "metadata": {},
   "outputs": [
    {
     "name": "stdout",
     "output_type": "stream",
     "text": [
      "2020-04-05 11:48:31,188 bitmovin_api_sdk.common.bitmovin_api_logger.BitmovinApiLogger DEBUG    REQUEST: GET https://api.bitmovin.com/v1/encoding/configurations/video/h265/79e73af6-c888-4924-8926-16449dbd3515\n",
      "2020-04-05 11:48:31,568 bitmovin_api_sdk.common.bitmovin_api_logger.BitmovinApiLogger DEBUG    RESPONSE: {\"requestId\":\"2350fbf5-a329-4c03-babf-c6441d6f4fd3\",\"status\":\"SUCCESS\",\"data\":{\"result\":{\"id\":\"79e73af6-c888-4924-8926-16449dbd3515\",\"name\":\"H.265 1080p 3.48 Mbit/s\",\"createdAt\":\"2020-04-04T14:12:49Z\",\"modifiedAt\":\"2020-04-04T14:12:49Z\",\"bitrate\":3480000,\"height\":1080,\"encodingMode\":\"TWO_PASS\",\"presetConfiguration\":\"VOD_STANDARD\",\"profile\":\"main\",\"bframes\":4,\"refFrames\":3,\"rcLookahead\":20,\"bAdapt\":\"FULL\",\"maxCTUSize\":\"64\",\"tuIntraDepth\":\"1\",\"tuInterDepth\":\"1\",\"motionSearch\":\"HEX\",\"subMe\":2,\"motionSearchRange\":57,\"weightPredictionOnPSlice\":true,\"weightPredictionOnBSlice\":false,\"sao\":true,\"pixelFormat\":\"YUV420P\",\"sceneCutThreshold\":40,\"adaptiveQuantizationMode\":\"AUTO_VARIANCE\",\"cutree\":true,\"minCodingUnitSize\":\"MCU_8x8\",\"lookaheadSlices\":8,\"limitReferences\":\"DEPTH_AND_CU\",\"rectangularMotionPartitionsAnalysis\":false,\"asymetricMotionPartitionsAnalysis\":false,\"limitModes\":false,\"maxMerge\":2,\"earlySkip\":false,\"recursionSkip\":true,\"fastSearchForAngularIntraPredictions\":false,\"evaluationOfIntraModesInBSlices\":false,\"signHide\":true,\"rateDistortionLevelForModeDecision\":3,\"rateDistortionLevelForQuantization\":\"DISABLED\",\"limitTransformUnitDepthRecursion\":\"DISABLED\",\"limitTransferUnitDepthRecursion\":\"DISABLED\"},\"messages\":[{\"date\":\"2020-04-05T02:48:32Z\",\"type\":\"INFO\",\"text\":\"Successfully read H265/HEVC audio configuration!\"}]}}\n"
     ]
    }
   ],
   "source": [
    "h265_config = _getH265Configuration()"
   ]
  },
  {
   "cell_type": "code",
   "execution_count": 33,
   "metadata": {
    "scrolled": true
   },
   "outputs": [
    {
     "name": "stdout",
     "output_type": "stream",
     "text": [
      "2020-04-05 11:48:31,580 bitmovin_api_sdk.common.bitmovin_api_logger.BitmovinApiLogger DEBUG    REQUEST: POST https://api.bitmovin.com/v1/encoding/encodings/c18b735f-c298-473d-94a6-24c9480d81d3/streams  --> {\"inputStreams\": [{\"inputId\": \"620f6680-37cd-442c-bc24-71b4c3f44f28\", \"inputPath\": \"/Sintel.2010.1080p.mkv\"}], \"codecConfigId\": \"79e73af6-c888-4924-8926-16449dbd3515\"}\n",
      "2020-04-05 11:48:31,582 bitmovin_api_sdk.common.bitmovin_api_logger.BitmovinApiLogger DEBUG    Serialized request object: {\"codecConfigId\": \"79e73af6-c888-4924-8926-16449dbd3515\", \"inputStreams\": [{\"inputId\": \"620f6680-37cd-442c-bc24-71b4c3f44f28\", \"inputPath\": \"/Sintel.2010.1080p.mkv\"}]}\n",
      "2020-04-05 11:48:31,929 bitmovin_api_sdk.common.bitmovin_api_logger.BitmovinApiLogger DEBUG    RESPONSE: {\"requestId\":\"25c61db3-a562-489f-9455-0f50572457cd\",\"status\":\"SUCCESS\",\"data\":{\"result\":{\"id\":\"69ab1577-d01c-4a55-9635-ac45dee7b367\",\"createdAt\":\"2020-04-05T02:48:33Z\",\"customDataCreatedAt\":\"2020-04-05T02:48:33Z\",\"modifiedAt\":\"2020-04-05T02:48:33Z\",\"inputStreams\":[{\"id\":\"dfca5c8c-0e04-4388-9461-d56a04b0acfe\",\"inputId\":\"620f6680-37cd-442c-bc24-71b4c3f44f28\",\"inputPath\":\"/Sintel.2010.1080p.mkv\",\"position\":0}],\"createQualityMetaData\":false,\"codecConfigId\":\"79e73af6-c888-4924-8926-16449dbd3515\",\"segmentsEncoded\":0},\"messages\":[{\"id\":\"20b577e7-198d-437c-af23-d4d4c6a7f122\",\"date\":\"2020-04-05T02:48:33Z\",\"type\":\"INFO\",\"text\":\"Successfully created Stream!\"}]}}\n"
     ]
    }
   ],
   "source": [
    "h265_stream = _createStream(encoder, input.id, \"/Sintel.2010.1080p.mkv\", h265_config)"
   ]
  },
  {
   "cell_type": "code",
   "execution_count": 34,
   "metadata": {},
   "outputs": [
    {
     "name": "stdout",
     "output_type": "stream",
     "text": [
      "2020-04-05 11:48:31,940 bitmovin_api_sdk.common.bitmovin_api_logger.BitmovinApiLogger DEBUG    REQUEST: GET https://api.bitmovin.com/v1/encoding/configurations/video/vp9/8934d528-80f6-4c9c-94f7-67b3bb5ea476\n",
      "2020-04-05 11:48:32,382 bitmovin_api_sdk.common.bitmovin_api_logger.BitmovinApiLogger DEBUG    RESPONSE: {\"requestId\":\"157dd73e-be8e-48a0-92a9-67fa96487f5d\",\"status\":\"SUCCESS\",\"data\":{\"result\":{\"id\":\"8934d528-80f6-4c9c-94f7-67b3bb5ea476\",\"name\":\"VP9 1080p 3.490Mbps\",\"createdAt\":\"2020-04-04T16:17:19Z\",\"modifiedAt\":\"2020-04-04T16:17:19Z\",\"bitrate\":3480000,\"height\":1080,\"encodingMode\":\"TWO_PASS\",\"presetConfiguration\":\"VOD_STANDARD\",\"tileColumns\":0,\"tileRows\":0,\"frameParallel\":false,\"qpMin\":0,\"qpMax\":63,\"rateUndershootPct\":25,\"rateOvershootPct\":25,\"quality\":\"GOOD\",\"lossless\":false,\"aqMode\":\"NONE\",\"arnrMaxFrames\":0,\"arnrStrength\":3,\"arnrType\":\"CENTERED\"},\"messages\":[{\"date\":\"2020-04-05T02:48:33Z\",\"type\":\"INFO\",\"text\":\"Successfully retrieved VP9 video configuration!\"}]}}\n"
     ]
    }
   ],
   "source": [
    "vp9_config = _getVp9Configuration()"
   ]
  },
  {
   "cell_type": "code",
   "execution_count": 35,
   "metadata": {
    "scrolled": true
   },
   "outputs": [
    {
     "name": "stdout",
     "output_type": "stream",
     "text": [
      "2020-04-05 11:48:32,394 bitmovin_api_sdk.common.bitmovin_api_logger.BitmovinApiLogger DEBUG    REQUEST: POST https://api.bitmovin.com/v1/encoding/encodings/c18b735f-c298-473d-94a6-24c9480d81d3/streams  --> {\"inputStreams\": [{\"inputId\": \"620f6680-37cd-442c-bc24-71b4c3f44f28\", \"inputPath\": \"/Sintel.2010.1080p.mkv\"}], \"codecConfigId\": \"8934d528-80f6-4c9c-94f7-67b3bb5ea476\"}\n",
      "2020-04-05 11:48:32,396 bitmovin_api_sdk.common.bitmovin_api_logger.BitmovinApiLogger DEBUG    Serialized request object: {\"codecConfigId\": \"8934d528-80f6-4c9c-94f7-67b3bb5ea476\", \"inputStreams\": [{\"inputId\": \"620f6680-37cd-442c-bc24-71b4c3f44f28\", \"inputPath\": \"/Sintel.2010.1080p.mkv\"}]}\n",
      "2020-04-05 11:48:32,795 bitmovin_api_sdk.common.bitmovin_api_logger.BitmovinApiLogger DEBUG    RESPONSE: {\"requestId\":\"65291abf-2beb-46da-ab86-a26f97aee7d2\",\"status\":\"SUCCESS\",\"data\":{\"result\":{\"id\":\"3ca6d481-825e-47d1-a745-97a84f466dc7\",\"createdAt\":\"2020-04-05T02:48:33Z\",\"customDataCreatedAt\":\"2020-04-05T02:48:33Z\",\"modifiedAt\":\"2020-04-05T02:48:33Z\",\"inputStreams\":[{\"id\":\"408214ab-808b-4266-83e5-8f6b07a512c5\",\"inputId\":\"620f6680-37cd-442c-bc24-71b4c3f44f28\",\"inputPath\":\"/Sintel.2010.1080p.mkv\",\"position\":0}],\"createQualityMetaData\":false,\"codecConfigId\":\"8934d528-80f6-4c9c-94f7-67b3bb5ea476\",\"segmentsEncoded\":0},\"messages\":[{\"id\":\"9fd4d769-4d58-4d6b-b3c2-8fc0f2d984da\",\"date\":\"2020-04-05T02:48:33Z\",\"type\":\"INFO\",\"text\":\"Successfully created Stream!\"}]}}\n"
     ]
    }
   ],
   "source": [
    "vp9_stream = _createStream(encoder, input.id, \"/Sintel.2010.1080p.mkv\", vp9_config)"
   ]
  },
  {
   "cell_type": "raw",
   "metadata": {},
   "source": [
    "h264mp4mux = _createMp4Mux(encoding = encoder, \\\n",
    "              output = gcs_output, \\\n",
    "              output_path = 'mp4-h264-aac',\\\n",
    "              mystreams = [h264_stream, aac_stream],\\\n",
    "              file_name = 'video.mp4')"
   ]
  },
  {
   "cell_type": "code",
   "execution_count": 36,
   "metadata": {},
   "outputs": [
    {
     "name": "stdout",
     "output_type": "stream",
     "text": [
      "2020-04-05 11:48:32,811 bitmovin_api_sdk.common.bitmovin_api_logger.BitmovinApiLogger DEBUG    REQUEST: POST https://api.bitmovin.com/v1/encoding/encodings/c18b735f-c298-473d-94a6-24c9480d81d3/muxings/fmp4  --> {\"streams\": [{\"streamId\": \"e0d88cbd-7c0f-4f78-a116-348e8b6ff77d\"}], \"outputs\": [{\"outputId\": \"50d0e12b-3117-48a1-aeb1-92ff71b30a7d\", \"outputPath\": \"/video/MultiCodec/fmp4-h264\", \"acl\": [{\"permission\": \"PUBLIC_READ\"}]}], \"segmentLength\": 4.0, \"type\": \"FMP4\"}\n",
      "2020-04-05 11:48:32,813 bitmovin_api_sdk.common.bitmovin_api_logger.BitmovinApiLogger DEBUG    Serialized request object: {\"outputs\": [{\"acl\": [{\"permission\": \"PUBLIC_READ\"}], \"outputId\": \"50d0e12b-3117-48a1-aeb1-92ff71b30a7d\", \"outputPath\": \"/video/MultiCodec/fmp4-h264\"}], \"segmentLength\": 4.0, \"streams\": [{\"streamId\": \"e0d88cbd-7c0f-4f78-a116-348e8b6ff77d\"}], \"type\": \"FMP4\"}\n",
      "2020-04-05 11:48:33,306 bitmovin_api_sdk.common.bitmovin_api_logger.BitmovinApiLogger DEBUG    RESPONSE: {\"requestId\":\"49573a09-8af6-4031-991a-75459311e6d8\",\"status\":\"SUCCESS\",\"data\":{\"result\":{\"id\":\"7bacee52-b55f-4718-9c24-543738fe4414\",\"streams\":[{\"streamId\":\"e0d88cbd-7c0f-4f78-a116-348e8b6ff77d\"}],\"outputs\":[{\"outputId\":\"50d0e12b-3117-48a1-aeb1-92ff71b30a7d\",\"outputPath\":\"/video/MultiCodec/fmp4-h264\",\"acl\":[{\"permission\":\"PUBLIC_READ\"}]}],\"streamConditionsMode\":\"DROP_MUXING\",\"segmentLength\":4.0,\"segmentNaming\":\"segment_%number%.m4s\",\"initSegmentName\":\"init.mp4\"},\"messages\":[{\"id\":\"7cbfefcb-1d92-4f34-a40f-5264b86d6996\",\"date\":\"2020-04-05T02:48:34Z\",\"type\":\"INFO\",\"text\":\"Fragmented MP4 muxing created successfully\"}]}}\n"
     ]
    }
   ],
   "source": [
    "h264fmp4mux = _createFmp4Mux(encoding = encoder, \\\n",
    "              output = gcs_output, \\\n",
    "              output_path = 'fmp4-h264',\\\n",
    "              mystreams = [h264_stream])"
   ]
  },
  {
   "cell_type": "code",
   "execution_count": 37,
   "metadata": {},
   "outputs": [
    {
     "name": "stdout",
     "output_type": "stream",
     "text": [
      "2020-04-05 11:48:33,318 bitmovin_api_sdk.common.bitmovin_api_logger.BitmovinApiLogger DEBUG    REQUEST: POST https://api.bitmovin.com/v1/encoding/encodings/c18b735f-c298-473d-94a6-24c9480d81d3/muxings/fmp4  --> {\"streams\": [{\"streamId\": \"f9ea5e2b-feac-491b-ab44-cc74337139c1\"}], \"outputs\": [{\"outputId\": \"50d0e12b-3117-48a1-aeb1-92ff71b30a7d\", \"outputPath\": \"/video/MultiCodec/fmp4-aac\", \"acl\": [{\"permission\": \"PUBLIC_READ\"}]}], \"segmentLength\": 4.0, \"type\": \"FMP4\"}\n",
      "2020-04-05 11:48:33,319 bitmovin_api_sdk.common.bitmovin_api_logger.BitmovinApiLogger DEBUG    Serialized request object: {\"outputs\": [{\"acl\": [{\"permission\": \"PUBLIC_READ\"}], \"outputId\": \"50d0e12b-3117-48a1-aeb1-92ff71b30a7d\", \"outputPath\": \"/video/MultiCodec/fmp4-aac\"}], \"segmentLength\": 4.0, \"streams\": [{\"streamId\": \"f9ea5e2b-feac-491b-ab44-cc74337139c1\"}], \"type\": \"FMP4\"}\n",
      "2020-04-05 11:48:33,699 bitmovin_api_sdk.common.bitmovin_api_logger.BitmovinApiLogger DEBUG    RESPONSE: {\"requestId\":\"26e4ecc4-3e25-4a06-810a-ee354e1a5d74\",\"status\":\"SUCCESS\",\"data\":{\"result\":{\"id\":\"ec79ab1c-5f81-4ede-afdd-365d450229bc\",\"streams\":[{\"streamId\":\"f9ea5e2b-feac-491b-ab44-cc74337139c1\"}],\"outputs\":[{\"outputId\":\"50d0e12b-3117-48a1-aeb1-92ff71b30a7d\",\"outputPath\":\"/video/MultiCodec/fmp4-aac\",\"acl\":[{\"permission\":\"PUBLIC_READ\"}]}],\"streamConditionsMode\":\"DROP_MUXING\",\"segmentLength\":4.0,\"segmentNaming\":\"segment_%number%.m4s\",\"initSegmentName\":\"init.mp4\"},\"messages\":[{\"id\":\"f33c1d50-9247-4516-b49e-242dc0b2cbb0\",\"date\":\"2020-04-05T02:48:34Z\",\"type\":\"INFO\",\"text\":\"Fragmented MP4 muxing created successfully\"}]}}\n"
     ]
    }
   ],
   "source": [
    "audiofmp4mux = _createFmp4Mux(encoding = encoder, \\\n",
    "              output = gcs_output, \\\n",
    "              output_path = 'fmp4-aac',\\\n",
    "              mystreams = [aac_stream])"
   ]
  },
  {
   "cell_type": "raw",
   "metadata": {},
   "source": [
    "h265mp4mux = _createMp4Mux(encoding = encoder, \\\n",
    "              output = gcs_output, \\\n",
    "              output_path = 'mp4-h265-aac',\\\n",
    "              mystreams = [h265_stream, aac_stream],\\\n",
    "              file_name = 'video.mp4')"
   ]
  },
  {
   "cell_type": "code",
   "execution_count": 38,
   "metadata": {},
   "outputs": [
    {
     "name": "stdout",
     "output_type": "stream",
     "text": [
      "2020-04-05 11:48:33,712 bitmovin_api_sdk.common.bitmovin_api_logger.BitmovinApiLogger DEBUG    REQUEST: POST https://api.bitmovin.com/v1/encoding/encodings/c18b735f-c298-473d-94a6-24c9480d81d3/muxings/fmp4  --> {\"streams\": [{\"streamId\": \"69ab1577-d01c-4a55-9635-ac45dee7b367\"}], \"outputs\": [{\"outputId\": \"50d0e12b-3117-48a1-aeb1-92ff71b30a7d\", \"outputPath\": \"/video/MultiCodec/mp4-h265\", \"acl\": [{\"permission\": \"PUBLIC_READ\"}]}], \"segmentLength\": 4.0, \"type\": \"FMP4\"}\n",
      "2020-04-05 11:48:33,715 bitmovin_api_sdk.common.bitmovin_api_logger.BitmovinApiLogger DEBUG    Serialized request object: {\"outputs\": [{\"acl\": [{\"permission\": \"PUBLIC_READ\"}], \"outputId\": \"50d0e12b-3117-48a1-aeb1-92ff71b30a7d\", \"outputPath\": \"/video/MultiCodec/mp4-h265\"}], \"segmentLength\": 4.0, \"streams\": [{\"streamId\": \"69ab1577-d01c-4a55-9635-ac45dee7b367\"}], \"type\": \"FMP4\"}\n",
      "2020-04-05 11:48:34,223 bitmovin_api_sdk.common.bitmovin_api_logger.BitmovinApiLogger DEBUG    RESPONSE: {\"requestId\":\"be08dcd7-d4b6-428b-a9db-349e9aedad06\",\"status\":\"SUCCESS\",\"data\":{\"result\":{\"id\":\"ff8db7af-e563-4d7e-98ee-6a98541394b8\",\"streams\":[{\"streamId\":\"69ab1577-d01c-4a55-9635-ac45dee7b367\"}],\"outputs\":[{\"outputId\":\"50d0e12b-3117-48a1-aeb1-92ff71b30a7d\",\"outputPath\":\"/video/MultiCodec/mp4-h265\",\"acl\":[{\"permission\":\"PUBLIC_READ\"}]}],\"streamConditionsMode\":\"DROP_MUXING\",\"segmentLength\":4.0,\"segmentNaming\":\"segment_%number%.m4s\",\"initSegmentName\":\"init.mp4\"},\"messages\":[{\"id\":\"a3bf24a3-e7fa-465c-a8a5-a25fa8f75260\",\"date\":\"2020-04-05T02:48:35Z\",\"type\":\"INFO\",\"text\":\"Fragmented MP4 muxing created successfully\"}]}}\n"
     ]
    }
   ],
   "source": [
    "h265fmp4mux = _createFmp4Mux(encoding = encoder, \\\n",
    "              output = gcs_output, \\\n",
    "              output_path = 'mp4-h265',\\\n",
    "              mystreams = [h265_stream])"
   ]
  },
  {
   "cell_type": "code",
   "execution_count": 39,
   "metadata": {
    "scrolled": true
   },
   "outputs": [
    {
     "name": "stdout",
     "output_type": "stream",
     "text": [
      "2020-04-05 11:48:34,235 bitmovin_api_sdk.common.bitmovin_api_logger.BitmovinApiLogger DEBUG    REQUEST: POST https://api.bitmovin.com/v1/encoding/encodings/c18b735f-c298-473d-94a6-24c9480d81d3/muxings/progressive-webm  --> {\"streams\": [{\"streamId\": \"3ca6d481-825e-47d1-a745-97a84f466dc7\"}, {\"streamId\": \"62a287e1-190e-47ff-b37e-2fd898a546f3\"}], \"outputs\": [{\"outputId\": \"50d0e12b-3117-48a1-aeb1-92ff71b30a7d\", \"outputPath\": \"/video/MultiCodec/webm-vp9-opus\", \"acl\": [{\"permission\": \"PUBLIC_READ\"}]}], \"filename\": \"video.webm\", \"type\": \"PROGRESSIVE_WEBM\"}\n",
      "2020-04-05 11:48:34,237 bitmovin_api_sdk.common.bitmovin_api_logger.BitmovinApiLogger DEBUG    Serialized request object: {\"filename\": \"video.webm\", \"outputs\": [{\"acl\": [{\"permission\": \"PUBLIC_READ\"}], \"outputId\": \"50d0e12b-3117-48a1-aeb1-92ff71b30a7d\", \"outputPath\": \"/video/MultiCodec/webm-vp9-opus\"}], \"streams\": [{\"streamId\": \"3ca6d481-825e-47d1-a745-97a84f466dc7\"}, {\"streamId\": \"62a287e1-190e-47ff-b37e-2fd898a546f3\"}], \"type\": \"PROGRESSIVE_WEBM\"}\n",
      "2020-04-05 11:48:34,627 bitmovin_api_sdk.common.bitmovin_api_logger.BitmovinApiLogger DEBUG    RESPONSE: {\"requestId\":\"73032512-6afd-4056-8c04-8794e0190875\",\"status\":\"SUCCESS\",\"data\":{\"result\":{\"id\":\"2fa7e77e-a561-4834-b5bf-11e070dea4f0\",\"createdAt\":\"2020-04-05T02:48:35Z\",\"modifiedAt\":\"2020-04-05T02:48:35Z\",\"streams\":[{\"streamId\":\"3ca6d481-825e-47d1-a745-97a84f466dc7\"},{\"streamId\":\"62a287e1-190e-47ff-b37e-2fd898a546f3\"}],\"outputs\":[{\"outputId\":\"50d0e12b-3117-48a1-aeb1-92ff71b30a7d\",\"outputPath\":\"/video/MultiCodec/webm-vp9-opus\",\"acl\":[{\"permission\":\"PUBLIC_READ\"}]}],\"streamConditionsMode\":\"DROP_MUXING\",\"filename\":\"video.webm\"},\"messages\":[{\"id\":\"7a460513-781a-4826-8c82-45248dc9b9f3\",\"date\":\"2020-04-05T02:48:35Z\",\"type\":\"INFO\",\"text\":\"Progressive WebM muxing created successfully\"}]}}\n"
     ]
    }
   ],
   "source": [
    "vp9webmmux = _createProgressiveWebmMux(encoding = encoder, \\\n",
    "              output = gcs_output, \\\n",
    "              output_path = 'webm-vp9-opus',\\\n",
    "              mystreams = [vp9_stream, opus_stream],\\\n",
    "              file_name = 'video.webm')"
   ]
  },
  {
   "cell_type": "code",
   "execution_count": 84,
   "metadata": {},
   "outputs": [
    {
     "name": "stdout",
     "output_type": "stream",
     "text": [
      "2020-04-05 14:03:19,539 bitmovin_api_sdk.common.bitmovin_api_logger.BitmovinApiLogger DEBUG    REQUEST: POST https://api.bitmovin.com/v1/encoding/encodings/952c8d4f-ee3e-45d9-88ba-b8a967ffaa15/muxings/progressive-ts  --> {\"streams\": [{\"streamId\": \"0cd062d9-2762-42e7-a33f-530c11f3cc19\"}], \"outputs\": [{\"outputId\": \"50d0e12b-3117-48a1-aeb1-92ff71b30a7d\", \"outputPath\": \"/video/MultiCodec/progressivets-h264\", \"acl\": [{\"permission\": \"PUBLIC_READ\"}]}], \"filename\": \"video.ts\", \"type\": \"PROGRESSIVE_TS\"}\n",
      "2020-04-05 14:03:19,541 bitmovin_api_sdk.common.bitmovin_api_logger.BitmovinApiLogger DEBUG    Serialized request object: {\"filename\": \"video.ts\", \"outputs\": [{\"acl\": [{\"permission\": \"PUBLIC_READ\"}], \"outputId\": \"50d0e12b-3117-48a1-aeb1-92ff71b30a7d\", \"outputPath\": \"/video/MultiCodec/progressivets-h264\"}], \"streams\": [{\"streamId\": \"0cd062d9-2762-42e7-a33f-530c11f3cc19\"}], \"type\": \"PROGRESSIVE_TS\"}\n",
      "2020-04-05 14:03:20,002 bitmovin_api_sdk.common.bitmovin_api_logger.BitmovinApiLogger DEBUG    RESPONSE: {\"requestId\":\"86783972-1520-4355-ac03-b4e08999b13f\",\"status\":\"SUCCESS\",\"data\":{\"result\":{\"id\":\"a6afd989-d21c-4b69-ab5d-3209dae8a21c\",\"createdAt\":\"2020-04-05T05:03:20Z\",\"modifiedAt\":\"2020-04-05T05:03:20Z\",\"filename\":\"video.ts\",\"streamConditionsMode\":\"DROP_MUXING\",\"outputs\":[{\"outputId\":\"50d0e12b-3117-48a1-aeb1-92ff71b30a7d\",\"outputPath\":\"/video/MultiCodec/progressivets-h264\",\"acl\":[{\"permission\":\"PUBLIC_READ\"}]}],\"streams\":[{\"streamId\":\"0cd062d9-2762-42e7-a33f-530c11f3cc19\"}]},\"messages\":[{\"id\":\"4ef2dddd-a1f5-4ad4-be60-480ebc3ab8e3\",\"date\":\"2020-04-05T05:03:20Z\",\"type\":\"INFO\",\"text\":\"Progressive TS Muxing created successfully\"}]}}\n"
     ]
    }
   ],
   "source": [
    "videotsmux = _createProgressiveTSMux(encoding = encoder, \\\n",
    "              output = gcs_output, \\\n",
    "              output_path = 'progressivets-h264',\\\n",
    "              mystreams = [h264_stream],\\\n",
    "              file_name = 'video.ts')"
   ]
  },
  {
   "cell_type": "code",
   "execution_count": 85,
   "metadata": {},
   "outputs": [
    {
     "name": "stdout",
     "output_type": "stream",
     "text": [
      "2020-04-05 14:03:22,870 bitmovin_api_sdk.common.bitmovin_api_logger.BitmovinApiLogger DEBUG    REQUEST: POST https://api.bitmovin.com/v1/encoding/encodings/952c8d4f-ee3e-45d9-88ba-b8a967ffaa15/muxings/progressive-ts  --> {\"streams\": [{\"streamId\": \"d5382d70-9cd4-4879-bd35-8e121a3ebbf5\"}], \"outputs\": [{\"outputId\": \"50d0e12b-3117-48a1-aeb1-92ff71b30a7d\", \"outputPath\": \"/video/MultiCodec/progressivets-aac\", \"acl\": [{\"permission\": \"PUBLIC_READ\"}]}], \"filename\": \"audio.ts\", \"type\": \"PROGRESSIVE_TS\"}\n",
      "2020-04-05 14:03:22,873 bitmovin_api_sdk.common.bitmovin_api_logger.BitmovinApiLogger DEBUG    Serialized request object: {\"filename\": \"audio.ts\", \"outputs\": [{\"acl\": [{\"permission\": \"PUBLIC_READ\"}], \"outputId\": \"50d0e12b-3117-48a1-aeb1-92ff71b30a7d\", \"outputPath\": \"/video/MultiCodec/progressivets-aac\"}], \"streams\": [{\"streamId\": \"d5382d70-9cd4-4879-bd35-8e121a3ebbf5\"}], \"type\": \"PROGRESSIVE_TS\"}\n",
      "2020-04-05 14:03:23,377 bitmovin_api_sdk.common.bitmovin_api_logger.BitmovinApiLogger DEBUG    RESPONSE: {\"requestId\":\"6b278ed5-e8b2-4894-a105-3f06231cc41e\",\"status\":\"SUCCESS\",\"data\":{\"result\":{\"id\":\"14609c5f-aaa9-4d48-8880-a54cc6bf3f67\",\"createdAt\":\"2020-04-05T05:03:23Z\",\"modifiedAt\":\"2020-04-05T05:03:23Z\",\"filename\":\"audio.ts\",\"streamConditionsMode\":\"DROP_MUXING\",\"outputs\":[{\"outputId\":\"50d0e12b-3117-48a1-aeb1-92ff71b30a7d\",\"outputPath\":\"/video/MultiCodec/progressivets-aac\",\"acl\":[{\"permission\":\"PUBLIC_READ\"}]}],\"streams\":[{\"streamId\":\"d5382d70-9cd4-4879-bd35-8e121a3ebbf5\"}]},\"messages\":[{\"id\":\"7c4db2c1-1814-4073-93c0-8fbe97988a26\",\"date\":\"2020-04-05T05:03:23Z\",\"type\":\"INFO\",\"text\":\"Progressive TS Muxing created successfully\"}]}}\n"
     ]
    }
   ],
   "source": [
    "audiotsmux = _createProgressiveTSMux(encoding = encoder, \\\n",
    "              output = gcs_output, \\\n",
    "              output_path = 'progressivets-aac',\\\n",
    "              mystreams = [aac_stream],\\\n",
    "              file_name = 'audio.ts')"
   ]
  },
  {
   "cell_type": "code",
   "execution_count": null,
   "metadata": {},
   "outputs": [],
   "source": [
    "bitmovin_api.encoding.encodings.start(encoding_id=encoder.id)"
   ]
  },
  {
   "cell_type": "code",
   "execution_count": 72,
   "metadata": {},
   "outputs": [
    {
     "name": "stdout",
     "output_type": "stream",
     "text": [
      "2020-04-05 13:41:12,520 bitmovin_api_sdk.common.bitmovin_api_logger.BitmovinApiLogger DEBUG    REQUEST: GET https://api.bitmovin.com/v1/encoding/encodings/03ccf3c5-aa78-445f-8ad4-934f5542db24/status\n",
      "2020-04-05 13:41:12,858 bitmovin_api_sdk.common.bitmovin_api_logger.BitmovinApiLogger DEBUG    RESPONSE: {\"requestId\":\"4b361ffb-9c0e-4153-a762-ac8ae0f010a9\",\"status\":\"SUCCESS\",\"data\":{\"result\":{\"id\":\"696e879a-68ee-4089-a397-3fc48fb324e9\",\"createdAt\":\"2020-04-05T04:37:51Z\",\"queuedAt\":\"2020-04-05T04:41:11Z\",\"eta\":120.0,\"progress\":0,\"status\":\"QUEUED\"},\"messages\":[{\"id\":\"606fb685-ead5-49ce-9273-43f6bdc3f5fe\",\"date\":\"2020-04-05T04:41:13Z\",\"type\":\"INFO\",\"text\":\"Successfully retrieved status of Encoding with id 03ccf3c5-aa78-445f-8ad4-934f5542db24!\"}]}}\n",
      "2020-04-05 13:41:17,865 bitmovin_api_sdk.common.bitmovin_api_logger.BitmovinApiLogger DEBUG    REQUEST: GET https://api.bitmovin.com/v1/encoding/encodings/03ccf3c5-aa78-445f-8ad4-934f5542db24/status\n",
      "2020-04-05 13:41:18,199 bitmovin_api_sdk.common.bitmovin_api_logger.BitmovinApiLogger DEBUG    RESPONSE: {\"requestId\":\"a41617e8-b14e-4cc4-9f14-b77166bc2c96\",\"status\":\"SUCCESS\",\"data\":{\"result\":{\"id\":\"696e879a-68ee-4089-a397-3fc48fb324e9\",\"createdAt\":\"2020-04-05T04:37:51Z\",\"queuedAt\":\"2020-04-05T04:41:11Z\",\"eta\":120.0,\"progress\":0,\"status\":\"QUEUED\"},\"messages\":[{\"id\":\"7172948f-8382-4626-b882-b177c20c407e\",\"date\":\"2020-04-05T04:41:18Z\",\"type\":\"INFO\",\"text\":\"Successfully retrieved status of Encoding with id 03ccf3c5-aa78-445f-8ad4-934f5542db24!\"}]}}\n",
      "Encoding status is Status.QUEUED (progress: 0 %)\n",
      "2020-04-05 13:41:23,206 bitmovin_api_sdk.common.bitmovin_api_logger.BitmovinApiLogger DEBUG    REQUEST: GET https://api.bitmovin.com/v1/encoding/encodings/03ccf3c5-aa78-445f-8ad4-934f5542db24/status\n",
      "2020-04-05 13:41:23,551 bitmovin_api_sdk.common.bitmovin_api_logger.BitmovinApiLogger DEBUG    RESPONSE: {\"requestId\":\"c8f950f9-e8de-4cee-bc1d-ab8a247c81e3\",\"status\":\"SUCCESS\",\"data\":{\"result\":{\"id\":\"696e879a-68ee-4089-a397-3fc48fb324e9\",\"createdAt\":\"2020-04-05T04:37:51Z\",\"queuedAt\":\"2020-04-05T04:41:11Z\",\"eta\":120.0,\"progress\":0,\"status\":\"QUEUED\"},\"messages\":[{\"id\":\"a3fe53d0-35c4-437d-9a3e-7eb3af3b0f40\",\"date\":\"2020-04-05T04:41:24Z\",\"type\":\"INFO\",\"text\":\"Successfully retrieved status of Encoding with id 03ccf3c5-aa78-445f-8ad4-934f5542db24!\"}]}}\n",
      "Encoding status is Status.QUEUED (progress: 0 %)\n",
      "2020-04-05 13:41:28,554 bitmovin_api_sdk.common.bitmovin_api_logger.BitmovinApiLogger DEBUG    REQUEST: GET https://api.bitmovin.com/v1/encoding/encodings/03ccf3c5-aa78-445f-8ad4-934f5542db24/status\n",
      "2020-04-05 13:41:28,891 bitmovin_api_sdk.common.bitmovin_api_logger.BitmovinApiLogger DEBUG    RESPONSE: {\"requestId\":\"bf3f607f-49a5-4f06-8f38-a781a52f3573\",\"status\":\"SUCCESS\",\"data\":{\"result\":{\"id\":\"696e879a-68ee-4089-a397-3fc48fb324e9\",\"createdAt\":\"2020-04-05T04:37:51Z\",\"queuedAt\":\"2020-04-05T04:41:11Z\",\"eta\":120.0,\"progress\":0,\"status\":\"QUEUED\"},\"messages\":[{\"id\":\"38c52353-33e5-4fc5-bc7a-ca6923d822db\",\"date\":\"2020-04-05T04:41:29Z\",\"type\":\"INFO\",\"text\":\"Successfully retrieved status of Encoding with id 03ccf3c5-aa78-445f-8ad4-934f5542db24!\"}]}}\n",
      "Encoding status is Status.QUEUED (progress: 0 %)\n",
      "2020-04-05 13:41:33,898 bitmovin_api_sdk.common.bitmovin_api_logger.BitmovinApiLogger DEBUG    REQUEST: GET https://api.bitmovin.com/v1/encoding/encodings/03ccf3c5-aa78-445f-8ad4-934f5542db24/status\n",
      "2020-04-05 13:41:34,300 bitmovin_api_sdk.common.bitmovin_api_logger.BitmovinApiLogger DEBUG    RESPONSE: {\"requestId\":\"5f3da388-aaad-40da-bbc8-fcecab1786c2\",\"status\":\"SUCCESS\",\"data\":{\"result\":{\"id\":\"696e879a-68ee-4089-a397-3fc48fb324e9\",\"createdAt\":\"2020-04-05T04:37:51Z\",\"queuedAt\":\"2020-04-05T04:41:11Z\",\"eta\":120.0,\"progress\":0,\"status\":\"QUEUED\"},\"messages\":[{\"id\":\"fa436466-9f32-4314-816c-0af4f07a8033\",\"date\":\"2020-04-05T04:41:34Z\",\"type\":\"INFO\",\"text\":\"Successfully retrieved status of Encoding with id 03ccf3c5-aa78-445f-8ad4-934f5542db24!\"}]}}\n",
      "Encoding status is Status.QUEUED (progress: 0 %)\n",
      "2020-04-05 13:41:39,305 bitmovin_api_sdk.common.bitmovin_api_logger.BitmovinApiLogger DEBUG    REQUEST: GET https://api.bitmovin.com/v1/encoding/encodings/03ccf3c5-aa78-445f-8ad4-934f5542db24/status\n",
      "2020-04-05 13:41:39,633 bitmovin_api_sdk.common.bitmovin_api_logger.BitmovinApiLogger DEBUG    RESPONSE: {\"requestId\":\"6eb614c8-e542-4d6f-bb9b-bd80a947f65c\",\"status\":\"SUCCESS\",\"data\":{\"result\":{\"id\":\"696e879a-68ee-4089-a397-3fc48fb324e9\",\"createdAt\":\"2020-04-05T04:37:51Z\",\"queuedAt\":\"2020-04-05T04:41:11Z\",\"eta\":120.0,\"progress\":0,\"status\":\"QUEUED\"},\"messages\":[{\"id\":\"c7126908-5ce1-47a4-b902-f67efbdcf348\",\"date\":\"2020-04-05T04:41:40Z\",\"type\":\"INFO\",\"text\":\"Successfully retrieved status of Encoding with id 03ccf3c5-aa78-445f-8ad4-934f5542db24!\"}]}}\n",
      "Encoding status is Status.QUEUED (progress: 0 %)\n",
      "2020-04-05 13:41:44,639 bitmovin_api_sdk.common.bitmovin_api_logger.BitmovinApiLogger DEBUG    REQUEST: GET https://api.bitmovin.com/v1/encoding/encodings/03ccf3c5-aa78-445f-8ad4-934f5542db24/status\n",
      "2020-04-05 13:41:45,052 bitmovin_api_sdk.common.bitmovin_api_logger.BitmovinApiLogger DEBUG    RESPONSE: {\"requestId\":\"3fe25492-f047-48b9-9324-040e7e8e40f6\",\"status\":\"SUCCESS\",\"data\":{\"result\":{\"id\":\"696e879a-68ee-4089-a397-3fc48fb324e9\",\"createdAt\":\"2020-04-05T04:37:51Z\",\"queuedAt\":\"2020-04-05T04:41:11Z\",\"eta\":120.0,\"progress\":0,\"status\":\"QUEUED\"},\"messages\":[{\"id\":\"d1342e1b-ff45-49df-a0a1-3424139451a2\",\"date\":\"2020-04-05T04:41:45Z\",\"type\":\"INFO\",\"text\":\"Successfully retrieved status of Encoding with id 03ccf3c5-aa78-445f-8ad4-934f5542db24!\"}]}}\n",
      "Encoding status is Status.QUEUED (progress: 0 %)\n",
      "2020-04-05 13:41:50,058 bitmovin_api_sdk.common.bitmovin_api_logger.BitmovinApiLogger DEBUG    REQUEST: GET https://api.bitmovin.com/v1/encoding/encodings/03ccf3c5-aa78-445f-8ad4-934f5542db24/status\n",
      "2020-04-05 13:41:50,479 bitmovin_api_sdk.common.bitmovin_api_logger.BitmovinApiLogger DEBUG    RESPONSE: {\"requestId\":\"eed66210-e175-4c67-a7a2-dcced353747f\",\"status\":\"SUCCESS\",\"data\":{\"result\":{\"id\":\"696e879a-68ee-4089-a397-3fc48fb324e9\",\"createdAt\":\"2020-04-05T04:37:51Z\",\"queuedAt\":\"2020-04-05T04:41:11Z\",\"eta\":120.0,\"progress\":0,\"status\":\"QUEUED\"},\"messages\":[{\"id\":\"6770cbcc-47b7-4702-810f-2bdad32d4222\",\"date\":\"2020-04-05T04:41:51Z\",\"type\":\"INFO\",\"text\":\"Successfully retrieved status of Encoding with id 03ccf3c5-aa78-445f-8ad4-934f5542db24!\"}]}}\n",
      "Encoding status is Status.QUEUED (progress: 0 %)\n",
      "2020-04-05 13:41:55,484 bitmovin_api_sdk.common.bitmovin_api_logger.BitmovinApiLogger DEBUG    REQUEST: GET https://api.bitmovin.com/v1/encoding/encodings/03ccf3c5-aa78-445f-8ad4-934f5542db24/status\n",
      "2020-04-05 13:41:55,906 bitmovin_api_sdk.common.bitmovin_api_logger.BitmovinApiLogger DEBUG    RESPONSE: {\"requestId\":\"819f2189-c74c-4235-a5bf-8397ff90920e\",\"status\":\"SUCCESS\",\"data\":{\"result\":{\"id\":\"696e879a-68ee-4089-a397-3fc48fb324e9\",\"createdAt\":\"2020-04-05T04:37:51Z\",\"queuedAt\":\"2020-04-05T04:41:11Z\",\"eta\":120.0,\"progress\":0,\"status\":\"QUEUED\"},\"messages\":[{\"id\":\"67c7a1c7-e051-442c-951a-facf2fee5b7d\",\"date\":\"2020-04-05T04:41:56Z\",\"type\":\"INFO\",\"text\":\"Successfully retrieved status of Encoding with id 03ccf3c5-aa78-445f-8ad4-934f5542db24!\"}]}}\n",
      "Encoding status is Status.QUEUED (progress: 0 %)\n",
      "2020-04-05 13:42:00,912 bitmovin_api_sdk.common.bitmovin_api_logger.BitmovinApiLogger DEBUG    REQUEST: GET https://api.bitmovin.com/v1/encoding/encodings/03ccf3c5-aa78-445f-8ad4-934f5542db24/status\n",
      "2020-04-05 13:42:01,243 bitmovin_api_sdk.common.bitmovin_api_logger.BitmovinApiLogger DEBUG    RESPONSE: {\"requestId\":\"7ddd8840-ac04-41cf-b041-fcc222ecb080\",\"status\":\"SUCCESS\",\"data\":{\"result\":{\"id\":\"696e879a-68ee-4089-a397-3fc48fb324e9\",\"createdAt\":\"2020-04-05T04:37:51Z\",\"queuedAt\":\"2020-04-05T04:41:11Z\",\"eta\":120.0,\"progress\":0,\"status\":\"QUEUED\"},\"messages\":[{\"id\":\"a0bca4c2-b6d2-4225-9d49-c22800bcb534\",\"date\":\"2020-04-05T04:42:01Z\",\"type\":\"INFO\",\"text\":\"Successfully retrieved status of Encoding with id 03ccf3c5-aa78-445f-8ad4-934f5542db24!\"}]}}\n",
      "Encoding status is Status.QUEUED (progress: 0 %)\n",
      "2020-04-05 13:42:06,247 bitmovin_api_sdk.common.bitmovin_api_logger.BitmovinApiLogger DEBUG    REQUEST: GET https://api.bitmovin.com/v1/encoding/encodings/03ccf3c5-aa78-445f-8ad4-934f5542db24/status\n",
      "2020-04-05 13:42:06,654 bitmovin_api_sdk.common.bitmovin_api_logger.BitmovinApiLogger DEBUG    RESPONSE: {\"requestId\":\"d344a81d-b6f2-42b2-8017-f43a4499c2f0\",\"status\":\"SUCCESS\",\"data\":{\"result\":{\"id\":\"696e879a-68ee-4089-a397-3fc48fb324e9\",\"createdAt\":\"2020-04-05T04:37:51Z\",\"queuedAt\":\"2020-04-05T04:41:11Z\",\"eta\":120.0,\"progress\":0,\"status\":\"QUEUED\"},\"messages\":[{\"id\":\"92749c9d-2cdb-47d4-aa44-a917f5d09c34\",\"date\":\"2020-04-05T04:42:07Z\",\"type\":\"INFO\",\"text\":\"Successfully retrieved status of Encoding with id 03ccf3c5-aa78-445f-8ad4-934f5542db24!\"}]}}\n"
     ]
    },
    {
     "name": "stdout",
     "output_type": "stream",
     "text": [
      "Encoding status is Status.QUEUED (progress: 0 %)\n",
      "2020-04-05 13:42:11,662 bitmovin_api_sdk.common.bitmovin_api_logger.BitmovinApiLogger DEBUG    REQUEST: GET https://api.bitmovin.com/v1/encoding/encodings/03ccf3c5-aa78-445f-8ad4-934f5542db24/status\n",
      "2020-04-05 13:42:11,998 bitmovin_api_sdk.common.bitmovin_api_logger.BitmovinApiLogger DEBUG    RESPONSE: {\"requestId\":\"ac2598b4-850d-4af3-b72c-d9617c7ab7cc\",\"status\":\"SUCCESS\",\"data\":{\"result\":{\"id\":\"696e879a-68ee-4089-a397-3fc48fb324e9\",\"createdAt\":\"2020-04-05T04:37:51Z\",\"queuedAt\":\"2020-04-05T04:41:11Z\",\"eta\":120.0,\"progress\":0,\"status\":\"QUEUED\"},\"messages\":[{\"id\":\"e9a4892e-4be6-4eff-b59a-11288448e298\",\"date\":\"2020-04-05T04:42:12Z\",\"type\":\"INFO\",\"text\":\"Successfully retrieved status of Encoding with id 03ccf3c5-aa78-445f-8ad4-934f5542db24!\"}]}}\n",
      "Encoding status is Status.QUEUED (progress: 0 %)\n",
      "2020-04-05 13:42:17,000 bitmovin_api_sdk.common.bitmovin_api_logger.BitmovinApiLogger DEBUG    REQUEST: GET https://api.bitmovin.com/v1/encoding/encodings/03ccf3c5-aa78-445f-8ad4-934f5542db24/status\n",
      "2020-04-05 13:42:17,409 bitmovin_api_sdk.common.bitmovin_api_logger.BitmovinApiLogger DEBUG    RESPONSE: {\"requestId\":\"20ae2c18-4f1d-4fe5-bd07-2a1572673bb8\",\"status\":\"SUCCESS\",\"data\":{\"result\":{\"id\":\"696e879a-68ee-4089-a397-3fc48fb324e9\",\"createdAt\":\"2020-04-05T04:37:51Z\",\"queuedAt\":\"2020-04-05T04:41:11Z\",\"eta\":120.0,\"progress\":0,\"status\":\"QUEUED\"},\"messages\":[{\"id\":\"dea92e66-0331-4d9c-9201-8ffeb6da69d3\",\"date\":\"2020-04-05T04:42:18Z\",\"type\":\"INFO\",\"text\":\"Successfully retrieved status of Encoding with id 03ccf3c5-aa78-445f-8ad4-934f5542db24!\"}]}}\n",
      "Encoding status is Status.QUEUED (progress: 0 %)\n",
      "2020-04-05 13:42:22,415 bitmovin_api_sdk.common.bitmovin_api_logger.BitmovinApiLogger DEBUG    REQUEST: GET https://api.bitmovin.com/v1/encoding/encodings/03ccf3c5-aa78-445f-8ad4-934f5542db24/status\n",
      "2020-04-05 13:42:22,766 bitmovin_api_sdk.common.bitmovin_api_logger.BitmovinApiLogger DEBUG    RESPONSE: {\"requestId\":\"b0a73ab0-2bae-4a3e-ad2f-416b48bba89a\",\"status\":\"SUCCESS\",\"data\":{\"result\":{\"id\":\"696e879a-68ee-4089-a397-3fc48fb324e9\",\"createdAt\":\"2020-04-05T04:37:51Z\",\"queuedAt\":\"2020-04-05T04:41:11Z\",\"eta\":120.0,\"progress\":0,\"status\":\"QUEUED\"},\"messages\":[{\"id\":\"24070e43-76fc-4038-8e92-089e4db8819d\",\"date\":\"2020-04-05T04:42:23Z\",\"type\":\"INFO\",\"text\":\"Successfully retrieved status of Encoding with id 03ccf3c5-aa78-445f-8ad4-934f5542db24!\"}]}}\n",
      "Encoding status is Status.QUEUED (progress: 0 %)\n",
      "2020-04-05 13:42:27,774 bitmovin_api_sdk.common.bitmovin_api_logger.BitmovinApiLogger DEBUG    REQUEST: GET https://api.bitmovin.com/v1/encoding/encodings/03ccf3c5-aa78-445f-8ad4-934f5542db24/status\n",
      "2020-04-05 13:42:28,161 bitmovin_api_sdk.common.bitmovin_api_logger.BitmovinApiLogger DEBUG    RESPONSE: {\"requestId\":\"98f7852d-8e9f-4fa5-8a28-1284118323b9\",\"status\":\"SUCCESS\",\"data\":{\"result\":{\"id\":\"696e879a-68ee-4089-a397-3fc48fb324e9\",\"createdAt\":\"2020-04-05T04:37:51Z\",\"queuedAt\":\"2020-04-05T04:41:11Z\",\"eta\":120.0,\"progress\":0,\"status\":\"QUEUED\"},\"messages\":[{\"id\":\"61741446-85c3-4ba6-b849-48289d41bc53\",\"date\":\"2020-04-05T04:42:28Z\",\"type\":\"INFO\",\"text\":\"Successfully retrieved status of Encoding with id 03ccf3c5-aa78-445f-8ad4-934f5542db24!\"}]}}\n",
      "Encoding status is Status.QUEUED (progress: 0 %)\n",
      "2020-04-05 13:42:33,168 bitmovin_api_sdk.common.bitmovin_api_logger.BitmovinApiLogger DEBUG    REQUEST: GET https://api.bitmovin.com/v1/encoding/encodings/03ccf3c5-aa78-445f-8ad4-934f5542db24/status\n",
      "2020-04-05 13:42:33,499 bitmovin_api_sdk.common.bitmovin_api_logger.BitmovinApiLogger DEBUG    RESPONSE: {\"requestId\":\"0a7c56d9-2f3e-4e97-b6b3-294952105a0e\",\"status\":\"SUCCESS\",\"data\":{\"result\":{\"id\":\"696e879a-68ee-4089-a397-3fc48fb324e9\",\"createdAt\":\"2020-04-05T04:37:51Z\",\"queuedAt\":\"2020-04-05T04:41:11Z\",\"eta\":120.0,\"progress\":0,\"status\":\"QUEUED\"},\"messages\":[{\"id\":\"8d402996-eb83-4be4-8b00-355e44c821f4\",\"date\":\"2020-04-05T04:42:34Z\",\"type\":\"INFO\",\"text\":\"Successfully retrieved status of Encoding with id 03ccf3c5-aa78-445f-8ad4-934f5542db24!\"}]}}\n",
      "Encoding status is Status.QUEUED (progress: 0 %)\n",
      "2020-04-05 13:42:38,502 bitmovin_api_sdk.common.bitmovin_api_logger.BitmovinApiLogger DEBUG    REQUEST: GET https://api.bitmovin.com/v1/encoding/encodings/03ccf3c5-aa78-445f-8ad4-934f5542db24/status\n",
      "2020-04-05 13:42:38,823 bitmovin_api_sdk.common.bitmovin_api_logger.BitmovinApiLogger DEBUG    RESPONSE: {\"requestId\":\"d1cf494f-804c-4fbc-b4be-0aa0393d0554\",\"status\":\"SUCCESS\",\"data\":{\"result\":{\"id\":\"696e879a-68ee-4089-a397-3fc48fb324e9\",\"createdAt\":\"2020-04-05T04:37:51Z\",\"queuedAt\":\"2020-04-05T04:41:11Z\",\"eta\":120.0,\"progress\":0,\"status\":\"QUEUED\"},\"messages\":[{\"id\":\"6f5138cb-9f74-4050-89f1-1caeffe751c7\",\"date\":\"2020-04-05T04:42:39Z\",\"type\":\"INFO\",\"text\":\"Successfully retrieved status of Encoding with id 03ccf3c5-aa78-445f-8ad4-934f5542db24!\"}]}}\n",
      "Encoding status is Status.QUEUED (progress: 0 %)\n",
      "2020-04-05 13:42:43,825 bitmovin_api_sdk.common.bitmovin_api_logger.BitmovinApiLogger DEBUG    REQUEST: GET https://api.bitmovin.com/v1/encoding/encodings/03ccf3c5-aa78-445f-8ad4-934f5542db24/status\n",
      "2020-04-05 13:42:44,238 bitmovin_api_sdk.common.bitmovin_api_logger.BitmovinApiLogger DEBUG    RESPONSE: {\"requestId\":\"9be11a20-9a46-466f-8e67-f6a027777e21\",\"status\":\"SUCCESS\",\"data\":{\"result\":{\"id\":\"696e879a-68ee-4089-a397-3fc48fb324e9\",\"createdAt\":\"2020-04-05T04:37:51Z\",\"queuedAt\":\"2020-04-05T04:41:11Z\",\"eta\":120.0,\"progress\":0,\"status\":\"QUEUED\"},\"messages\":[{\"id\":\"78300f57-12b7-4314-b036-df0e9fcb65b1\",\"date\":\"2020-04-05T04:42:44Z\",\"type\":\"INFO\",\"text\":\"Successfully retrieved status of Encoding with id 03ccf3c5-aa78-445f-8ad4-934f5542db24!\"}]}}\n",
      "Encoding status is Status.QUEUED (progress: 0 %)\n",
      "2020-04-05 13:42:49,244 bitmovin_api_sdk.common.bitmovin_api_logger.BitmovinApiLogger DEBUG    REQUEST: GET https://api.bitmovin.com/v1/encoding/encodings/03ccf3c5-aa78-445f-8ad4-934f5542db24/status\n",
      "2020-04-05 13:42:49,665 bitmovin_api_sdk.common.bitmovin_api_logger.BitmovinApiLogger DEBUG    RESPONSE: {\"requestId\":\"c43e268f-6634-41ec-ac07-7d2058c43080\",\"status\":\"SUCCESS\",\"data\":{\"result\":{\"id\":\"696e879a-68ee-4089-a397-3fc48fb324e9\",\"createdAt\":\"2020-04-05T04:37:51Z\",\"queuedAt\":\"2020-04-05T04:41:11Z\",\"eta\":120.0,\"progress\":0,\"status\":\"QUEUED\"},\"messages\":[{\"id\":\"15bc94a1-915d-4bd9-8218-164b605bb938\",\"date\":\"2020-04-05T04:42:50Z\",\"type\":\"INFO\",\"text\":\"Successfully retrieved status of Encoding with id 03ccf3c5-aa78-445f-8ad4-934f5542db24!\"}]}}\n",
      "Encoding status is Status.QUEUED (progress: 0 %)\n",
      "2020-04-05 13:42:54,671 bitmovin_api_sdk.common.bitmovin_api_logger.BitmovinApiLogger DEBUG    REQUEST: GET https://api.bitmovin.com/v1/encoding/encodings/03ccf3c5-aa78-445f-8ad4-934f5542db24/status\n",
      "2020-04-05 13:42:55,095 bitmovin_api_sdk.common.bitmovin_api_logger.BitmovinApiLogger DEBUG    RESPONSE: {\"requestId\":\"29a0eb00-510e-4f3d-aef1-3b1c798fcae6\",\"status\":\"SUCCESS\",\"data\":{\"result\":{\"id\":\"696e879a-68ee-4089-a397-3fc48fb324e9\",\"createdAt\":\"2020-04-05T04:37:51Z\",\"queuedAt\":\"2020-04-05T04:41:11Z\",\"eta\":120.0,\"progress\":0,\"status\":\"QUEUED\"},\"messages\":[{\"id\":\"789bcd65-0615-45d4-aff2-a58cba1aedf3\",\"date\":\"2020-04-05T04:42:55Z\",\"type\":\"INFO\",\"text\":\"Successfully retrieved status of Encoding with id 03ccf3c5-aa78-445f-8ad4-934f5542db24!\"}]}}\n",
      "Encoding status is Status.QUEUED (progress: 0 %)\n",
      "2020-04-05 13:43:00,098 bitmovin_api_sdk.common.bitmovin_api_logger.BitmovinApiLogger DEBUG    REQUEST: GET https://api.bitmovin.com/v1/encoding/encodings/03ccf3c5-aa78-445f-8ad4-934f5542db24/status\n",
      "2020-04-05 13:43:00,519 bitmovin_api_sdk.common.bitmovin_api_logger.BitmovinApiLogger DEBUG    RESPONSE: {\"requestId\":\"4dfab0de-5135-4e90-98f8-432b1e231c12\",\"status\":\"SUCCESS\",\"data\":{\"result\":{\"id\":\"696e879a-68ee-4089-a397-3fc48fb324e9\",\"createdAt\":\"2020-04-05T04:37:51Z\",\"queuedAt\":\"2020-04-05T04:41:11Z\",\"eta\":120.0,\"progress\":0,\"status\":\"QUEUED\"},\"messages\":[{\"id\":\"469d50b7-2382-47e8-bbc5-9e1aaa7a86ac\",\"date\":\"2020-04-05T04:43:01Z\",\"type\":\"INFO\",\"text\":\"Successfully retrieved status of Encoding with id 03ccf3c5-aa78-445f-8ad4-934f5542db24!\"}]}}\n",
      "Encoding status is Status.QUEUED (progress: 0 %)\n",
      "2020-04-05 13:43:05,526 bitmovin_api_sdk.common.bitmovin_api_logger.BitmovinApiLogger DEBUG    REQUEST: GET https://api.bitmovin.com/v1/encoding/encodings/03ccf3c5-aa78-445f-8ad4-934f5542db24/status\n"
     ]
    },
    {
     "name": "stdout",
     "output_type": "stream",
     "text": [
      "2020-04-05 13:43:05,947 bitmovin_api_sdk.common.bitmovin_api_logger.BitmovinApiLogger DEBUG    RESPONSE: {\"requestId\":\"1219cb4e-421d-4dcd-a69f-d7439d42df68\",\"status\":\"SUCCESS\",\"data\":{\"result\":{\"id\":\"696e879a-68ee-4089-a397-3fc48fb324e9\",\"createdAt\":\"2020-04-05T04:37:51Z\",\"queuedAt\":\"2020-04-05T04:41:11Z\",\"eta\":120.0,\"progress\":0,\"status\":\"QUEUED\"},\"messages\":[{\"id\":\"f4225e31-01c5-4a91-b823-d19a6c4ec384\",\"date\":\"2020-04-05T04:43:06Z\",\"type\":\"INFO\",\"text\":\"Successfully retrieved status of Encoding with id 03ccf3c5-aa78-445f-8ad4-934f5542db24!\"}]}}\n",
      "Encoding status is Status.QUEUED (progress: 0 %)\n",
      "2020-04-05 13:43:10,953 bitmovin_api_sdk.common.bitmovin_api_logger.BitmovinApiLogger DEBUG    REQUEST: GET https://api.bitmovin.com/v1/encoding/encodings/03ccf3c5-aa78-445f-8ad4-934f5542db24/status\n",
      "2020-04-05 13:43:11,363 bitmovin_api_sdk.common.bitmovin_api_logger.BitmovinApiLogger DEBUG    RESPONSE: {\"requestId\":\"6db1d6a1-fdec-4f9f-8e9b-8319e1c61efc\",\"status\":\"SUCCESS\",\"data\":{\"result\":{\"id\":\"696e879a-68ee-4089-a397-3fc48fb324e9\",\"createdAt\":\"2020-04-05T04:37:51Z\",\"queuedAt\":\"2020-04-05T04:41:11Z\",\"runningAt\":\"2020-04-05T04:43:08Z\",\"eta\":500.0,\"progress\":5,\"status\":\"RUNNING\",\"messages\":[{\"id\":\"3032d2b5-1a58-4965-ad7c-d3f074ae5b86\",\"type\":\"INFO\",\"date\":\"2020-04-05T04:43:08Z\",\"text\":\"Download of input file in progress.\"}],\"subtasks\":[{\"id\":\"93c96a29-f3da-41bb-bf1f-58d56635a83f\",\"name\":\"Input file download\",\"runningAt\":\"2020-04-05T04:43:08Z\",\"updatedAt\":\"2020-04-05T04:43:08Z\",\"progress\":0,\"status\":\"RUNNING\"}]},\"messages\":[{\"id\":\"dc71ef0d-6720-48d7-861c-3642eac339dd\",\"date\":\"2020-04-05T04:43:11Z\",\"type\":\"INFO\",\"text\":\"Successfully retrieved status of Encoding with id 03ccf3c5-aa78-445f-8ad4-934f5542db24!\"}]}}\n",
      "Encoding status is Status.RUNNING (progress: 5 %)\n",
      "2020-04-05 13:43:16,369 bitmovin_api_sdk.common.bitmovin_api_logger.BitmovinApiLogger DEBUG    REQUEST: GET https://api.bitmovin.com/v1/encoding/encodings/03ccf3c5-aa78-445f-8ad4-934f5542db24/status\n",
      "2020-04-05 13:43:16,749 bitmovin_api_sdk.common.bitmovin_api_logger.BitmovinApiLogger DEBUG    RESPONSE: {\"requestId\":\"d3aa9e54-8db1-41d4-85a8-b86623a8955f\",\"status\":\"SUCCESS\",\"data\":{\"result\":{\"id\":\"696e879a-68ee-4089-a397-3fc48fb324e9\",\"createdAt\":\"2020-04-05T04:37:51Z\",\"queuedAt\":\"2020-04-05T04:41:11Z\",\"runningAt\":\"2020-04-05T04:43:08Z\",\"eta\":100.0,\"progress\":18,\"status\":\"RUNNING\",\"messages\":[{\"id\":\"3032d2b5-1a58-4965-ad7c-d3f074ae5b86\",\"type\":\"INFO\",\"date\":\"2020-04-05T04:43:08Z\",\"text\":\"Download of input file in progress.\"},{\"id\":\"b5fc1c77-0d62-4d92-8724-c4bfd10c5eb9\",\"type\":\"INFO\",\"date\":\"2020-04-05T04:43:13Z\",\"text\":\"Analyzing input in progress.\"},{\"id\":\"ea898311-1a00-4b1a-bd19-6eeb3b1de0fb\",\"type\":\"DEBUG\",\"date\":\"2020-04-05T04:43:15Z\",\"text\":\"Probing input file finished.\"},{\"id\":\"e4419ef5-c784-4622-bb79-638e4163ccb2\",\"type\":\"INFO\",\"date\":\"2020-04-05T04:43:15Z\",\"text\":\"Encoding in progress.\"},{\"id\":\"1093a9e5-dcf6-4781-904e-a9f7eb6e58fe\",\"type\":\"DEBUG\",\"date\":\"2020-04-05T04:43:15Z\",\"text\":\"Setting up encoding configuration finished.\"},{\"id\":\"fbd40b30-d8cf-4e39-b528-40b2476d29e3\",\"type\":\"DEBUG\",\"date\":\"2020-04-05T04:43:15Z\",\"text\":\"Probing input file.\"},{\"id\":\"d03aa2e2-8452-4c4f-a0f4-b26b0efa2d08\",\"type\":\"INFO\",\"date\":\"2020-04-05T04:43:13Z\",\"text\":\"Download of input file finished\"},{\"id\":\"a07c6a30-fc19-4ad7-9398-e28b5a70cbe2\",\"type\":\"DEBUG\",\"date\":\"2020-04-05T04:43:15Z\",\"text\":\"Encoding on cluster started.\"},{\"id\":\"91f9d98f-91ce-4c66-a690-3d1d0504d157\",\"type\":\"INFO\",\"date\":\"2020-04-05T04:43:14Z\",\"text\":\"Analyzing input finished.\"}],\"subtasks\":[{\"id\":\"93c96a29-f3da-41bb-bf1f-58d56635a83f\",\"name\":\"Input file download\",\"runningAt\":\"2020-04-05T04:43:08Z\",\"updatedAt\":\"2020-04-05T04:43:13Z\",\"finishedAt\":\"2020-04-05T04:43:13Z\",\"progress\":100,\"status\":\"FINISHED\",\"metadata\":[{\"date\":\"2020-04-05T04:43:13Z\",\"data\":{\"size\":1172428172}}]},{\"id\":\"01018213-f08e-43fb-af96-36a6cae88b08\",\"name\":\"Input file analysis\",\"runningAt\":\"2020-04-05T04:43:13Z\",\"updatedAt\":\"2020-04-05T04:43:14Z\",\"finishedAt\":\"2020-04-05T04:43:14Z\",\"progress\":100,\"status\":\"FINISHED\"},{\"id\":\"47a27b18-02f4-4686-90f3-d9fb200275cc\",\"name\":\"Encoding\",\"runningAt\":\"2020-04-05T04:43:15Z\",\"updatedAt\":\"2020-04-05T04:43:15Z\",\"progress\":0,\"status\":\"RUNNING\"},{\"id\":\"2f4abaeb-9bbe-417a-a82c-af2867f79457\",\"name\":\"Analysis\",\"runningAt\":\"2020-04-05T04:43:17Z\",\"updatedAt\":\"2020-04-05T04:43:17Z\",\"progress\":0,\"status\":\"RUNNING\",\"metadata\":[{\"date\":\"2020-04-05T04:43:17Z\",\"data\":{\"framesAnalysed\":0}}]}]},\"messages\":[{\"id\":\"64f944c4-e674-4f9b-839d-a0e19a9ffb9e\",\"date\":\"2020-04-05T04:43:17Z\",\"type\":\"INFO\",\"text\":\"Successfully retrieved status of Encoding with id 03ccf3c5-aa78-445f-8ad4-934f5542db24!\"}]}}\n",
      "Encoding status is Status.RUNNING (progress: 18 %)\n",
      "2020-04-05 13:43:21,759 bitmovin_api_sdk.common.bitmovin_api_logger.BitmovinApiLogger DEBUG    REQUEST: GET https://api.bitmovin.com/v1/encoding/encodings/03ccf3c5-aa78-445f-8ad4-934f5542db24/status\n",
      "2020-04-05 13:43:22,126 bitmovin_api_sdk.common.bitmovin_api_logger.BitmovinApiLogger DEBUG    RESPONSE: {\"requestId\":\"66b6db2f-e567-442a-b014-cccd871eceac\",\"status\":\"SUCCESS\",\"data\":{\"result\":{\"id\":\"696e879a-68ee-4089-a397-3fc48fb324e9\",\"createdAt\":\"2020-04-05T04:37:51Z\",\"queuedAt\":\"2020-04-05T04:41:11Z\",\"runningAt\":\"2020-04-05T04:43:08Z\",\"eta\":100.0,\"progress\":18,\"status\":\"RUNNING\",\"messages\":[{\"id\":\"d03aa2e2-8452-4c4f-a0f4-b26b0efa2d08\",\"type\":\"INFO\",\"date\":\"2020-04-05T04:43:13Z\",\"text\":\"Download of input file finished\"},{\"id\":\"e4419ef5-c784-4622-bb79-638e4163ccb2\",\"type\":\"INFO\",\"date\":\"2020-04-05T04:43:15Z\",\"text\":\"Encoding in progress.\"},{\"id\":\"fbd40b30-d8cf-4e39-b528-40b2476d29e3\",\"type\":\"DEBUG\",\"date\":\"2020-04-05T04:43:15Z\",\"text\":\"Probing input file.\"},{\"id\":\"1093a9e5-dcf6-4781-904e-a9f7eb6e58fe\",\"type\":\"DEBUG\",\"date\":\"2020-04-05T04:43:15Z\",\"text\":\"Setting up encoding configuration finished.\"},{\"id\":\"3032d2b5-1a58-4965-ad7c-d3f074ae5b86\",\"type\":\"INFO\",\"date\":\"2020-04-05T04:43:08Z\",\"text\":\"Download of input file in progress.\"},{\"id\":\"b5fc1c77-0d62-4d92-8724-c4bfd10c5eb9\",\"type\":\"INFO\",\"date\":\"2020-04-05T04:43:13Z\",\"text\":\"Analyzing input in progress.\"},{\"id\":\"91f9d98f-91ce-4c66-a690-3d1d0504d157\",\"type\":\"INFO\",\"date\":\"2020-04-05T04:43:14Z\",\"text\":\"Analyzing input finished.\"},{\"id\":\"ea898311-1a00-4b1a-bd19-6eeb3b1de0fb\",\"type\":\"DEBUG\",\"date\":\"2020-04-05T04:43:15Z\",\"text\":\"Probing input file finished.\"},{\"id\":\"a07c6a30-fc19-4ad7-9398-e28b5a70cbe2\",\"type\":\"DEBUG\",\"date\":\"2020-04-05T04:43:15Z\",\"text\":\"Encoding on cluster started.\"}],\"subtasks\":[{\"id\":\"93c96a29-f3da-41bb-bf1f-58d56635a83f\",\"name\":\"Input file download\",\"runningAt\":\"2020-04-05T04:43:08Z\",\"updatedAt\":\"2020-04-05T04:43:13Z\",\"finishedAt\":\"2020-04-05T04:43:13Z\",\"progress\":100,\"status\":\"FINISHED\",\"metadata\":[{\"date\":\"2020-04-05T04:43:13Z\",\"data\":{\"size\":1172428172}}]},{\"id\":\"01018213-f08e-43fb-af96-36a6cae88b08\",\"name\":\"Input file analysis\",\"runningAt\":\"2020-04-05T04:43:13Z\",\"updatedAt\":\"2020-04-05T04:43:14Z\",\"finishedAt\":\"2020-04-05T04:43:14Z\",\"progress\":100,\"status\":\"FINISHED\"},{\"id\":\"47a27b18-02f4-4686-90f3-d9fb200275cc\",\"name\":\"Encoding\",\"runningAt\":\"2020-04-05T04:43:15Z\",\"updatedAt\":\"2020-04-05T04:43:15Z\",\"progress\":0,\"status\":\"RUNNING\"},{\"id\":\"2f4abaeb-9bbe-417a-a82c-af2867f79457\",\"name\":\"Analysis\",\"runningAt\":\"2020-04-05T04:43:17Z\",\"updatedAt\":\"2020-04-05T04:43:17Z\",\"progress\":0,\"status\":\"RUNNING\",\"metadata\":[{\"date\":\"2020-04-05T04:43:17Z\",\"data\":{\"framesAnalysed\":0}}]}]},\"messages\":[{\"id\":\"94eaae0c-a8ff-4d79-a1d8-13bf0f7d487e\",\"date\":\"2020-04-05T04:43:22Z\",\"type\":\"INFO\",\"text\":\"Successfully retrieved status of Encoding with id 03ccf3c5-aa78-445f-8ad4-934f5542db24!\"}]}}\n",
      "Encoding status is Status.RUNNING (progress: 18 %)\n",
      "2020-04-05 13:43:27,139 bitmovin_api_sdk.common.bitmovin_api_logger.BitmovinApiLogger DEBUG    REQUEST: GET https://api.bitmovin.com/v1/encoding/encodings/03ccf3c5-aa78-445f-8ad4-934f5542db24/status\n",
      "2020-04-05 13:43:27,586 bitmovin_api_sdk.common.bitmovin_api_logger.BitmovinApiLogger DEBUG    RESPONSE: {\"requestId\":\"57355666-e2f6-4fd5-abf3-c1796df8b286\",\"status\":\"SUCCESS\",\"data\":{\"result\":{\"id\":\"696e879a-68ee-4089-a397-3fc48fb324e9\",\"createdAt\":\"2020-04-05T04:37:51Z\",\"queuedAt\":\"2020-04-05T04:41:11Z\",\"runningAt\":\"2020-04-05T04:43:08Z\",\"eta\":100.0,\"progress\":40,\"status\":\"RUNNING\",\"messages\":[{\"id\":\"a07c6a30-fc19-4ad7-9398-e28b5a70cbe2\",\"type\":\"DEBUG\",\"date\":\"2020-04-05T04:43:15Z\",\"text\":\"Encoding on cluster started.\"},{\"id\":\"e4419ef5-c784-4622-bb79-638e4163ccb2\",\"type\":\"INFO\",\"date\":\"2020-04-05T04:43:15Z\",\"text\":\"Encoding in progress.\"},{\"id\":\"fbd40b30-d8cf-4e39-b528-40b2476d29e3\",\"type\":\"DEBUG\",\"date\":\"2020-04-05T04:43:15Z\",\"text\":\"Probing input file.\"},{\"id\":\"d03aa2e2-8452-4c4f-a0f4-b26b0efa2d08\",\"type\":\"INFO\",\"date\":\"2020-04-05T04:43:13Z\",\"text\":\"Download of input file finished\"},{\"id\":\"1093a9e5-dcf6-4781-904e-a9f7eb6e58fe\",\"type\":\"DEBUG\",\"date\":\"2020-04-05T04:43:15Z\",\"text\":\"Setting up encoding configuration finished.\"},{\"id\":\"91f9d98f-91ce-4c66-a690-3d1d0504d157\",\"type\":\"INFO\",\"date\":\"2020-04-05T04:43:14Z\",\"text\":\"Analyzing input finished.\"},{\"id\":\"3032d2b5-1a58-4965-ad7c-d3f074ae5b86\",\"type\":\"INFO\",\"date\":\"2020-04-05T04:43:08Z\",\"text\":\"Download of input file in progress.\"},{\"id\":\"b5fc1c77-0d62-4d92-8724-c4bfd10c5eb9\",\"type\":\"INFO\",\"date\":\"2020-04-05T04:43:13Z\",\"text\":\"Analyzing input in progress.\"},{\"id\":\"ea898311-1a00-4b1a-bd19-6eeb3b1de0fb\",\"type\":\"DEBUG\",\"date\":\"2020-04-05T04:43:15Z\",\"text\":\"Probing input file finished.\"}],\"subtasks\":[{\"id\":\"93c96a29-f3da-41bb-bf1f-58d56635a83f\",\"name\":\"Input file download\",\"runningAt\":\"2020-04-05T04:43:08Z\",\"updatedAt\":\"2020-04-05T04:43:13Z\",\"finishedAt\":\"2020-04-05T04:43:13Z\",\"progress\":100,\"status\":\"FINISHED\",\"metadata\":[{\"date\":\"2020-04-05T04:43:13Z\",\"data\":{\"size\":1172428172}}]},{\"id\":\"01018213-f08e-43fb-af96-36a6cae88b08\",\"name\":\"Input file analysis\",\"runningAt\":\"2020-04-05T04:43:13Z\",\"updatedAt\":\"2020-04-05T04:43:14Z\",\"finishedAt\":\"2020-04-05T04:43:14Z\",\"progress\":100,\"status\":\"FINISHED\"},{\"id\":\"2f4abaeb-9bbe-417a-a82c-af2867f79457\",\"name\":\"Analysis\",\"runningAt\":\"2020-04-05T04:43:17Z\",\"updatedAt\":\"2020-04-05T04:43:27Z\",\"finishedAt\":\"2020-04-05T04:43:27Z\",\"progress\":100,\"status\":\"FINISHED\",\"metadata\":[{\"date\":\"2020-04-05T04:43:17Z\",\"data\":{\"framesAnalysed\":0}}]},{\"id\":\"47a27b18-02f4-4686-90f3-d9fb200275cc\",\"name\":\"Encoding\",\"runningAt\":\"2020-04-05T04:43:15Z\",\"updatedAt\":\"2020-04-05T04:43:27Z\",\"progress\":0,\"status\":\"RUNNING\",\"metadata\":[{\"date\":\"2020-04-05T04:43:27Z\",\"data\":{\"bytesEncoded\":5441297,\"avgFramesEncodedPerSecond\":0.0,\"framesEncoded\":96,\"realtimeFactor\":0.0}}]}]},\"messages\":[{\"id\":\"1515fa61-22e3-4137-9ce5-af3771454b60\",\"date\":\"2020-04-05T04:43:28Z\",\"type\":\"INFO\",\"text\":\"Successfully retrieved status of Encoding with id 03ccf3c5-aa78-445f-8ad4-934f5542db24!\"}]}}\n"
     ]
    },
    {
     "name": "stdout",
     "output_type": "stream",
     "text": [
      "Encoding status is Status.RUNNING (progress: 40 %)\n",
      "2020-04-05 13:43:32,595 bitmovin_api_sdk.common.bitmovin_api_logger.BitmovinApiLogger DEBUG    REQUEST: GET https://api.bitmovin.com/v1/encoding/encodings/03ccf3c5-aa78-445f-8ad4-934f5542db24/status\n",
      "2020-04-05 13:43:32,968 bitmovin_api_sdk.common.bitmovin_api_logger.BitmovinApiLogger DEBUG    RESPONSE: {\"requestId\":\"ffabfd7a-0892-4b7b-b220-3593d37ac59c\",\"status\":\"SUCCESS\",\"data\":{\"result\":{\"id\":\"696e879a-68ee-4089-a397-3fc48fb324e9\",\"createdAt\":\"2020-04-05T04:37:51Z\",\"queuedAt\":\"2020-04-05T04:41:11Z\",\"runningAt\":\"2020-04-05T04:43:08Z\",\"eta\":100.0,\"progress\":40,\"status\":\"RUNNING\",\"messages\":[{\"id\":\"b5fc1c77-0d62-4d92-8724-c4bfd10c5eb9\",\"type\":\"INFO\",\"date\":\"2020-04-05T04:43:13Z\",\"text\":\"Analyzing input in progress.\"},{\"id\":\"d03aa2e2-8452-4c4f-a0f4-b26b0efa2d08\",\"type\":\"INFO\",\"date\":\"2020-04-05T04:43:13Z\",\"text\":\"Download of input file finished\"},{\"id\":\"fbd40b30-d8cf-4e39-b528-40b2476d29e3\",\"type\":\"DEBUG\",\"date\":\"2020-04-05T04:43:15Z\",\"text\":\"Probing input file.\"},{\"id\":\"3032d2b5-1a58-4965-ad7c-d3f074ae5b86\",\"type\":\"INFO\",\"date\":\"2020-04-05T04:43:08Z\",\"text\":\"Download of input file in progress.\"},{\"id\":\"1093a9e5-dcf6-4781-904e-a9f7eb6e58fe\",\"type\":\"DEBUG\",\"date\":\"2020-04-05T04:43:15Z\",\"text\":\"Setting up encoding configuration finished.\"},{\"id\":\"91f9d98f-91ce-4c66-a690-3d1d0504d157\",\"type\":\"INFO\",\"date\":\"2020-04-05T04:43:14Z\",\"text\":\"Analyzing input finished.\"},{\"id\":\"ea898311-1a00-4b1a-bd19-6eeb3b1de0fb\",\"type\":\"DEBUG\",\"date\":\"2020-04-05T04:43:15Z\",\"text\":\"Probing input file finished.\"},{\"id\":\"a07c6a30-fc19-4ad7-9398-e28b5a70cbe2\",\"type\":\"DEBUG\",\"date\":\"2020-04-05T04:43:15Z\",\"text\":\"Encoding on cluster started.\"},{\"id\":\"e4419ef5-c784-4622-bb79-638e4163ccb2\",\"type\":\"INFO\",\"date\":\"2020-04-05T04:43:15Z\",\"text\":\"Encoding in progress.\"}],\"subtasks\":[{\"id\":\"93c96a29-f3da-41bb-bf1f-58d56635a83f\",\"name\":\"Input file download\",\"runningAt\":\"2020-04-05T04:43:08Z\",\"updatedAt\":\"2020-04-05T04:43:13Z\",\"finishedAt\":\"2020-04-05T04:43:13Z\",\"progress\":100,\"status\":\"FINISHED\",\"metadata\":[{\"date\":\"2020-04-05T04:43:13Z\",\"data\":{\"size\":1172428172}}]},{\"id\":\"01018213-f08e-43fb-af96-36a6cae88b08\",\"name\":\"Input file analysis\",\"runningAt\":\"2020-04-05T04:43:13Z\",\"updatedAt\":\"2020-04-05T04:43:14Z\",\"finishedAt\":\"2020-04-05T04:43:14Z\",\"progress\":100,\"status\":\"FINISHED\"},{\"id\":\"2f4abaeb-9bbe-417a-a82c-af2867f79457\",\"name\":\"Analysis\",\"runningAt\":\"2020-04-05T04:43:17Z\",\"updatedAt\":\"2020-04-05T04:43:27Z\",\"finishedAt\":\"2020-04-05T04:43:27Z\",\"progress\":100,\"status\":\"FINISHED\",\"metadata\":[{\"date\":\"2020-04-05T04:43:17Z\",\"data\":{\"framesAnalysed\":0}}]},{\"id\":\"47a27b18-02f4-4686-90f3-d9fb200275cc\",\"name\":\"Encoding\",\"runningAt\":\"2020-04-05T04:43:15Z\",\"updatedAt\":\"2020-04-05T04:43:27Z\",\"progress\":0,\"status\":\"RUNNING\",\"metadata\":[{\"date\":\"2020-04-05T04:43:27Z\",\"data\":{\"bytesEncoded\":5441297,\"avgFramesEncodedPerSecond\":0.0,\"framesEncoded\":96,\"realtimeFactor\":0.0}}]}]},\"messages\":[{\"id\":\"56a11310-ff32-4590-af37-ed3cda853648\",\"date\":\"2020-04-05T04:43:33Z\",\"type\":\"INFO\",\"text\":\"Successfully retrieved status of Encoding with id 03ccf3c5-aa78-445f-8ad4-934f5542db24!\"}]}}\n",
      "Encoding status is Status.RUNNING (progress: 40 %)\n",
      "2020-04-05 13:43:37,983 bitmovin_api_sdk.common.bitmovin_api_logger.BitmovinApiLogger DEBUG    REQUEST: GET https://api.bitmovin.com/v1/encoding/encodings/03ccf3c5-aa78-445f-8ad4-934f5542db24/status\n",
      "2020-04-05 13:43:38,407 bitmovin_api_sdk.common.bitmovin_api_logger.BitmovinApiLogger DEBUG    RESPONSE: {\"requestId\":\"33df1d70-1488-4181-b349-d0441acfc568\",\"status\":\"SUCCESS\",\"data\":{\"result\":{\"id\":\"696e879a-68ee-4089-a397-3fc48fb324e9\",\"createdAt\":\"2020-04-05T04:37:51Z\",\"queuedAt\":\"2020-04-05T04:41:11Z\",\"runningAt\":\"2020-04-05T04:43:08Z\",\"eta\":100.0,\"progress\":40,\"status\":\"RUNNING\",\"messages\":[{\"id\":\"a07c6a30-fc19-4ad7-9398-e28b5a70cbe2\",\"type\":\"DEBUG\",\"date\":\"2020-04-05T04:43:15Z\",\"text\":\"Encoding on cluster started.\"},{\"id\":\"fbd40b30-d8cf-4e39-b528-40b2476d29e3\",\"type\":\"DEBUG\",\"date\":\"2020-04-05T04:43:15Z\",\"text\":\"Probing input file.\"},{\"id\":\"3032d2b5-1a58-4965-ad7c-d3f074ae5b86\",\"type\":\"INFO\",\"date\":\"2020-04-05T04:43:08Z\",\"text\":\"Download of input file in progress.\"},{\"id\":\"b5fc1c77-0d62-4d92-8724-c4bfd10c5eb9\",\"type\":\"INFO\",\"date\":\"2020-04-05T04:43:13Z\",\"text\":\"Analyzing input in progress.\"},{\"id\":\"d03aa2e2-8452-4c4f-a0f4-b26b0efa2d08\",\"type\":\"INFO\",\"date\":\"2020-04-05T04:43:13Z\",\"text\":\"Download of input file finished\"},{\"id\":\"1093a9e5-dcf6-4781-904e-a9f7eb6e58fe\",\"type\":\"DEBUG\",\"date\":\"2020-04-05T04:43:15Z\",\"text\":\"Setting up encoding configuration finished.\"},{\"id\":\"91f9d98f-91ce-4c66-a690-3d1d0504d157\",\"type\":\"INFO\",\"date\":\"2020-04-05T04:43:14Z\",\"text\":\"Analyzing input finished.\"},{\"id\":\"ea898311-1a00-4b1a-bd19-6eeb3b1de0fb\",\"type\":\"DEBUG\",\"date\":\"2020-04-05T04:43:15Z\",\"text\":\"Probing input file finished.\"},{\"id\":\"e4419ef5-c784-4622-bb79-638e4163ccb2\",\"type\":\"INFO\",\"date\":\"2020-04-05T04:43:15Z\",\"text\":\"Encoding in progress.\"}],\"subtasks\":[{\"id\":\"93c96a29-f3da-41bb-bf1f-58d56635a83f\",\"name\":\"Input file download\",\"runningAt\":\"2020-04-05T04:43:08Z\",\"updatedAt\":\"2020-04-05T04:43:13Z\",\"finishedAt\":\"2020-04-05T04:43:13Z\",\"progress\":100,\"status\":\"FINISHED\",\"metadata\":[{\"date\":\"2020-04-05T04:43:13Z\",\"data\":{\"size\":1172428172}}]},{\"id\":\"01018213-f08e-43fb-af96-36a6cae88b08\",\"name\":\"Input file analysis\",\"runningAt\":\"2020-04-05T04:43:13Z\",\"updatedAt\":\"2020-04-05T04:43:14Z\",\"finishedAt\":\"2020-04-05T04:43:14Z\",\"progress\":100,\"status\":\"FINISHED\"},{\"id\":\"2f4abaeb-9bbe-417a-a82c-af2867f79457\",\"name\":\"Analysis\",\"runningAt\":\"2020-04-05T04:43:17Z\",\"updatedAt\":\"2020-04-05T04:43:37Z\",\"finishedAt\":\"2020-04-05T04:43:27Z\",\"progress\":100,\"status\":\"FINISHED\",\"metadata\":[{\"date\":\"2020-04-05T04:43:17Z\",\"data\":{\"framesAnalysed\":0}}]},{\"id\":\"47a27b18-02f4-4686-90f3-d9fb200275cc\",\"name\":\"Encoding\",\"runningAt\":\"2020-04-05T04:43:15Z\",\"updatedAt\":\"2020-04-05T04:43:37Z\",\"progress\":0,\"status\":\"RUNNING\",\"metadata\":[{\"date\":\"2020-04-05T04:43:37Z\",\"data\":{\"bytesEncoded\":5441297,\"avgFramesEncodedPerSecond\":9.0,\"framesEncoded\":96,\"realtimeFactor\":0.4}}]}]},\"messages\":[{\"id\":\"3d68b8e4-ecfa-4eaf-9989-e64a5f6f84ab\",\"date\":\"2020-04-05T04:43:39Z\",\"type\":\"INFO\",\"text\":\"Successfully retrieved status of Encoding with id 03ccf3c5-aa78-445f-8ad4-934f5542db24!\"}]}}\n",
      "Encoding status is Status.RUNNING (progress: 40 %)\n",
      "2020-04-05 13:43:43,418 bitmovin_api_sdk.common.bitmovin_api_logger.BitmovinApiLogger DEBUG    REQUEST: GET https://api.bitmovin.com/v1/encoding/encodings/03ccf3c5-aa78-445f-8ad4-934f5542db24/status\n",
      "2020-04-05 13:43:43,782 bitmovin_api_sdk.common.bitmovin_api_logger.BitmovinApiLogger DEBUG    RESPONSE: {\"requestId\":\"a42bde3a-9814-4cd8-bcf0-9671c1641f7d\",\"status\":\"SUCCESS\",\"data\":{\"result\":{\"id\":\"696e879a-68ee-4089-a397-3fc48fb324e9\",\"createdAt\":\"2020-04-05T04:37:51Z\",\"queuedAt\":\"2020-04-05T04:41:11Z\",\"runningAt\":\"2020-04-05T04:43:08Z\",\"eta\":100.0,\"progress\":40,\"status\":\"RUNNING\",\"messages\":[{\"id\":\"e4419ef5-c784-4622-bb79-638e4163ccb2\",\"type\":\"INFO\",\"date\":\"2020-04-05T04:43:15Z\",\"text\":\"Encoding in progress.\"},{\"id\":\"d03aa2e2-8452-4c4f-a0f4-b26b0efa2d08\",\"type\":\"INFO\",\"date\":\"2020-04-05T04:43:13Z\",\"text\":\"Download of input file finished\"},{\"id\":\"fbd40b30-d8cf-4e39-b528-40b2476d29e3\",\"type\":\"DEBUG\",\"date\":\"2020-04-05T04:43:15Z\",\"text\":\"Probing input file.\"},{\"id\":\"91f9d98f-91ce-4c66-a690-3d1d0504d157\",\"type\":\"INFO\",\"date\":\"2020-04-05T04:43:14Z\",\"text\":\"Analyzing input finished.\"},{\"id\":\"1093a9e5-dcf6-4781-904e-a9f7eb6e58fe\",\"type\":\"DEBUG\",\"date\":\"2020-04-05T04:43:15Z\",\"text\":\"Setting up encoding configuration finished.\"},{\"id\":\"3032d2b5-1a58-4965-ad7c-d3f074ae5b86\",\"type\":\"INFO\",\"date\":\"2020-04-05T04:43:08Z\",\"text\":\"Download of input file in progress.\"},{\"id\":\"b5fc1c77-0d62-4d92-8724-c4bfd10c5eb9\",\"type\":\"INFO\",\"date\":\"2020-04-05T04:43:13Z\",\"text\":\"Analyzing input in progress.\"},{\"id\":\"ea898311-1a00-4b1a-bd19-6eeb3b1de0fb\",\"type\":\"DEBUG\",\"date\":\"2020-04-05T04:43:15Z\",\"text\":\"Probing input file finished.\"},{\"id\":\"a07c6a30-fc19-4ad7-9398-e28b5a70cbe2\",\"type\":\"DEBUG\",\"date\":\"2020-04-05T04:43:15Z\",\"text\":\"Encoding on cluster started.\"}],\"subtasks\":[{\"id\":\"93c96a29-f3da-41bb-bf1f-58d56635a83f\",\"name\":\"Input file download\",\"runningAt\":\"2020-04-05T04:43:08Z\",\"updatedAt\":\"2020-04-05T04:43:13Z\",\"finishedAt\":\"2020-04-05T04:43:13Z\",\"progress\":100,\"status\":\"FINISHED\",\"metadata\":[{\"date\":\"2020-04-05T04:43:13Z\",\"data\":{\"size\":1172428172}}]},{\"id\":\"01018213-f08e-43fb-af96-36a6cae88b08\",\"name\":\"Input file analysis\",\"runningAt\":\"2020-04-05T04:43:13Z\",\"updatedAt\":\"2020-04-05T04:43:14Z\",\"finishedAt\":\"2020-04-05T04:43:14Z\",\"progress\":100,\"status\":\"FINISHED\"},{\"id\":\"2f4abaeb-9bbe-417a-a82c-af2867f79457\",\"name\":\"Analysis\",\"runningAt\":\"2020-04-05T04:43:17Z\",\"updatedAt\":\"2020-04-05T04:43:37Z\",\"finishedAt\":\"2020-04-05T04:43:27Z\",\"progress\":100,\"status\":\"FINISHED\",\"metadata\":[{\"date\":\"2020-04-05T04:43:17Z\",\"data\":{\"framesAnalysed\":0}}]},{\"id\":\"47a27b18-02f4-4686-90f3-d9fb200275cc\",\"name\":\"Encoding\",\"runningAt\":\"2020-04-05T04:43:15Z\",\"updatedAt\":\"2020-04-05T04:43:37Z\",\"progress\":0,\"status\":\"RUNNING\",\"metadata\":[{\"date\":\"2020-04-05T04:43:37Z\",\"data\":{\"bytesEncoded\":5441297,\"avgFramesEncodedPerSecond\":9.0,\"framesEncoded\":96,\"realtimeFactor\":0.4}}]}]},\"messages\":[{\"id\":\"d26ffc19-6959-4aa5-879d-bb7d92cfec27\",\"date\":\"2020-04-05T04:43:44Z\",\"type\":\"INFO\",\"text\":\"Successfully retrieved status of Encoding with id 03ccf3c5-aa78-445f-8ad4-934f5542db24!\"}]}}\n"
     ]
    },
    {
     "name": "stdout",
     "output_type": "stream",
     "text": [
      "Encoding status is Status.RUNNING (progress: 40 %)\n",
      "2020-04-05 13:43:48,798 bitmovin_api_sdk.common.bitmovin_api_logger.BitmovinApiLogger DEBUG    REQUEST: GET https://api.bitmovin.com/v1/encoding/encodings/03ccf3c5-aa78-445f-8ad4-934f5542db24/status\n",
      "2020-04-05 13:43:49,159 bitmovin_api_sdk.common.bitmovin_api_logger.BitmovinApiLogger DEBUG    RESPONSE: {\"requestId\":\"4e6ec04e-a702-4c07-90bd-e52cc4b8d58b\",\"status\":\"SUCCESS\",\"data\":{\"result\":{\"id\":\"696e879a-68ee-4089-a397-3fc48fb324e9\",\"createdAt\":\"2020-04-05T04:37:51Z\",\"queuedAt\":\"2020-04-05T04:41:11Z\",\"runningAt\":\"2020-04-05T04:43:08Z\",\"eta\":100.0,\"progress\":40,\"status\":\"RUNNING\",\"messages\":[{\"id\":\"ea898311-1a00-4b1a-bd19-6eeb3b1de0fb\",\"type\":\"DEBUG\",\"date\":\"2020-04-05T04:43:15Z\",\"text\":\"Probing input file finished.\"},{\"id\":\"e4419ef5-c784-4622-bb79-638e4163ccb2\",\"type\":\"INFO\",\"date\":\"2020-04-05T04:43:15Z\",\"text\":\"Encoding in progress.\"},{\"id\":\"d03aa2e2-8452-4c4f-a0f4-b26b0efa2d08\",\"type\":\"INFO\",\"date\":\"2020-04-05T04:43:13Z\",\"text\":\"Download of input file finished\"},{\"id\":\"91f9d98f-91ce-4c66-a690-3d1d0504d157\",\"type\":\"INFO\",\"date\":\"2020-04-05T04:43:14Z\",\"text\":\"Analyzing input finished.\"},{\"id\":\"1093a9e5-dcf6-4781-904e-a9f7eb6e58fe\",\"type\":\"DEBUG\",\"date\":\"2020-04-05T04:43:15Z\",\"text\":\"Setting up encoding configuration finished.\"},{\"id\":\"fbd40b30-d8cf-4e39-b528-40b2476d29e3\",\"type\":\"DEBUG\",\"date\":\"2020-04-05T04:43:15Z\",\"text\":\"Probing input file.\"},{\"id\":\"3032d2b5-1a58-4965-ad7c-d3f074ae5b86\",\"type\":\"INFO\",\"date\":\"2020-04-05T04:43:08Z\",\"text\":\"Download of input file in progress.\"},{\"id\":\"b5fc1c77-0d62-4d92-8724-c4bfd10c5eb9\",\"type\":\"INFO\",\"date\":\"2020-04-05T04:43:13Z\",\"text\":\"Analyzing input in progress.\"},{\"id\":\"a07c6a30-fc19-4ad7-9398-e28b5a70cbe2\",\"type\":\"DEBUG\",\"date\":\"2020-04-05T04:43:15Z\",\"text\":\"Encoding on cluster started.\"}],\"subtasks\":[{\"id\":\"93c96a29-f3da-41bb-bf1f-58d56635a83f\",\"name\":\"Input file download\",\"runningAt\":\"2020-04-05T04:43:08Z\",\"updatedAt\":\"2020-04-05T04:43:13Z\",\"finishedAt\":\"2020-04-05T04:43:13Z\",\"progress\":100,\"status\":\"FINISHED\",\"metadata\":[{\"date\":\"2020-04-05T04:43:13Z\",\"data\":{\"size\":1172428172}}]},{\"id\":\"01018213-f08e-43fb-af96-36a6cae88b08\",\"name\":\"Input file analysis\",\"runningAt\":\"2020-04-05T04:43:13Z\",\"updatedAt\":\"2020-04-05T04:43:14Z\",\"finishedAt\":\"2020-04-05T04:43:14Z\",\"progress\":100,\"status\":\"FINISHED\"},{\"id\":\"2f4abaeb-9bbe-417a-a82c-af2867f79457\",\"name\":\"Analysis\",\"runningAt\":\"2020-04-05T04:43:17Z\",\"updatedAt\":\"2020-04-05T04:43:47Z\",\"finishedAt\":\"2020-04-05T04:43:27Z\",\"progress\":100,\"status\":\"FINISHED\",\"metadata\":[{\"date\":\"2020-04-05T04:43:17Z\",\"data\":{\"framesAnalysed\":0}}]},{\"id\":\"47a27b18-02f4-4686-90f3-d9fb200275cc\",\"name\":\"Encoding\",\"runningAt\":\"2020-04-05T04:43:15Z\",\"updatedAt\":\"2020-04-05T04:43:47Z\",\"progress\":0,\"status\":\"RUNNING\",\"metadata\":[{\"date\":\"2020-04-05T04:43:47Z\",\"data\":{\"bytesEncoded\":7861271,\"avgFramesEncodedPerSecond\":9.0,\"framesEncoded\":192,\"realtimeFactor\":0.4}}]}]},\"messages\":[{\"id\":\"13011929-f1c7-4e9e-94ff-7cd53b49bc44\",\"date\":\"2020-04-05T04:43:49Z\",\"type\":\"INFO\",\"text\":\"Successfully retrieved status of Encoding with id 03ccf3c5-aa78-445f-8ad4-934f5542db24!\"}]}}\n",
      "Encoding status is Status.RUNNING (progress: 40 %)\n",
      "2020-04-05 13:43:54,170 bitmovin_api_sdk.common.bitmovin_api_logger.BitmovinApiLogger DEBUG    REQUEST: GET https://api.bitmovin.com/v1/encoding/encodings/03ccf3c5-aa78-445f-8ad4-934f5542db24/status\n",
      "2020-04-05 13:43:54,586 bitmovin_api_sdk.common.bitmovin_api_logger.BitmovinApiLogger DEBUG    RESPONSE: {\"requestId\":\"c9e117bd-4147-4c50-9882-0fa9e235f3e3\",\"status\":\"SUCCESS\",\"data\":{\"result\":{\"id\":\"696e879a-68ee-4089-a397-3fc48fb324e9\",\"createdAt\":\"2020-04-05T04:37:51Z\",\"queuedAt\":\"2020-04-05T04:41:11Z\",\"runningAt\":\"2020-04-05T04:43:08Z\",\"eta\":100.0,\"progress\":40,\"status\":\"RUNNING\",\"messages\":[{\"id\":\"ea898311-1a00-4b1a-bd19-6eeb3b1de0fb\",\"type\":\"DEBUG\",\"date\":\"2020-04-05T04:43:15Z\",\"text\":\"Probing input file finished.\"},{\"id\":\"d03aa2e2-8452-4c4f-a0f4-b26b0efa2d08\",\"type\":\"INFO\",\"date\":\"2020-04-05T04:43:13Z\",\"text\":\"Download of input file finished\"},{\"id\":\"3032d2b5-1a58-4965-ad7c-d3f074ae5b86\",\"type\":\"INFO\",\"date\":\"2020-04-05T04:43:08Z\",\"text\":\"Download of input file in progress.\"},{\"id\":\"1093a9e5-dcf6-4781-904e-a9f7eb6e58fe\",\"type\":\"DEBUG\",\"date\":\"2020-04-05T04:43:15Z\",\"text\":\"Setting up encoding configuration finished.\"},{\"id\":\"91f9d98f-91ce-4c66-a690-3d1d0504d157\",\"type\":\"INFO\",\"date\":\"2020-04-05T04:43:14Z\",\"text\":\"Analyzing input finished.\"},{\"id\":\"b5fc1c77-0d62-4d92-8724-c4bfd10c5eb9\",\"type\":\"INFO\",\"date\":\"2020-04-05T04:43:13Z\",\"text\":\"Analyzing input in progress.\"},{\"id\":\"fbd40b30-d8cf-4e39-b528-40b2476d29e3\",\"type\":\"DEBUG\",\"date\":\"2020-04-05T04:43:15Z\",\"text\":\"Probing input file.\"},{\"id\":\"a07c6a30-fc19-4ad7-9398-e28b5a70cbe2\",\"type\":\"DEBUG\",\"date\":\"2020-04-05T04:43:15Z\",\"text\":\"Encoding on cluster started.\"},{\"id\":\"e4419ef5-c784-4622-bb79-638e4163ccb2\",\"type\":\"INFO\",\"date\":\"2020-04-05T04:43:15Z\",\"text\":\"Encoding in progress.\"}],\"subtasks\":[{\"id\":\"93c96a29-f3da-41bb-bf1f-58d56635a83f\",\"name\":\"Input file download\",\"runningAt\":\"2020-04-05T04:43:08Z\",\"updatedAt\":\"2020-04-05T04:43:13Z\",\"finishedAt\":\"2020-04-05T04:43:13Z\",\"progress\":100,\"status\":\"FINISHED\",\"metadata\":[{\"date\":\"2020-04-05T04:43:13Z\",\"data\":{\"size\":1172428172}}]},{\"id\":\"01018213-f08e-43fb-af96-36a6cae88b08\",\"name\":\"Input file analysis\",\"runningAt\":\"2020-04-05T04:43:13Z\",\"updatedAt\":\"2020-04-05T04:43:14Z\",\"finishedAt\":\"2020-04-05T04:43:14Z\",\"progress\":100,\"status\":\"FINISHED\"},{\"id\":\"2f4abaeb-9bbe-417a-a82c-af2867f79457\",\"name\":\"Analysis\",\"runningAt\":\"2020-04-05T04:43:17Z\",\"updatedAt\":\"2020-04-05T04:43:47Z\",\"finishedAt\":\"2020-04-05T04:43:27Z\",\"progress\":100,\"status\":\"FINISHED\",\"metadata\":[{\"date\":\"2020-04-05T04:43:17Z\",\"data\":{\"framesAnalysed\":0}}]},{\"id\":\"47a27b18-02f4-4686-90f3-d9fb200275cc\",\"name\":\"Encoding\",\"runningAt\":\"2020-04-05T04:43:15Z\",\"updatedAt\":\"2020-04-05T04:43:47Z\",\"progress\":0,\"status\":\"RUNNING\",\"metadata\":[{\"date\":\"2020-04-05T04:43:47Z\",\"data\":{\"bytesEncoded\":7861271,\"avgFramesEncodedPerSecond\":9.0,\"framesEncoded\":192,\"realtimeFactor\":0.4}}]}]},\"messages\":[{\"id\":\"6fb6aae0-4c5f-4f80-95d0-e639761a092b\",\"date\":\"2020-04-05T04:43:55Z\",\"type\":\"INFO\",\"text\":\"Successfully retrieved status of Encoding with id 03ccf3c5-aa78-445f-8ad4-934f5542db24!\"}]}}\n",
      "Encoding status is Status.RUNNING (progress: 40 %)\n",
      "2020-04-05 13:43:59,602 bitmovin_api_sdk.common.bitmovin_api_logger.BitmovinApiLogger DEBUG    REQUEST: GET https://api.bitmovin.com/v1/encoding/encodings/03ccf3c5-aa78-445f-8ad4-934f5542db24/status\n",
      "2020-04-05 13:44:00,015 bitmovin_api_sdk.common.bitmovin_api_logger.BitmovinApiLogger DEBUG    RESPONSE: {\"requestId\":\"99e598d6-d9de-4f48-b4c4-03fb4cd36fc5\",\"status\":\"SUCCESS\",\"data\":{\"result\":{\"id\":\"696e879a-68ee-4089-a397-3fc48fb324e9\",\"createdAt\":\"2020-04-05T04:37:51Z\",\"queuedAt\":\"2020-04-05T04:41:11Z\",\"runningAt\":\"2020-04-05T04:43:08Z\",\"eta\":100.0,\"progress\":40,\"status\":\"RUNNING\",\"messages\":[{\"id\":\"3032d2b5-1a58-4965-ad7c-d3f074ae5b86\",\"type\":\"INFO\",\"date\":\"2020-04-05T04:43:08Z\",\"text\":\"Download of input file in progress.\"},{\"id\":\"b5fc1c77-0d62-4d92-8724-c4bfd10c5eb9\",\"type\":\"INFO\",\"date\":\"2020-04-05T04:43:13Z\",\"text\":\"Analyzing input in progress.\"},{\"id\":\"fbd40b30-d8cf-4e39-b528-40b2476d29e3\",\"type\":\"DEBUG\",\"date\":\"2020-04-05T04:43:15Z\",\"text\":\"Probing input file.\"},{\"id\":\"d03aa2e2-8452-4c4f-a0f4-b26b0efa2d08\",\"type\":\"INFO\",\"date\":\"2020-04-05T04:43:13Z\",\"text\":\"Download of input file finished\"},{\"id\":\"a07c6a30-fc19-4ad7-9398-e28b5a70cbe2\",\"type\":\"DEBUG\",\"date\":\"2020-04-05T04:43:15Z\",\"text\":\"Encoding on cluster started.\"},{\"id\":\"1093a9e5-dcf6-4781-904e-a9f7eb6e58fe\",\"type\":\"DEBUG\",\"date\":\"2020-04-05T04:43:15Z\",\"text\":\"Setting up encoding configuration finished.\"},{\"id\":\"e4419ef5-c784-4622-bb79-638e4163ccb2\",\"type\":\"INFO\",\"date\":\"2020-04-05T04:43:15Z\",\"text\":\"Encoding in progress.\"},{\"id\":\"ea898311-1a00-4b1a-bd19-6eeb3b1de0fb\",\"type\":\"DEBUG\",\"date\":\"2020-04-05T04:43:15Z\",\"text\":\"Probing input file finished.\"},{\"id\":\"91f9d98f-91ce-4c66-a690-3d1d0504d157\",\"type\":\"INFO\",\"date\":\"2020-04-05T04:43:14Z\",\"text\":\"Analyzing input finished.\"}],\"subtasks\":[{\"id\":\"93c96a29-f3da-41bb-bf1f-58d56635a83f\",\"name\":\"Input file download\",\"runningAt\":\"2020-04-05T04:43:08Z\",\"updatedAt\":\"2020-04-05T04:43:13Z\",\"finishedAt\":\"2020-04-05T04:43:13Z\",\"progress\":100,\"status\":\"FINISHED\",\"metadata\":[{\"date\":\"2020-04-05T04:43:13Z\",\"data\":{\"size\":1172428172}}]},{\"id\":\"01018213-f08e-43fb-af96-36a6cae88b08\",\"name\":\"Input file analysis\",\"runningAt\":\"2020-04-05T04:43:13Z\",\"updatedAt\":\"2020-04-05T04:43:14Z\",\"finishedAt\":\"2020-04-05T04:43:14Z\",\"progress\":100,\"status\":\"FINISHED\"},{\"id\":\"2f4abaeb-9bbe-417a-a82c-af2867f79457\",\"name\":\"Analysis\",\"runningAt\":\"2020-04-05T04:43:17Z\",\"updatedAt\":\"2020-04-05T04:43:57Z\",\"finishedAt\":\"2020-04-05T04:43:27Z\",\"progress\":100,\"status\":\"FINISHED\",\"metadata\":[{\"date\":\"2020-04-05T04:43:17Z\",\"data\":{\"framesAnalysed\":0}}]},{\"id\":\"47a27b18-02f4-4686-90f3-d9fb200275cc\",\"name\":\"Encoding\",\"runningAt\":\"2020-04-05T04:43:15Z\",\"updatedAt\":\"2020-04-05T04:43:57Z\",\"progress\":1,\"status\":\"RUNNING\",\"metadata\":[{\"date\":\"2020-04-05T04:43:57Z\",\"data\":{\"bytesEncoded\":10415887,\"avgFramesEncodedPerSecond\":9.0,\"framesEncoded\":288,\"realtimeFactor\":0.4}}]}]},\"messages\":[{\"id\":\"6ee516a3-64f4-4189-aa8b-0a85268902d7\",\"date\":\"2020-04-05T04:44:00Z\",\"type\":\"INFO\",\"text\":\"Successfully retrieved status of Encoding with id 03ccf3c5-aa78-445f-8ad4-934f5542db24!\"}]}}\n"
     ]
    },
    {
     "name": "stdout",
     "output_type": "stream",
     "text": [
      "Encoding status is Status.RUNNING (progress: 40 %)\n",
      "2020-04-05 13:44:05,024 bitmovin_api_sdk.common.bitmovin_api_logger.BitmovinApiLogger DEBUG    REQUEST: GET https://api.bitmovin.com/v1/encoding/encodings/03ccf3c5-aa78-445f-8ad4-934f5542db24/status\n",
      "2020-04-05 13:44:05,438 bitmovin_api_sdk.common.bitmovin_api_logger.BitmovinApiLogger DEBUG    RESPONSE: {\"requestId\":\"cdc079fc-f501-4112-b363-5dc6c7850a66\",\"status\":\"SUCCESS\",\"data\":{\"result\":{\"id\":\"696e879a-68ee-4089-a397-3fc48fb324e9\",\"createdAt\":\"2020-04-05T04:37:51Z\",\"queuedAt\":\"2020-04-05T04:41:11Z\",\"runningAt\":\"2020-04-05T04:43:08Z\",\"eta\":100.0,\"progress\":40,\"status\":\"RUNNING\",\"messages\":[{\"id\":\"91f9d98f-91ce-4c66-a690-3d1d0504d157\",\"type\":\"INFO\",\"date\":\"2020-04-05T04:43:14Z\",\"text\":\"Analyzing input finished.\"},{\"id\":\"3032d2b5-1a58-4965-ad7c-d3f074ae5b86\",\"type\":\"INFO\",\"date\":\"2020-04-05T04:43:08Z\",\"text\":\"Download of input file in progress.\"},{\"id\":\"b5fc1c77-0d62-4d92-8724-c4bfd10c5eb9\",\"type\":\"INFO\",\"date\":\"2020-04-05T04:43:13Z\",\"text\":\"Analyzing input in progress.\"},{\"id\":\"1093a9e5-dcf6-4781-904e-a9f7eb6e58fe\",\"type\":\"DEBUG\",\"date\":\"2020-04-05T04:43:15Z\",\"text\":\"Setting up encoding configuration finished.\"},{\"id\":\"a07c6a30-fc19-4ad7-9398-e28b5a70cbe2\",\"type\":\"DEBUG\",\"date\":\"2020-04-05T04:43:15Z\",\"text\":\"Encoding on cluster started.\"},{\"id\":\"d03aa2e2-8452-4c4f-a0f4-b26b0efa2d08\",\"type\":\"INFO\",\"date\":\"2020-04-05T04:43:13Z\",\"text\":\"Download of input file finished\"},{\"id\":\"e4419ef5-c784-4622-bb79-638e4163ccb2\",\"type\":\"INFO\",\"date\":\"2020-04-05T04:43:15Z\",\"text\":\"Encoding in progress.\"},{\"id\":\"fbd40b30-d8cf-4e39-b528-40b2476d29e3\",\"type\":\"DEBUG\",\"date\":\"2020-04-05T04:43:15Z\",\"text\":\"Probing input file.\"},{\"id\":\"ea898311-1a00-4b1a-bd19-6eeb3b1de0fb\",\"type\":\"DEBUG\",\"date\":\"2020-04-05T04:43:15Z\",\"text\":\"Probing input file finished.\"}],\"subtasks\":[{\"id\":\"93c96a29-f3da-41bb-bf1f-58d56635a83f\",\"name\":\"Input file download\",\"runningAt\":\"2020-04-05T04:43:08Z\",\"updatedAt\":\"2020-04-05T04:43:13Z\",\"finishedAt\":\"2020-04-05T04:43:13Z\",\"progress\":100,\"status\":\"FINISHED\",\"metadata\":[{\"date\":\"2020-04-05T04:43:13Z\",\"data\":{\"size\":1172428172}}]},{\"id\":\"01018213-f08e-43fb-af96-36a6cae88b08\",\"name\":\"Input file analysis\",\"runningAt\":\"2020-04-05T04:43:13Z\",\"updatedAt\":\"2020-04-05T04:43:14Z\",\"finishedAt\":\"2020-04-05T04:43:14Z\",\"progress\":100,\"status\":\"FINISHED\"},{\"id\":\"2f4abaeb-9bbe-417a-a82c-af2867f79457\",\"name\":\"Analysis\",\"runningAt\":\"2020-04-05T04:43:17Z\",\"updatedAt\":\"2020-04-05T04:43:57Z\",\"finishedAt\":\"2020-04-05T04:43:27Z\",\"progress\":100,\"status\":\"FINISHED\",\"metadata\":[{\"date\":\"2020-04-05T04:43:17Z\",\"data\":{\"framesAnalysed\":0}}]},{\"id\":\"47a27b18-02f4-4686-90f3-d9fb200275cc\",\"name\":\"Encoding\",\"runningAt\":\"2020-04-05T04:43:15Z\",\"updatedAt\":\"2020-04-05T04:43:57Z\",\"progress\":1,\"status\":\"RUNNING\",\"metadata\":[{\"date\":\"2020-04-05T04:43:57Z\",\"data\":{\"bytesEncoded\":10415887,\"avgFramesEncodedPerSecond\":9.0,\"framesEncoded\":288,\"realtimeFactor\":0.4}}]}]},\"messages\":[{\"id\":\"51c7a875-cbfa-432a-8567-82cc520a6544\",\"date\":\"2020-04-05T04:44:06Z\",\"type\":\"INFO\",\"text\":\"Successfully retrieved status of Encoding with id 03ccf3c5-aa78-445f-8ad4-934f5542db24!\"}]}}\n",
      "Encoding status is Status.RUNNING (progress: 40 %)\n",
      "2020-04-05 13:44:10,447 bitmovin_api_sdk.common.bitmovin_api_logger.BitmovinApiLogger DEBUG    REQUEST: GET https://api.bitmovin.com/v1/encoding/encodings/03ccf3c5-aa78-445f-8ad4-934f5542db24/status\n",
      "2020-04-05 13:44:10,828 bitmovin_api_sdk.common.bitmovin_api_logger.BitmovinApiLogger DEBUG    RESPONSE: {\"requestId\":\"2999e467-6398-4426-8414-f3affa1b702b\",\"status\":\"SUCCESS\",\"data\":{\"result\":{\"id\":\"696e879a-68ee-4089-a397-3fc48fb324e9\",\"createdAt\":\"2020-04-05T04:37:51Z\",\"queuedAt\":\"2020-04-05T04:41:11Z\",\"runningAt\":\"2020-04-05T04:43:08Z\",\"eta\":100.0,\"progress\":40,\"status\":\"RUNNING\",\"messages\":[{\"id\":\"e4419ef5-c784-4622-bb79-638e4163ccb2\",\"type\":\"INFO\",\"date\":\"2020-04-05T04:43:15Z\",\"text\":\"Encoding in progress.\"},{\"id\":\"d03aa2e2-8452-4c4f-a0f4-b26b0efa2d08\",\"type\":\"INFO\",\"date\":\"2020-04-05T04:43:13Z\",\"text\":\"Download of input file finished\"},{\"id\":\"fbd40b30-d8cf-4e39-b528-40b2476d29e3\",\"type\":\"DEBUG\",\"date\":\"2020-04-05T04:43:15Z\",\"text\":\"Probing input file.\"},{\"id\":\"91f9d98f-91ce-4c66-a690-3d1d0504d157\",\"type\":\"INFO\",\"date\":\"2020-04-05T04:43:14Z\",\"text\":\"Analyzing input finished.\"},{\"id\":\"1093a9e5-dcf6-4781-904e-a9f7eb6e58fe\",\"type\":\"DEBUG\",\"date\":\"2020-04-05T04:43:15Z\",\"text\":\"Setting up encoding configuration finished.\"},{\"id\":\"3032d2b5-1a58-4965-ad7c-d3f074ae5b86\",\"type\":\"INFO\",\"date\":\"2020-04-05T04:43:08Z\",\"text\":\"Download of input file in progress.\"},{\"id\":\"b5fc1c77-0d62-4d92-8724-c4bfd10c5eb9\",\"type\":\"INFO\",\"date\":\"2020-04-05T04:43:13Z\",\"text\":\"Analyzing input in progress.\"},{\"id\":\"ea898311-1a00-4b1a-bd19-6eeb3b1de0fb\",\"type\":\"DEBUG\",\"date\":\"2020-04-05T04:43:15Z\",\"text\":\"Probing input file finished.\"},{\"id\":\"a07c6a30-fc19-4ad7-9398-e28b5a70cbe2\",\"type\":\"DEBUG\",\"date\":\"2020-04-05T04:43:15Z\",\"text\":\"Encoding on cluster started.\"}],\"subtasks\":[{\"id\":\"93c96a29-f3da-41bb-bf1f-58d56635a83f\",\"name\":\"Input file download\",\"runningAt\":\"2020-04-05T04:43:08Z\",\"updatedAt\":\"2020-04-05T04:43:13Z\",\"finishedAt\":\"2020-04-05T04:43:13Z\",\"progress\":100,\"status\":\"FINISHED\",\"metadata\":[{\"date\":\"2020-04-05T04:43:13Z\",\"data\":{\"size\":1172428172}}]},{\"id\":\"01018213-f08e-43fb-af96-36a6cae88b08\",\"name\":\"Input file analysis\",\"runningAt\":\"2020-04-05T04:43:13Z\",\"updatedAt\":\"2020-04-05T04:43:14Z\",\"finishedAt\":\"2020-04-05T04:43:14Z\",\"progress\":100,\"status\":\"FINISHED\"},{\"id\":\"2f4abaeb-9bbe-417a-a82c-af2867f79457\",\"name\":\"Analysis\",\"runningAt\":\"2020-04-05T04:43:17Z\",\"updatedAt\":\"2020-04-05T04:44:07Z\",\"finishedAt\":\"2020-04-05T04:43:27Z\",\"progress\":100,\"status\":\"FINISHED\",\"metadata\":[{\"date\":\"2020-04-05T04:43:17Z\",\"data\":{\"framesAnalysed\":0}}]},{\"id\":\"47a27b18-02f4-4686-90f3-d9fb200275cc\",\"name\":\"Encoding\",\"runningAt\":\"2020-04-05T04:43:15Z\",\"updatedAt\":\"2020-04-05T04:44:07Z\",\"progress\":1,\"status\":\"RUNNING\",\"metadata\":[{\"date\":\"2020-04-05T04:44:07Z\",\"data\":{\"bytesEncoded\":10415887,\"avgFramesEncodedPerSecond\":7.0,\"framesEncoded\":288,\"realtimeFactor\":0.3}}]}]},\"messages\":[{\"id\":\"ac22d714-e2ce-4a50-9fb5-f17476575c72\",\"date\":\"2020-04-05T04:44:11Z\",\"type\":\"INFO\",\"text\":\"Successfully retrieved status of Encoding with id 03ccf3c5-aa78-445f-8ad4-934f5542db24!\"}]}}\n",
      "Encoding status is Status.RUNNING (progress: 40 %)\n",
      "2020-04-05 13:44:15,844 bitmovin_api_sdk.common.bitmovin_api_logger.BitmovinApiLogger DEBUG    REQUEST: GET https://api.bitmovin.com/v1/encoding/encodings/03ccf3c5-aa78-445f-8ad4-934f5542db24/status\n",
      "2020-04-05 13:44:16,294 bitmovin_api_sdk.common.bitmovin_api_logger.BitmovinApiLogger DEBUG    RESPONSE: {\"requestId\":\"6e2f0528-d657-4245-ad71-e03bf99cb76a\",\"status\":\"SUCCESS\",\"data\":{\"result\":{\"id\":\"696e879a-68ee-4089-a397-3fc48fb324e9\",\"createdAt\":\"2020-04-05T04:37:51Z\",\"queuedAt\":\"2020-04-05T04:41:11Z\",\"runningAt\":\"2020-04-05T04:43:08Z\",\"eta\":100.0,\"progress\":40,\"status\":\"RUNNING\",\"messages\":[{\"id\":\"ea898311-1a00-4b1a-bd19-6eeb3b1de0fb\",\"type\":\"DEBUG\",\"date\":\"2020-04-05T04:43:15Z\",\"text\":\"Probing input file finished.\"},{\"id\":\"e4419ef5-c784-4622-bb79-638e4163ccb2\",\"type\":\"INFO\",\"date\":\"2020-04-05T04:43:15Z\",\"text\":\"Encoding in progress.\"},{\"id\":\"d03aa2e2-8452-4c4f-a0f4-b26b0efa2d08\",\"type\":\"INFO\",\"date\":\"2020-04-05T04:43:13Z\",\"text\":\"Download of input file finished\"},{\"id\":\"91f9d98f-91ce-4c66-a690-3d1d0504d157\",\"type\":\"INFO\",\"date\":\"2020-04-05T04:43:14Z\",\"text\":\"Analyzing input finished.\"},{\"id\":\"1093a9e5-dcf6-4781-904e-a9f7eb6e58fe\",\"type\":\"DEBUG\",\"date\":\"2020-04-05T04:43:15Z\",\"text\":\"Setting up encoding configuration finished.\"},{\"id\":\"fbd40b30-d8cf-4e39-b528-40b2476d29e3\",\"type\":\"DEBUG\",\"date\":\"2020-04-05T04:43:15Z\",\"text\":\"Probing input file.\"},{\"id\":\"3032d2b5-1a58-4965-ad7c-d3f074ae5b86\",\"type\":\"INFO\",\"date\":\"2020-04-05T04:43:08Z\",\"text\":\"Download of input file in progress.\"},{\"id\":\"b5fc1c77-0d62-4d92-8724-c4bfd10c5eb9\",\"type\":\"INFO\",\"date\":\"2020-04-05T04:43:13Z\",\"text\":\"Analyzing input in progress.\"},{\"id\":\"a07c6a30-fc19-4ad7-9398-e28b5a70cbe2\",\"type\":\"DEBUG\",\"date\":\"2020-04-05T04:43:15Z\",\"text\":\"Encoding on cluster started.\"}],\"subtasks\":[{\"id\":\"93c96a29-f3da-41bb-bf1f-58d56635a83f\",\"name\":\"Input file download\",\"runningAt\":\"2020-04-05T04:43:08Z\",\"updatedAt\":\"2020-04-05T04:43:13Z\",\"finishedAt\":\"2020-04-05T04:43:13Z\",\"progress\":100,\"status\":\"FINISHED\",\"metadata\":[{\"date\":\"2020-04-05T04:43:13Z\",\"data\":{\"size\":1172428172}}]},{\"id\":\"01018213-f08e-43fb-af96-36a6cae88b08\",\"name\":\"Input file analysis\",\"runningAt\":\"2020-04-05T04:43:13Z\",\"updatedAt\":\"2020-04-05T04:43:14Z\",\"finishedAt\":\"2020-04-05T04:43:14Z\",\"progress\":100,\"status\":\"FINISHED\"},{\"id\":\"2f4abaeb-9bbe-417a-a82c-af2867f79457\",\"name\":\"Analysis\",\"runningAt\":\"2020-04-05T04:43:17Z\",\"updatedAt\":\"2020-04-05T04:44:07Z\",\"finishedAt\":\"2020-04-05T04:43:27Z\",\"progress\":100,\"status\":\"FINISHED\",\"metadata\":[{\"date\":\"2020-04-05T04:43:17Z\",\"data\":{\"framesAnalysed\":0}}]},{\"id\":\"47a27b18-02f4-4686-90f3-d9fb200275cc\",\"name\":\"Encoding\",\"runningAt\":\"2020-04-05T04:43:15Z\",\"updatedAt\":\"2020-04-05T04:44:07Z\",\"progress\":1,\"status\":\"RUNNING\",\"metadata\":[{\"date\":\"2020-04-05T04:44:07Z\",\"data\":{\"bytesEncoded\":10415887,\"avgFramesEncodedPerSecond\":7.0,\"framesEncoded\":288,\"realtimeFactor\":0.3}}]}]},\"messages\":[{\"id\":\"31f6152c-a3a8-439d-b5b1-45f2278bfa98\",\"date\":\"2020-04-05T04:44:16Z\",\"type\":\"INFO\",\"text\":\"Successfully retrieved status of Encoding with id 03ccf3c5-aa78-445f-8ad4-934f5542db24!\"}]}}\n"
     ]
    },
    {
     "name": "stdout",
     "output_type": "stream",
     "text": [
      "Encoding status is Status.RUNNING (progress: 40 %)\n",
      "2020-04-05 13:44:21,311 bitmovin_api_sdk.common.bitmovin_api_logger.BitmovinApiLogger DEBUG    REQUEST: GET https://api.bitmovin.com/v1/encoding/encodings/03ccf3c5-aa78-445f-8ad4-934f5542db24/status\n",
      "2020-04-05 13:44:21,661 bitmovin_api_sdk.common.bitmovin_api_logger.BitmovinApiLogger DEBUG    RESPONSE: {\"requestId\":\"edcc937c-91a2-4821-904a-49ebea43fa20\",\"status\":\"SUCCESS\",\"data\":{\"result\":{\"id\":\"696e879a-68ee-4089-a397-3fc48fb324e9\",\"createdAt\":\"2020-04-05T04:37:51Z\",\"queuedAt\":\"2020-04-05T04:41:11Z\",\"runningAt\":\"2020-04-05T04:43:08Z\",\"eta\":100.0,\"progress\":40,\"status\":\"RUNNING\",\"messages\":[{\"id\":\"91f9d98f-91ce-4c66-a690-3d1d0504d157\",\"type\":\"INFO\",\"date\":\"2020-04-05T04:43:14Z\",\"text\":\"Analyzing input finished.\"},{\"id\":\"3032d2b5-1a58-4965-ad7c-d3f074ae5b86\",\"type\":\"INFO\",\"date\":\"2020-04-05T04:43:08Z\",\"text\":\"Download of input file in progress.\"},{\"id\":\"b5fc1c77-0d62-4d92-8724-c4bfd10c5eb9\",\"type\":\"INFO\",\"date\":\"2020-04-05T04:43:13Z\",\"text\":\"Analyzing input in progress.\"},{\"id\":\"1093a9e5-dcf6-4781-904e-a9f7eb6e58fe\",\"type\":\"DEBUG\",\"date\":\"2020-04-05T04:43:15Z\",\"text\":\"Setting up encoding configuration finished.\"},{\"id\":\"a07c6a30-fc19-4ad7-9398-e28b5a70cbe2\",\"type\":\"DEBUG\",\"date\":\"2020-04-05T04:43:15Z\",\"text\":\"Encoding on cluster started.\"},{\"id\":\"d03aa2e2-8452-4c4f-a0f4-b26b0efa2d08\",\"type\":\"INFO\",\"date\":\"2020-04-05T04:43:13Z\",\"text\":\"Download of input file finished\"},{\"id\":\"e4419ef5-c784-4622-bb79-638e4163ccb2\",\"type\":\"INFO\",\"date\":\"2020-04-05T04:43:15Z\",\"text\":\"Encoding in progress.\"},{\"id\":\"fbd40b30-d8cf-4e39-b528-40b2476d29e3\",\"type\":\"DEBUG\",\"date\":\"2020-04-05T04:43:15Z\",\"text\":\"Probing input file.\"},{\"id\":\"ea898311-1a00-4b1a-bd19-6eeb3b1de0fb\",\"type\":\"DEBUG\",\"date\":\"2020-04-05T04:43:15Z\",\"text\":\"Probing input file finished.\"}],\"subtasks\":[{\"id\":\"93c96a29-f3da-41bb-bf1f-58d56635a83f\",\"name\":\"Input file download\",\"runningAt\":\"2020-04-05T04:43:08Z\",\"updatedAt\":\"2020-04-05T04:43:13Z\",\"finishedAt\":\"2020-04-05T04:43:13Z\",\"progress\":100,\"status\":\"FINISHED\",\"metadata\":[{\"date\":\"2020-04-05T04:43:13Z\",\"data\":{\"size\":1172428172}}]},{\"id\":\"01018213-f08e-43fb-af96-36a6cae88b08\",\"name\":\"Input file analysis\",\"runningAt\":\"2020-04-05T04:43:13Z\",\"updatedAt\":\"2020-04-05T04:43:14Z\",\"finishedAt\":\"2020-04-05T04:43:14Z\",\"progress\":100,\"status\":\"FINISHED\"},{\"id\":\"2f4abaeb-9bbe-417a-a82c-af2867f79457\",\"name\":\"Analysis\",\"runningAt\":\"2020-04-05T04:43:17Z\",\"updatedAt\":\"2020-04-05T04:44:17Z\",\"finishedAt\":\"2020-04-05T04:43:27Z\",\"progress\":100,\"status\":\"FINISHED\",\"metadata\":[{\"date\":\"2020-04-05T04:43:17Z\",\"data\":{\"framesAnalysed\":0}}]},{\"id\":\"47a27b18-02f4-4686-90f3-d9fb200275cc\",\"name\":\"Encoding\",\"runningAt\":\"2020-04-05T04:43:15Z\",\"updatedAt\":\"2020-04-05T04:44:17Z\",\"progress\":1,\"status\":\"RUNNING\",\"metadata\":[{\"date\":\"2020-04-05T04:44:17Z\",\"data\":{\"bytesEncoded\":13875308,\"avgFramesEncodedPerSecond\":7.0,\"framesEncoded\":384,\"realtimeFactor\":0.32}}]}]},\"messages\":[{\"id\":\"492ac1e5-14e4-47c5-835c-60930f7056ff\",\"date\":\"2020-04-05T04:44:22Z\",\"type\":\"INFO\",\"text\":\"Successfully retrieved status of Encoding with id 03ccf3c5-aa78-445f-8ad4-934f5542db24!\"}]}}\n",
      "Encoding status is Status.RUNNING (progress: 40 %)\n",
      "2020-04-05 13:44:26,676 bitmovin_api_sdk.common.bitmovin_api_logger.BitmovinApiLogger DEBUG    REQUEST: GET https://api.bitmovin.com/v1/encoding/encodings/03ccf3c5-aa78-445f-8ad4-934f5542db24/status\n",
      "2020-04-05 13:44:27,251 bitmovin_api_sdk.common.bitmovin_api_logger.BitmovinApiLogger DEBUG    RESPONSE: {\"requestId\":\"22b6a1b2-4835-42f9-9857-7af363e46787\",\"status\":\"SUCCESS\",\"data\":{\"result\":{\"id\":\"696e879a-68ee-4089-a397-3fc48fb324e9\",\"createdAt\":\"2020-04-05T04:37:51Z\",\"queuedAt\":\"2020-04-05T04:41:11Z\",\"runningAt\":\"2020-04-05T04:43:08Z\",\"eta\":100.0,\"progress\":40,\"status\":\"RUNNING\",\"messages\":[{\"id\":\"e4419ef5-c784-4622-bb79-638e4163ccb2\",\"type\":\"INFO\",\"date\":\"2020-04-05T04:43:15Z\",\"text\":\"Encoding in progress.\"},{\"id\":\"ea898311-1a00-4b1a-bd19-6eeb3b1de0fb\",\"type\":\"DEBUG\",\"date\":\"2020-04-05T04:43:15Z\",\"text\":\"Probing input file finished.\"},{\"id\":\"b5fc1c77-0d62-4d92-8724-c4bfd10c5eb9\",\"type\":\"INFO\",\"date\":\"2020-04-05T04:43:13Z\",\"text\":\"Analyzing input in progress.\"},{\"id\":\"d03aa2e2-8452-4c4f-a0f4-b26b0efa2d08\",\"type\":\"INFO\",\"date\":\"2020-04-05T04:43:13Z\",\"text\":\"Download of input file finished\"},{\"id\":\"fbd40b30-d8cf-4e39-b528-40b2476d29e3\",\"type\":\"DEBUG\",\"date\":\"2020-04-05T04:43:15Z\",\"text\":\"Probing input file.\"},{\"id\":\"3032d2b5-1a58-4965-ad7c-d3f074ae5b86\",\"type\":\"INFO\",\"date\":\"2020-04-05T04:43:08Z\",\"text\":\"Download of input file in progress.\"},{\"id\":\"1093a9e5-dcf6-4781-904e-a9f7eb6e58fe\",\"type\":\"DEBUG\",\"date\":\"2020-04-05T04:43:15Z\",\"text\":\"Setting up encoding configuration finished.\"},{\"id\":\"a07c6a30-fc19-4ad7-9398-e28b5a70cbe2\",\"type\":\"DEBUG\",\"date\":\"2020-04-05T04:43:15Z\",\"text\":\"Encoding on cluster started.\"},{\"id\":\"91f9d98f-91ce-4c66-a690-3d1d0504d157\",\"type\":\"INFO\",\"date\":\"2020-04-05T04:43:14Z\",\"text\":\"Analyzing input finished.\"}],\"subtasks\":[{\"id\":\"93c96a29-f3da-41bb-bf1f-58d56635a83f\",\"name\":\"Input file download\",\"runningAt\":\"2020-04-05T04:43:08Z\",\"updatedAt\":\"2020-04-05T04:43:13Z\",\"finishedAt\":\"2020-04-05T04:43:13Z\",\"progress\":100,\"status\":\"FINISHED\",\"metadata\":[{\"date\":\"2020-04-05T04:43:13Z\",\"data\":{\"size\":1172428172}}]},{\"id\":\"01018213-f08e-43fb-af96-36a6cae88b08\",\"name\":\"Input file analysis\",\"runningAt\":\"2020-04-05T04:43:13Z\",\"updatedAt\":\"2020-04-05T04:43:14Z\",\"finishedAt\":\"2020-04-05T04:43:14Z\",\"progress\":100,\"status\":\"FINISHED\"},{\"id\":\"2f4abaeb-9bbe-417a-a82c-af2867f79457\",\"name\":\"Analysis\",\"runningAt\":\"2020-04-05T04:43:17Z\",\"updatedAt\":\"2020-04-05T04:44:27Z\",\"finishedAt\":\"2020-04-05T04:43:27Z\",\"progress\":100,\"status\":\"FINISHED\",\"metadata\":[{\"date\":\"2020-04-05T04:43:17Z\",\"data\":{\"framesAnalysed\":0}}]},{\"id\":\"47a27b18-02f4-4686-90f3-d9fb200275cc\",\"name\":\"Encoding\",\"runningAt\":\"2020-04-05T04:43:15Z\",\"updatedAt\":\"2020-04-05T04:44:27Z\",\"progress\":2,\"status\":\"RUNNING\",\"metadata\":[{\"date\":\"2020-04-05T04:44:27Z\",\"data\":{\"bytesEncoded\":16951767,\"avgFramesEncodedPerSecond\":8.0,\"framesEncoded\":480,\"realtimeFactor\":0.3333333333333333}}]}]},\"messages\":[{\"id\":\"00e6248b-14cc-4e6d-baf3-58dc80a2929f\",\"date\":\"2020-04-05T04:44:27Z\",\"type\":\"INFO\",\"text\":\"Successfully retrieved status of Encoding with id 03ccf3c5-aa78-445f-8ad4-934f5542db24!\"}]}}\n",
      "Encoding status is Status.RUNNING (progress: 40 %)\n",
      "2020-04-05 13:44:32,263 bitmovin_api_sdk.common.bitmovin_api_logger.BitmovinApiLogger DEBUG    REQUEST: GET https://api.bitmovin.com/v1/encoding/encodings/03ccf3c5-aa78-445f-8ad4-934f5542db24/status\n",
      "2020-04-05 13:44:32,678 bitmovin_api_sdk.common.bitmovin_api_logger.BitmovinApiLogger DEBUG    RESPONSE: {\"requestId\":\"96f8562b-e711-4b3f-94a2-6cec6c301202\",\"status\":\"SUCCESS\",\"data\":{\"result\":{\"id\":\"696e879a-68ee-4089-a397-3fc48fb324e9\",\"createdAt\":\"2020-04-05T04:37:51Z\",\"queuedAt\":\"2020-04-05T04:41:11Z\",\"runningAt\":\"2020-04-05T04:43:08Z\",\"eta\":100.0,\"progress\":40,\"status\":\"RUNNING\",\"messages\":[{\"id\":\"91f9d98f-91ce-4c66-a690-3d1d0504d157\",\"type\":\"INFO\",\"date\":\"2020-04-05T04:43:14Z\",\"text\":\"Analyzing input finished.\"},{\"id\":\"1093a9e5-dcf6-4781-904e-a9f7eb6e58fe\",\"type\":\"DEBUG\",\"date\":\"2020-04-05T04:43:15Z\",\"text\":\"Setting up encoding configuration finished.\"},{\"id\":\"a07c6a30-fc19-4ad7-9398-e28b5a70cbe2\",\"type\":\"DEBUG\",\"date\":\"2020-04-05T04:43:15Z\",\"text\":\"Encoding on cluster started.\"},{\"id\":\"b5fc1c77-0d62-4d92-8724-c4bfd10c5eb9\",\"type\":\"INFO\",\"date\":\"2020-04-05T04:43:13Z\",\"text\":\"Analyzing input in progress.\"},{\"id\":\"d03aa2e2-8452-4c4f-a0f4-b26b0efa2d08\",\"type\":\"INFO\",\"date\":\"2020-04-05T04:43:13Z\",\"text\":\"Download of input file finished\"},{\"id\":\"3032d2b5-1a58-4965-ad7c-d3f074ae5b86\",\"type\":\"INFO\",\"date\":\"2020-04-05T04:43:08Z\",\"text\":\"Download of input file in progress.\"},{\"id\":\"ea898311-1a00-4b1a-bd19-6eeb3b1de0fb\",\"type\":\"DEBUG\",\"date\":\"2020-04-05T04:43:15Z\",\"text\":\"Probing input file finished.\"},{\"id\":\"e4419ef5-c784-4622-bb79-638e4163ccb2\",\"type\":\"INFO\",\"date\":\"2020-04-05T04:43:15Z\",\"text\":\"Encoding in progress.\"},{\"id\":\"fbd40b30-d8cf-4e39-b528-40b2476d29e3\",\"type\":\"DEBUG\",\"date\":\"2020-04-05T04:43:15Z\",\"text\":\"Probing input file.\"}],\"subtasks\":[{\"id\":\"93c96a29-f3da-41bb-bf1f-58d56635a83f\",\"name\":\"Input file download\",\"runningAt\":\"2020-04-05T04:43:08Z\",\"updatedAt\":\"2020-04-05T04:43:13Z\",\"finishedAt\":\"2020-04-05T04:43:13Z\",\"progress\":100,\"status\":\"FINISHED\",\"metadata\":[{\"date\":\"2020-04-05T04:43:13Z\",\"data\":{\"size\":1172428172}}]},{\"id\":\"01018213-f08e-43fb-af96-36a6cae88b08\",\"name\":\"Input file analysis\",\"runningAt\":\"2020-04-05T04:43:13Z\",\"updatedAt\":\"2020-04-05T04:43:14Z\",\"finishedAt\":\"2020-04-05T04:43:14Z\",\"progress\":100,\"status\":\"FINISHED\"},{\"id\":\"2f4abaeb-9bbe-417a-a82c-af2867f79457\",\"name\":\"Analysis\",\"runningAt\":\"2020-04-05T04:43:17Z\",\"updatedAt\":\"2020-04-05T04:44:27Z\",\"finishedAt\":\"2020-04-05T04:43:27Z\",\"progress\":100,\"status\":\"FINISHED\",\"metadata\":[{\"date\":\"2020-04-05T04:43:17Z\",\"data\":{\"framesAnalysed\":0}}]},{\"id\":\"47a27b18-02f4-4686-90f3-d9fb200275cc\",\"name\":\"Encoding\",\"runningAt\":\"2020-04-05T04:43:15Z\",\"updatedAt\":\"2020-04-05T04:44:27Z\",\"progress\":2,\"status\":\"RUNNING\",\"metadata\":[{\"date\":\"2020-04-05T04:44:27Z\",\"data\":{\"bytesEncoded\":16951767,\"avgFramesEncodedPerSecond\":8.0,\"framesEncoded\":480,\"realtimeFactor\":0.3333333333333333}}]}]},\"messages\":[{\"id\":\"b5040ad6-1fdc-4ac3-abb9-9e5fb43cc9b4\",\"date\":\"2020-04-05T04:44:33Z\",\"type\":\"INFO\",\"text\":\"Successfully retrieved status of Encoding with id 03ccf3c5-aa78-445f-8ad4-934f5542db24!\"}]}}\n"
     ]
    },
    {
     "name": "stdout",
     "output_type": "stream",
     "text": [
      "Encoding status is Status.RUNNING (progress: 40 %)\n",
      "2020-04-05 13:44:37,690 bitmovin_api_sdk.common.bitmovin_api_logger.BitmovinApiLogger DEBUG    REQUEST: GET https://api.bitmovin.com/v1/encoding/encodings/03ccf3c5-aa78-445f-8ad4-934f5542db24/status\n",
      "2020-04-05 13:44:38,104 bitmovin_api_sdk.common.bitmovin_api_logger.BitmovinApiLogger DEBUG    RESPONSE: {\"requestId\":\"f1892f7b-0ced-4912-864d-d4a5c20d416a\",\"status\":\"SUCCESS\",\"data\":{\"result\":{\"id\":\"696e879a-68ee-4089-a397-3fc48fb324e9\",\"createdAt\":\"2020-04-05T04:37:51Z\",\"queuedAt\":\"2020-04-05T04:41:11Z\",\"runningAt\":\"2020-04-05T04:43:08Z\",\"eta\":100.0,\"progress\":42,\"status\":\"RUNNING\",\"messages\":[{\"id\":\"d03aa2e2-8452-4c4f-a0f4-b26b0efa2d08\",\"type\":\"INFO\",\"date\":\"2020-04-05T04:43:13Z\",\"text\":\"Download of input file finished\"},{\"id\":\"e4419ef5-c784-4622-bb79-638e4163ccb2\",\"type\":\"INFO\",\"date\":\"2020-04-05T04:43:15Z\",\"text\":\"Encoding in progress.\"},{\"id\":\"fbd40b30-d8cf-4e39-b528-40b2476d29e3\",\"type\":\"DEBUG\",\"date\":\"2020-04-05T04:43:15Z\",\"text\":\"Probing input file.\"},{\"id\":\"1093a9e5-dcf6-4781-904e-a9f7eb6e58fe\",\"type\":\"DEBUG\",\"date\":\"2020-04-05T04:43:15Z\",\"text\":\"Setting up encoding configuration finished.\"},{\"id\":\"3032d2b5-1a58-4965-ad7c-d3f074ae5b86\",\"type\":\"INFO\",\"date\":\"2020-04-05T04:43:08Z\",\"text\":\"Download of input file in progress.\"},{\"id\":\"b5fc1c77-0d62-4d92-8724-c4bfd10c5eb9\",\"type\":\"INFO\",\"date\":\"2020-04-05T04:43:13Z\",\"text\":\"Analyzing input in progress.\"},{\"id\":\"91f9d98f-91ce-4c66-a690-3d1d0504d157\",\"type\":\"INFO\",\"date\":\"2020-04-05T04:43:14Z\",\"text\":\"Analyzing input finished.\"},{\"id\":\"ea898311-1a00-4b1a-bd19-6eeb3b1de0fb\",\"type\":\"DEBUG\",\"date\":\"2020-04-05T04:43:15Z\",\"text\":\"Probing input file finished.\"},{\"id\":\"a07c6a30-fc19-4ad7-9398-e28b5a70cbe2\",\"type\":\"DEBUG\",\"date\":\"2020-04-05T04:43:15Z\",\"text\":\"Encoding on cluster started.\"}],\"subtasks\":[{\"id\":\"93c96a29-f3da-41bb-bf1f-58d56635a83f\",\"name\":\"Input file download\",\"runningAt\":\"2020-04-05T04:43:08Z\",\"updatedAt\":\"2020-04-05T04:43:13Z\",\"finishedAt\":\"2020-04-05T04:43:13Z\",\"progress\":100,\"status\":\"FINISHED\",\"metadata\":[{\"date\":\"2020-04-05T04:43:13Z\",\"data\":{\"size\":1172428172}}]},{\"id\":\"01018213-f08e-43fb-af96-36a6cae88b08\",\"name\":\"Input file analysis\",\"runningAt\":\"2020-04-05T04:43:13Z\",\"updatedAt\":\"2020-04-05T04:43:14Z\",\"finishedAt\":\"2020-04-05T04:43:14Z\",\"progress\":100,\"status\":\"FINISHED\"},{\"id\":\"2f4abaeb-9bbe-417a-a82c-af2867f79457\",\"name\":\"Analysis\",\"runningAt\":\"2020-04-05T04:43:17Z\",\"updatedAt\":\"2020-04-05T04:44:37Z\",\"finishedAt\":\"2020-04-05T04:43:27Z\",\"progress\":100,\"status\":\"FINISHED\",\"metadata\":[{\"date\":\"2020-04-05T04:43:17Z\",\"data\":{\"framesAnalysed\":0}}]},{\"id\":\"47a27b18-02f4-4686-90f3-d9fb200275cc\",\"name\":\"Encoding\",\"runningAt\":\"2020-04-05T04:43:15Z\",\"updatedAt\":\"2020-04-05T04:44:37Z\",\"progress\":5,\"status\":\"RUNNING\",\"metadata\":[{\"date\":\"2020-04-05T04:44:37Z\",\"data\":{\"bytesEncoded\":33638071,\"avgFramesEncodedPerSecond\":16.0,\"framesEncoded\":1152,\"realtimeFactor\":0.6857142857142857}}]}]},\"messages\":[{\"id\":\"2ad932f2-4186-4aa9-9edd-b149d1548ac8\",\"date\":\"2020-04-05T04:44:38Z\",\"type\":\"INFO\",\"text\":\"Successfully retrieved status of Encoding with id 03ccf3c5-aa78-445f-8ad4-934f5542db24!\"}]}}\n",
      "Encoding status is Status.RUNNING (progress: 42 %)\n",
      "2020-04-05 13:44:43,112 bitmovin_api_sdk.common.bitmovin_api_logger.BitmovinApiLogger DEBUG    REQUEST: GET https://api.bitmovin.com/v1/encoding/encodings/03ccf3c5-aa78-445f-8ad4-934f5542db24/status\n",
      "2020-04-05 13:44:43,533 bitmovin_api_sdk.common.bitmovin_api_logger.BitmovinApiLogger DEBUG    RESPONSE: {\"requestId\":\"ca7b314e-0222-4304-9ab4-b18875f43951\",\"status\":\"SUCCESS\",\"data\":{\"result\":{\"id\":\"696e879a-68ee-4089-a397-3fc48fb324e9\",\"createdAt\":\"2020-04-05T04:37:51Z\",\"queuedAt\":\"2020-04-05T04:41:11Z\",\"runningAt\":\"2020-04-05T04:43:08Z\",\"eta\":100.0,\"progress\":42,\"status\":\"RUNNING\",\"messages\":[{\"id\":\"b5fc1c77-0d62-4d92-8724-c4bfd10c5eb9\",\"type\":\"INFO\",\"date\":\"2020-04-05T04:43:13Z\",\"text\":\"Analyzing input in progress.\"},{\"id\":\"d03aa2e2-8452-4c4f-a0f4-b26b0efa2d08\",\"type\":\"INFO\",\"date\":\"2020-04-05T04:43:13Z\",\"text\":\"Download of input file finished\"},{\"id\":\"fbd40b30-d8cf-4e39-b528-40b2476d29e3\",\"type\":\"DEBUG\",\"date\":\"2020-04-05T04:43:15Z\",\"text\":\"Probing input file.\"},{\"id\":\"3032d2b5-1a58-4965-ad7c-d3f074ae5b86\",\"type\":\"INFO\",\"date\":\"2020-04-05T04:43:08Z\",\"text\":\"Download of input file in progress.\"},{\"id\":\"1093a9e5-dcf6-4781-904e-a9f7eb6e58fe\",\"type\":\"DEBUG\",\"date\":\"2020-04-05T04:43:15Z\",\"text\":\"Setting up encoding configuration finished.\"},{\"id\":\"91f9d98f-91ce-4c66-a690-3d1d0504d157\",\"type\":\"INFO\",\"date\":\"2020-04-05T04:43:14Z\",\"text\":\"Analyzing input finished.\"},{\"id\":\"ea898311-1a00-4b1a-bd19-6eeb3b1de0fb\",\"type\":\"DEBUG\",\"date\":\"2020-04-05T04:43:15Z\",\"text\":\"Probing input file finished.\"},{\"id\":\"a07c6a30-fc19-4ad7-9398-e28b5a70cbe2\",\"type\":\"DEBUG\",\"date\":\"2020-04-05T04:43:15Z\",\"text\":\"Encoding on cluster started.\"},{\"id\":\"e4419ef5-c784-4622-bb79-638e4163ccb2\",\"type\":\"INFO\",\"date\":\"2020-04-05T04:43:15Z\",\"text\":\"Encoding in progress.\"}],\"subtasks\":[{\"id\":\"93c96a29-f3da-41bb-bf1f-58d56635a83f\",\"name\":\"Input file download\",\"runningAt\":\"2020-04-05T04:43:08Z\",\"updatedAt\":\"2020-04-05T04:43:13Z\",\"finishedAt\":\"2020-04-05T04:43:13Z\",\"progress\":100,\"status\":\"FINISHED\",\"metadata\":[{\"date\":\"2020-04-05T04:43:13Z\",\"data\":{\"size\":1172428172}}]},{\"id\":\"01018213-f08e-43fb-af96-36a6cae88b08\",\"name\":\"Input file analysis\",\"runningAt\":\"2020-04-05T04:43:13Z\",\"updatedAt\":\"2020-04-05T04:43:14Z\",\"finishedAt\":\"2020-04-05T04:43:14Z\",\"progress\":100,\"status\":\"FINISHED\"},{\"id\":\"2f4abaeb-9bbe-417a-a82c-af2867f79457\",\"name\":\"Analysis\",\"runningAt\":\"2020-04-05T04:43:17Z\",\"updatedAt\":\"2020-04-05T04:44:37Z\",\"finishedAt\":\"2020-04-05T04:43:27Z\",\"progress\":100,\"status\":\"FINISHED\",\"metadata\":[{\"date\":\"2020-04-05T04:43:17Z\",\"data\":{\"framesAnalysed\":0}}]},{\"id\":\"47a27b18-02f4-4686-90f3-d9fb200275cc\",\"name\":\"Encoding\",\"runningAt\":\"2020-04-05T04:43:15Z\",\"updatedAt\":\"2020-04-05T04:44:37Z\",\"progress\":5,\"status\":\"RUNNING\",\"metadata\":[{\"date\":\"2020-04-05T04:44:37Z\",\"data\":{\"bytesEncoded\":33638071,\"avgFramesEncodedPerSecond\":16.0,\"framesEncoded\":1152,\"realtimeFactor\":0.6857142857142857}}]}]},\"messages\":[{\"id\":\"28bdf5ce-23cd-4b94-bb80-b49ff406d3ee\",\"date\":\"2020-04-05T04:44:44Z\",\"type\":\"INFO\",\"text\":\"Successfully retrieved status of Encoding with id 03ccf3c5-aa78-445f-8ad4-934f5542db24!\"}]}}\n",
      "Encoding status is Status.RUNNING (progress: 42 %)\n",
      "2020-04-05 13:44:48,546 bitmovin_api_sdk.common.bitmovin_api_logger.BitmovinApiLogger DEBUG    REQUEST: GET https://api.bitmovin.com/v1/encoding/encodings/03ccf3c5-aa78-445f-8ad4-934f5542db24/status\n",
      "2020-04-05 13:44:48,963 bitmovin_api_sdk.common.bitmovin_api_logger.BitmovinApiLogger DEBUG    RESPONSE: {\"requestId\":\"746c86cc-59f2-4a16-8a41-608a86b3db3e\",\"status\":\"SUCCESS\",\"data\":{\"result\":{\"id\":\"696e879a-68ee-4089-a397-3fc48fb324e9\",\"createdAt\":\"2020-04-05T04:37:51Z\",\"queuedAt\":\"2020-04-05T04:41:11Z\",\"runningAt\":\"2020-04-05T04:43:08Z\",\"eta\":100.0,\"progress\":42,\"status\":\"RUNNING\",\"messages\":[{\"id\":\"91f9d98f-91ce-4c66-a690-3d1d0504d157\",\"type\":\"INFO\",\"date\":\"2020-04-05T04:43:14Z\",\"text\":\"Analyzing input finished.\"},{\"id\":\"1093a9e5-dcf6-4781-904e-a9f7eb6e58fe\",\"type\":\"DEBUG\",\"date\":\"2020-04-05T04:43:15Z\",\"text\":\"Setting up encoding configuration finished.\"},{\"id\":\"a07c6a30-fc19-4ad7-9398-e28b5a70cbe2\",\"type\":\"DEBUG\",\"date\":\"2020-04-05T04:43:15Z\",\"text\":\"Encoding on cluster started.\"},{\"id\":\"b5fc1c77-0d62-4d92-8724-c4bfd10c5eb9\",\"type\":\"INFO\",\"date\":\"2020-04-05T04:43:13Z\",\"text\":\"Analyzing input in progress.\"},{\"id\":\"d03aa2e2-8452-4c4f-a0f4-b26b0efa2d08\",\"type\":\"INFO\",\"date\":\"2020-04-05T04:43:13Z\",\"text\":\"Download of input file finished\"},{\"id\":\"3032d2b5-1a58-4965-ad7c-d3f074ae5b86\",\"type\":\"INFO\",\"date\":\"2020-04-05T04:43:08Z\",\"text\":\"Download of input file in progress.\"},{\"id\":\"ea898311-1a00-4b1a-bd19-6eeb3b1de0fb\",\"type\":\"DEBUG\",\"date\":\"2020-04-05T04:43:15Z\",\"text\":\"Probing input file finished.\"},{\"id\":\"e4419ef5-c784-4622-bb79-638e4163ccb2\",\"type\":\"INFO\",\"date\":\"2020-04-05T04:43:15Z\",\"text\":\"Encoding in progress.\"},{\"id\":\"fbd40b30-d8cf-4e39-b528-40b2476d29e3\",\"type\":\"DEBUG\",\"date\":\"2020-04-05T04:43:15Z\",\"text\":\"Probing input file.\"}],\"subtasks\":[{\"id\":\"93c96a29-f3da-41bb-bf1f-58d56635a83f\",\"name\":\"Input file download\",\"runningAt\":\"2020-04-05T04:43:08Z\",\"updatedAt\":\"2020-04-05T04:43:13Z\",\"finishedAt\":\"2020-04-05T04:43:13Z\",\"progress\":100,\"status\":\"FINISHED\",\"metadata\":[{\"date\":\"2020-04-05T04:43:13Z\",\"data\":{\"size\":1172428172}}]},{\"id\":\"01018213-f08e-43fb-af96-36a6cae88b08\",\"name\":\"Input file analysis\",\"runningAt\":\"2020-04-05T04:43:13Z\",\"updatedAt\":\"2020-04-05T04:43:14Z\",\"finishedAt\":\"2020-04-05T04:43:14Z\",\"progress\":100,\"status\":\"FINISHED\"},{\"id\":\"2f4abaeb-9bbe-417a-a82c-af2867f79457\",\"name\":\"Analysis\",\"runningAt\":\"2020-04-05T04:43:17Z\",\"updatedAt\":\"2020-04-05T04:44:47Z\",\"finishedAt\":\"2020-04-05T04:43:27Z\",\"progress\":100,\"status\":\"FINISHED\",\"metadata\":[{\"date\":\"2020-04-05T04:43:17Z\",\"data\":{\"framesAnalysed\":0}}]},{\"id\":\"47a27b18-02f4-4686-90f3-d9fb200275cc\",\"name\":\"Encoding\",\"runningAt\":\"2020-04-05T04:43:15Z\",\"updatedAt\":\"2020-04-05T04:44:47Z\",\"progress\":6,\"status\":\"RUNNING\",\"metadata\":[{\"date\":\"2020-04-05T04:44:47Z\",\"data\":{\"bytesEncoded\":41279223,\"avgFramesEncodedPerSecond\":18.0,\"framesEncoded\":1440,\"realtimeFactor\":0.75}}]}]},\"messages\":[{\"id\":\"efdb17a0-03c1-4014-868f-acdc1379ab24\",\"date\":\"2020-04-05T04:44:49Z\",\"type\":\"INFO\",\"text\":\"Successfully retrieved status of Encoding with id 03ccf3c5-aa78-445f-8ad4-934f5542db24!\"}]}}\n"
     ]
    },
    {
     "name": "stdout",
     "output_type": "stream",
     "text": [
      "Encoding status is Status.RUNNING (progress: 42 %)\n",
      "2020-04-05 13:44:53,979 bitmovin_api_sdk.common.bitmovin_api_logger.BitmovinApiLogger DEBUG    REQUEST: GET https://api.bitmovin.com/v1/encoding/encodings/03ccf3c5-aa78-445f-8ad4-934f5542db24/status\n",
      "2020-04-05 13:44:54,334 bitmovin_api_sdk.common.bitmovin_api_logger.BitmovinApiLogger DEBUG    RESPONSE: {\"requestId\":\"d7acdba5-b411-4a2c-962b-829cc92a8046\",\"status\":\"SUCCESS\",\"data\":{\"result\":{\"id\":\"696e879a-68ee-4089-a397-3fc48fb324e9\",\"createdAt\":\"2020-04-05T04:37:51Z\",\"queuedAt\":\"2020-04-05T04:41:11Z\",\"runningAt\":\"2020-04-05T04:43:08Z\",\"eta\":100.0,\"progress\":42,\"status\":\"RUNNING\",\"messages\":[{\"id\":\"e4419ef5-c784-4622-bb79-638e4163ccb2\",\"type\":\"INFO\",\"date\":\"2020-04-05T04:43:15Z\",\"text\":\"Encoding in progress.\"},{\"id\":\"ea898311-1a00-4b1a-bd19-6eeb3b1de0fb\",\"type\":\"DEBUG\",\"date\":\"2020-04-05T04:43:15Z\",\"text\":\"Probing input file finished.\"},{\"id\":\"b5fc1c77-0d62-4d92-8724-c4bfd10c5eb9\",\"type\":\"INFO\",\"date\":\"2020-04-05T04:43:13Z\",\"text\":\"Analyzing input in progress.\"},{\"id\":\"d03aa2e2-8452-4c4f-a0f4-b26b0efa2d08\",\"type\":\"INFO\",\"date\":\"2020-04-05T04:43:13Z\",\"text\":\"Download of input file finished\"},{\"id\":\"fbd40b30-d8cf-4e39-b528-40b2476d29e3\",\"type\":\"DEBUG\",\"date\":\"2020-04-05T04:43:15Z\",\"text\":\"Probing input file.\"},{\"id\":\"3032d2b5-1a58-4965-ad7c-d3f074ae5b86\",\"type\":\"INFO\",\"date\":\"2020-04-05T04:43:08Z\",\"text\":\"Download of input file in progress.\"},{\"id\":\"1093a9e5-dcf6-4781-904e-a9f7eb6e58fe\",\"type\":\"DEBUG\",\"date\":\"2020-04-05T04:43:15Z\",\"text\":\"Setting up encoding configuration finished.\"},{\"id\":\"a07c6a30-fc19-4ad7-9398-e28b5a70cbe2\",\"type\":\"DEBUG\",\"date\":\"2020-04-05T04:43:15Z\",\"text\":\"Encoding on cluster started.\"},{\"id\":\"91f9d98f-91ce-4c66-a690-3d1d0504d157\",\"type\":\"INFO\",\"date\":\"2020-04-05T04:43:14Z\",\"text\":\"Analyzing input finished.\"}],\"subtasks\":[{\"id\":\"93c96a29-f3da-41bb-bf1f-58d56635a83f\",\"name\":\"Input file download\",\"runningAt\":\"2020-04-05T04:43:08Z\",\"updatedAt\":\"2020-04-05T04:43:13Z\",\"finishedAt\":\"2020-04-05T04:43:13Z\",\"progress\":100,\"status\":\"FINISHED\",\"metadata\":[{\"date\":\"2020-04-05T04:43:13Z\",\"data\":{\"size\":1172428172}}]},{\"id\":\"01018213-f08e-43fb-af96-36a6cae88b08\",\"name\":\"Input file analysis\",\"runningAt\":\"2020-04-05T04:43:13Z\",\"updatedAt\":\"2020-04-05T04:43:14Z\",\"finishedAt\":\"2020-04-05T04:43:14Z\",\"progress\":100,\"status\":\"FINISHED\"},{\"id\":\"2f4abaeb-9bbe-417a-a82c-af2867f79457\",\"name\":\"Analysis\",\"runningAt\":\"2020-04-05T04:43:17Z\",\"updatedAt\":\"2020-04-05T04:44:47Z\",\"finishedAt\":\"2020-04-05T04:43:27Z\",\"progress\":100,\"status\":\"FINISHED\",\"metadata\":[{\"date\":\"2020-04-05T04:43:17Z\",\"data\":{\"framesAnalysed\":0}}]},{\"id\":\"47a27b18-02f4-4686-90f3-d9fb200275cc\",\"name\":\"Encoding\",\"runningAt\":\"2020-04-05T04:43:15Z\",\"updatedAt\":\"2020-04-05T04:44:47Z\",\"progress\":6,\"status\":\"RUNNING\",\"metadata\":[{\"date\":\"2020-04-05T04:44:47Z\",\"data\":{\"bytesEncoded\":41279223,\"avgFramesEncodedPerSecond\":18.0,\"framesEncoded\":1440,\"realtimeFactor\":0.75}}]}]},\"messages\":[{\"id\":\"281f3ce2-f049-414f-881a-e431e5d771ab\",\"date\":\"2020-04-05T04:44:55Z\",\"type\":\"INFO\",\"text\":\"Successfully retrieved status of Encoding with id 03ccf3c5-aa78-445f-8ad4-934f5542db24!\"}]}}\n",
      "Encoding status is Status.RUNNING (progress: 42 %)\n",
      "2020-04-05 13:44:59,345 bitmovin_api_sdk.common.bitmovin_api_logger.BitmovinApiLogger DEBUG    REQUEST: GET https://api.bitmovin.com/v1/encoding/encodings/03ccf3c5-aa78-445f-8ad4-934f5542db24/status\n",
      "2020-04-05 13:44:59,690 bitmovin_api_sdk.common.bitmovin_api_logger.BitmovinApiLogger DEBUG    RESPONSE: {\"requestId\":\"ff59d59e-05ba-492b-a475-667009267319\",\"status\":\"SUCCESS\",\"data\":{\"result\":{\"id\":\"696e879a-68ee-4089-a397-3fc48fb324e9\",\"createdAt\":\"2020-04-05T04:37:51Z\",\"queuedAt\":\"2020-04-05T04:41:11Z\",\"runningAt\":\"2020-04-05T04:43:08Z\",\"eta\":100.0,\"progress\":45,\"status\":\"RUNNING\",\"messages\":[{\"id\":\"ea898311-1a00-4b1a-bd19-6eeb3b1de0fb\",\"type\":\"DEBUG\",\"date\":\"2020-04-05T04:43:15Z\",\"text\":\"Probing input file finished.\"},{\"id\":\"3032d2b5-1a58-4965-ad7c-d3f074ae5b86\",\"type\":\"INFO\",\"date\":\"2020-04-05T04:43:08Z\",\"text\":\"Download of input file in progress.\"},{\"id\":\"b5fc1c77-0d62-4d92-8724-c4bfd10c5eb9\",\"type\":\"INFO\",\"date\":\"2020-04-05T04:43:13Z\",\"text\":\"Analyzing input in progress.\"},{\"id\":\"d03aa2e2-8452-4c4f-a0f4-b26b0efa2d08\",\"type\":\"INFO\",\"date\":\"2020-04-05T04:43:13Z\",\"text\":\"Download of input file finished\"},{\"id\":\"1093a9e5-dcf6-4781-904e-a9f7eb6e58fe\",\"type\":\"DEBUG\",\"date\":\"2020-04-05T04:43:15Z\",\"text\":\"Setting up encoding configuration finished.\"},{\"id\":\"fbd40b30-d8cf-4e39-b528-40b2476d29e3\",\"type\":\"DEBUG\",\"date\":\"2020-04-05T04:43:15Z\",\"text\":\"Probing input file.\"},{\"id\":\"a07c6a30-fc19-4ad7-9398-e28b5a70cbe2\",\"type\":\"DEBUG\",\"date\":\"2020-04-05T04:43:15Z\",\"text\":\"Encoding on cluster started.\"},{\"id\":\"e4419ef5-c784-4622-bb79-638e4163ccb2\",\"type\":\"INFO\",\"date\":\"2020-04-05T04:43:15Z\",\"text\":\"Encoding in progress.\"},{\"id\":\"91f9d98f-91ce-4c66-a690-3d1d0504d157\",\"type\":\"INFO\",\"date\":\"2020-04-05T04:43:14Z\",\"text\":\"Analyzing input finished.\"}],\"subtasks\":[{\"id\":\"93c96a29-f3da-41bb-bf1f-58d56635a83f\",\"name\":\"Input file download\",\"runningAt\":\"2020-04-05T04:43:08Z\",\"updatedAt\":\"2020-04-05T04:43:13Z\",\"finishedAt\":\"2020-04-05T04:43:13Z\",\"progress\":100,\"status\":\"FINISHED\",\"metadata\":[{\"date\":\"2020-04-05T04:43:13Z\",\"data\":{\"size\":1172428172}}]},{\"id\":\"01018213-f08e-43fb-af96-36a6cae88b08\",\"name\":\"Input file analysis\",\"runningAt\":\"2020-04-05T04:43:13Z\",\"updatedAt\":\"2020-04-05T04:43:14Z\",\"finishedAt\":\"2020-04-05T04:43:14Z\",\"progress\":100,\"status\":\"FINISHED\"},{\"id\":\"2f4abaeb-9bbe-417a-a82c-af2867f79457\",\"name\":\"Analysis\",\"runningAt\":\"2020-04-05T04:43:17Z\",\"updatedAt\":\"2020-04-05T04:44:57Z\",\"finishedAt\":\"2020-04-05T04:43:27Z\",\"progress\":100,\"status\":\"FINISHED\",\"metadata\":[{\"date\":\"2020-04-05T04:43:17Z\",\"data\":{\"framesAnalysed\":0}}]},{\"id\":\"47a27b18-02f4-4686-90f3-d9fb200275cc\",\"name\":\"Encoding\",\"runningAt\":\"2020-04-05T04:43:15Z\",\"updatedAt\":\"2020-04-05T04:44:57Z\",\"progress\":13,\"status\":\"RUNNING\",\"metadata\":[{\"date\":\"2020-04-05T04:44:57Z\",\"data\":{\"bytesEncoded\":78755007,\"avgFramesEncodedPerSecond\":32.0,\"framesEncoded\":2880,\"realtimeFactor\":1.3333333333333333}}]}]},\"messages\":[{\"id\":\"d1a9af55-42bf-454d-bfcb-f11855b19e3a\",\"date\":\"2020-04-05T04:45:00Z\",\"type\":\"INFO\",\"text\":\"Successfully retrieved status of Encoding with id 03ccf3c5-aa78-445f-8ad4-934f5542db24!\"}]}}\n",
      "Encoding status is Status.RUNNING (progress: 45 %)\n",
      "2020-04-05 13:45:04,712 bitmovin_api_sdk.common.bitmovin_api_logger.BitmovinApiLogger DEBUG    REQUEST: GET https://api.bitmovin.com/v1/encoding/encodings/03ccf3c5-aa78-445f-8ad4-934f5542db24/status\n",
      "2020-04-05 13:45:05,198 bitmovin_api_sdk.common.bitmovin_api_logger.BitmovinApiLogger DEBUG    RESPONSE: {\"requestId\":\"c2631ff2-e5f1-4a3f-a36d-01b9793ef8de\",\"status\":\"SUCCESS\",\"data\":{\"result\":{\"id\":\"696e879a-68ee-4089-a397-3fc48fb324e9\",\"createdAt\":\"2020-04-05T04:37:51Z\",\"queuedAt\":\"2020-04-05T04:41:11Z\",\"runningAt\":\"2020-04-05T04:43:08Z\",\"eta\":100.0,\"progress\":45,\"status\":\"RUNNING\",\"messages\":[{\"id\":\"a07c6a30-fc19-4ad7-9398-e28b5a70cbe2\",\"type\":\"DEBUG\",\"date\":\"2020-04-05T04:43:15Z\",\"text\":\"Encoding on cluster started.\"},{\"id\":\"d03aa2e2-8452-4c4f-a0f4-b26b0efa2d08\",\"type\":\"INFO\",\"date\":\"2020-04-05T04:43:13Z\",\"text\":\"Download of input file finished\"},{\"id\":\"e4419ef5-c784-4622-bb79-638e4163ccb2\",\"type\":\"INFO\",\"date\":\"2020-04-05T04:43:15Z\",\"text\":\"Encoding in progress.\"},{\"id\":\"fbd40b30-d8cf-4e39-b528-40b2476d29e3\",\"type\":\"DEBUG\",\"date\":\"2020-04-05T04:43:15Z\",\"text\":\"Probing input file.\"},{\"id\":\"91f9d98f-91ce-4c66-a690-3d1d0504d157\",\"type\":\"INFO\",\"date\":\"2020-04-05T04:43:14Z\",\"text\":\"Analyzing input finished.\"},{\"id\":\"b5fc1c77-0d62-4d92-8724-c4bfd10c5eb9\",\"type\":\"INFO\",\"date\":\"2020-04-05T04:43:13Z\",\"text\":\"Analyzing input in progress.\"},{\"id\":\"3032d2b5-1a58-4965-ad7c-d3f074ae5b86\",\"type\":\"INFO\",\"date\":\"2020-04-05T04:43:08Z\",\"text\":\"Download of input file in progress.\"},{\"id\":\"c629d7ca-efc1-466a-bc9d-32c353b8a3e8\",\"type\":\"DEBUG\",\"date\":\"2020-04-05T04:45:04Z\",\"text\":\"Finished configuring and adding encoding instances\"},{\"id\":\"ea898311-1a00-4b1a-bd19-6eeb3b1de0fb\",\"type\":\"DEBUG\",\"date\":\"2020-04-05T04:43:15Z\",\"text\":\"Probing input file finished.\"},{\"id\":\"1093a9e5-dcf6-4781-904e-a9f7eb6e58fe\",\"type\":\"DEBUG\",\"date\":\"2020-04-05T04:43:15Z\",\"text\":\"Setting up encoding configuration finished.\"},{\"id\":\"92c71a96-21d5-4b8c-bd28-755272a2fb3b\",\"type\":\"DEBUG\",\"date\":\"2020-04-05T04:45:04Z\",\"text\":\"Finished adding and configuring encoding instance\"}],\"subtasks\":[{\"id\":\"93c96a29-f3da-41bb-bf1f-58d56635a83f\",\"name\":\"Input file download\",\"runningAt\":\"2020-04-05T04:43:08Z\",\"updatedAt\":\"2020-04-05T04:43:13Z\",\"finishedAt\":\"2020-04-05T04:43:13Z\",\"progress\":100,\"status\":\"FINISHED\",\"metadata\":[{\"date\":\"2020-04-05T04:43:13Z\",\"data\":{\"size\":1172428172}}]},{\"id\":\"01018213-f08e-43fb-af96-36a6cae88b08\",\"name\":\"Input file analysis\",\"runningAt\":\"2020-04-05T04:43:13Z\",\"updatedAt\":\"2020-04-05T04:43:14Z\",\"finishedAt\":\"2020-04-05T04:43:14Z\",\"progress\":100,\"status\":\"FINISHED\"},{\"id\":\"2f4abaeb-9bbe-417a-a82c-af2867f79457\",\"name\":\"Analysis\",\"runningAt\":\"2020-04-05T04:43:17Z\",\"updatedAt\":\"2020-04-05T04:44:57Z\",\"finishedAt\":\"2020-04-05T04:43:27Z\",\"progress\":100,\"status\":\"FINISHED\",\"metadata\":[{\"date\":\"2020-04-05T04:43:17Z\",\"data\":{\"framesAnalysed\":0}}]},{\"id\":\"47a27b18-02f4-4686-90f3-d9fb200275cc\",\"name\":\"Encoding\",\"runningAt\":\"2020-04-05T04:43:15Z\",\"updatedAt\":\"2020-04-05T04:44:57Z\",\"progress\":13,\"status\":\"RUNNING\",\"metadata\":[{\"date\":\"2020-04-05T04:44:57Z\",\"data\":{\"bytesEncoded\":78755007,\"avgFramesEncodedPerSecond\":32.0,\"framesEncoded\":2880,\"realtimeFactor\":1.3333333333333333}}]}]},\"messages\":[{\"id\":\"11c0ce09-cd86-43ad-829d-844ce42b0c32\",\"date\":\"2020-04-05T04:45:05Z\",\"type\":\"INFO\",\"text\":\"Successfully retrieved status of Encoding with id 03ccf3c5-aa78-445f-8ad4-934f5542db24!\"}]}}\n"
     ]
    },
    {
     "name": "stdout",
     "output_type": "stream",
     "text": [
      "Encoding status is Status.RUNNING (progress: 45 %)\n",
      "2020-04-05 13:45:10,210 bitmovin_api_sdk.common.bitmovin_api_logger.BitmovinApiLogger DEBUG    REQUEST: GET https://api.bitmovin.com/v1/encoding/encodings/03ccf3c5-aa78-445f-8ad4-934f5542db24/status\n",
      "2020-04-05 13:45:10,833 bitmovin_api_sdk.common.bitmovin_api_logger.BitmovinApiLogger DEBUG    RESPONSE: {\"requestId\":\"7c52db65-4506-4d1e-a436-f5f7e6c6e999\",\"status\":\"SUCCESS\",\"data\":{\"result\":{\"id\":\"696e879a-68ee-4089-a397-3fc48fb324e9\",\"createdAt\":\"2020-04-05T04:37:51Z\",\"queuedAt\":\"2020-04-05T04:41:11Z\",\"runningAt\":\"2020-04-05T04:43:08Z\",\"eta\":100.0,\"progress\":48,\"status\":\"RUNNING\",\"messages\":[{\"id\":\"e4419ef5-c784-4622-bb79-638e4163ccb2\",\"type\":\"INFO\",\"date\":\"2020-04-05T04:43:15Z\",\"text\":\"Encoding in progress.\"},{\"id\":\"ea898311-1a00-4b1a-bd19-6eeb3b1de0fb\",\"type\":\"DEBUG\",\"date\":\"2020-04-05T04:43:15Z\",\"text\":\"Probing input file finished.\"},{\"id\":\"c629d7ca-efc1-466a-bc9d-32c353b8a3e8\",\"type\":\"DEBUG\",\"date\":\"2020-04-05T04:45:04Z\",\"text\":\"Finished configuring and adding encoding instances\"},{\"id\":\"b5fc1c77-0d62-4d92-8724-c4bfd10c5eb9\",\"type\":\"INFO\",\"date\":\"2020-04-05T04:43:13Z\",\"text\":\"Analyzing input in progress.\"},{\"id\":\"d03aa2e2-8452-4c4f-a0f4-b26b0efa2d08\",\"type\":\"INFO\",\"date\":\"2020-04-05T04:43:13Z\",\"text\":\"Download of input file finished\"},{\"id\":\"fbd40b30-d8cf-4e39-b528-40b2476d29e3\",\"type\":\"DEBUG\",\"date\":\"2020-04-05T04:43:15Z\",\"text\":\"Probing input file.\"},{\"id\":\"92c71a96-21d5-4b8c-bd28-755272a2fb3b\",\"type\":\"DEBUG\",\"date\":\"2020-04-05T04:45:04Z\",\"text\":\"Finished adding and configuring encoding instance\"},{\"id\":\"3032d2b5-1a58-4965-ad7c-d3f074ae5b86\",\"type\":\"INFO\",\"date\":\"2020-04-05T04:43:08Z\",\"text\":\"Download of input file in progress.\"},{\"id\":\"1093a9e5-dcf6-4781-904e-a9f7eb6e58fe\",\"type\":\"DEBUG\",\"date\":\"2020-04-05T04:43:15Z\",\"text\":\"Setting up encoding configuration finished.\"},{\"id\":\"a07c6a30-fc19-4ad7-9398-e28b5a70cbe2\",\"type\":\"DEBUG\",\"date\":\"2020-04-05T04:43:15Z\",\"text\":\"Encoding on cluster started.\"},{\"id\":\"91f9d98f-91ce-4c66-a690-3d1d0504d157\",\"type\":\"INFO\",\"date\":\"2020-04-05T04:43:14Z\",\"text\":\"Analyzing input finished.\"}],\"subtasks\":[{\"id\":\"93c96a29-f3da-41bb-bf1f-58d56635a83f\",\"name\":\"Input file download\",\"runningAt\":\"2020-04-05T04:43:08Z\",\"updatedAt\":\"2020-04-05T04:43:13Z\",\"finishedAt\":\"2020-04-05T04:43:13Z\",\"progress\":100,\"status\":\"FINISHED\",\"metadata\":[{\"date\":\"2020-04-05T04:43:13Z\",\"data\":{\"size\":1172428172}}]},{\"id\":\"01018213-f08e-43fb-af96-36a6cae88b08\",\"name\":\"Input file analysis\",\"runningAt\":\"2020-04-05T04:43:13Z\",\"updatedAt\":\"2020-04-05T04:43:14Z\",\"finishedAt\":\"2020-04-05T04:43:14Z\",\"progress\":100,\"status\":\"FINISHED\"},{\"id\":\"2f4abaeb-9bbe-417a-a82c-af2867f79457\",\"name\":\"Analysis\",\"runningAt\":\"2020-04-05T04:43:17Z\",\"updatedAt\":\"2020-04-05T04:45:07Z\",\"finishedAt\":\"2020-04-05T04:43:27Z\",\"progress\":100,\"status\":\"FINISHED\",\"metadata\":[{\"date\":\"2020-04-05T04:43:17Z\",\"data\":{\"framesAnalysed\":0}}]},{\"id\":\"47a27b18-02f4-4686-90f3-d9fb200275cc\",\"name\":\"Encoding\",\"runningAt\":\"2020-04-05T04:43:15Z\",\"updatedAt\":\"2020-04-05T04:45:07Z\",\"progress\":22,\"status\":\"RUNNING\",\"metadata\":[{\"date\":\"2020-04-05T04:45:07Z\",\"data\":{\"bytesEncoded\":127325353,\"avgFramesEncodedPerSecond\":47.0,\"framesEncoded\":4704,\"realtimeFactor\":1.96}}]}]},\"messages\":[{\"id\":\"871a9c2c-31c9-4ce7-a31c-a596673dab28\",\"date\":\"2020-04-05T04:45:11Z\",\"type\":\"INFO\",\"text\":\"Successfully retrieved status of Encoding with id 03ccf3c5-aa78-445f-8ad4-934f5542db24!\"}]}}\n",
      "Encoding status is Status.RUNNING (progress: 48 %)\n",
      "2020-04-05 13:45:15,844 bitmovin_api_sdk.common.bitmovin_api_logger.BitmovinApiLogger DEBUG    REQUEST: GET https://api.bitmovin.com/v1/encoding/encodings/03ccf3c5-aa78-445f-8ad4-934f5542db24/status\n",
      "2020-04-05 13:45:16,200 bitmovin_api_sdk.common.bitmovin_api_logger.BitmovinApiLogger DEBUG    RESPONSE: {\"requestId\":\"a10949fb-ba10-449b-8ac3-2733064b9c5d\",\"status\":\"SUCCESS\",\"data\":{\"result\":{\"id\":\"696e879a-68ee-4089-a397-3fc48fb324e9\",\"createdAt\":\"2020-04-05T04:37:51Z\",\"queuedAt\":\"2020-04-05T04:41:11Z\",\"runningAt\":\"2020-04-05T04:43:08Z\",\"eta\":100.0,\"progress\":48,\"status\":\"RUNNING\",\"messages\":[{\"id\":\"c629d7ca-efc1-466a-bc9d-32c353b8a3e8\",\"type\":\"DEBUG\",\"date\":\"2020-04-05T04:45:04Z\",\"text\":\"Finished configuring and adding encoding instances\"},{\"id\":\"b5fc1c77-0d62-4d92-8724-c4bfd10c5eb9\",\"type\":\"INFO\",\"date\":\"2020-04-05T04:43:13Z\",\"text\":\"Analyzing input in progress.\"},{\"id\":\"d03aa2e2-8452-4c4f-a0f4-b26b0efa2d08\",\"type\":\"INFO\",\"date\":\"2020-04-05T04:43:13Z\",\"text\":\"Download of input file finished\"},{\"id\":\"fbd40b30-d8cf-4e39-b528-40b2476d29e3\",\"type\":\"DEBUG\",\"date\":\"2020-04-05T04:43:15Z\",\"text\":\"Probing input file.\"},{\"id\":\"92c71a96-21d5-4b8c-bd28-755272a2fb3b\",\"type\":\"DEBUG\",\"date\":\"2020-04-05T04:45:04Z\",\"text\":\"Finished adding and configuring encoding instance\"},{\"id\":\"3032d2b5-1a58-4965-ad7c-d3f074ae5b86\",\"type\":\"INFO\",\"date\":\"2020-04-05T04:43:08Z\",\"text\":\"Download of input file in progress.\"},{\"id\":\"1093a9e5-dcf6-4781-904e-a9f7eb6e58fe\",\"type\":\"DEBUG\",\"date\":\"2020-04-05T04:43:15Z\",\"text\":\"Setting up encoding configuration finished.\"},{\"id\":\"91f9d98f-91ce-4c66-a690-3d1d0504d157\",\"type\":\"INFO\",\"date\":\"2020-04-05T04:43:14Z\",\"text\":\"Analyzing input finished.\"},{\"id\":\"ea898311-1a00-4b1a-bd19-6eeb3b1de0fb\",\"type\":\"DEBUG\",\"date\":\"2020-04-05T04:43:15Z\",\"text\":\"Probing input file finished.\"},{\"id\":\"a07c6a30-fc19-4ad7-9398-e28b5a70cbe2\",\"type\":\"DEBUG\",\"date\":\"2020-04-05T04:43:15Z\",\"text\":\"Encoding on cluster started.\"},{\"id\":\"e4419ef5-c784-4622-bb79-638e4163ccb2\",\"type\":\"INFO\",\"date\":\"2020-04-05T04:43:15Z\",\"text\":\"Encoding in progress.\"}],\"subtasks\":[{\"id\":\"93c96a29-f3da-41bb-bf1f-58d56635a83f\",\"name\":\"Input file download\",\"runningAt\":\"2020-04-05T04:43:08Z\",\"updatedAt\":\"2020-04-05T04:43:13Z\",\"finishedAt\":\"2020-04-05T04:43:13Z\",\"progress\":100,\"status\":\"FINISHED\",\"metadata\":[{\"date\":\"2020-04-05T04:43:13Z\",\"data\":{\"size\":1172428172}}]},{\"id\":\"01018213-f08e-43fb-af96-36a6cae88b08\",\"name\":\"Input file analysis\",\"runningAt\":\"2020-04-05T04:43:13Z\",\"updatedAt\":\"2020-04-05T04:43:14Z\",\"finishedAt\":\"2020-04-05T04:43:14Z\",\"progress\":100,\"status\":\"FINISHED\"},{\"id\":\"2f4abaeb-9bbe-417a-a82c-af2867f79457\",\"name\":\"Analysis\",\"runningAt\":\"2020-04-05T04:43:17Z\",\"updatedAt\":\"2020-04-05T04:45:07Z\",\"finishedAt\":\"2020-04-05T04:43:27Z\",\"progress\":100,\"status\":\"FINISHED\",\"metadata\":[{\"date\":\"2020-04-05T04:43:17Z\",\"data\":{\"framesAnalysed\":0}}]},{\"id\":\"47a27b18-02f4-4686-90f3-d9fb200275cc\",\"name\":\"Encoding\",\"runningAt\":\"2020-04-05T04:43:15Z\",\"updatedAt\":\"2020-04-05T04:45:07Z\",\"progress\":22,\"status\":\"RUNNING\",\"metadata\":[{\"date\":\"2020-04-05T04:45:07Z\",\"data\":{\"bytesEncoded\":127325353,\"avgFramesEncodedPerSecond\":47.0,\"framesEncoded\":4704,\"realtimeFactor\":1.96}}]}]},\"messages\":[{\"id\":\"4257b3aa-063d-4411-b6ac-84b583be712b\",\"date\":\"2020-04-05T04:45:16Z\",\"type\":\"INFO\",\"text\":\"Successfully retrieved status of Encoding with id 03ccf3c5-aa78-445f-8ad4-934f5542db24!\"}]}}\n",
      "Encoding status is Status.RUNNING (progress: 48 %)\n",
      "2020-04-05 13:45:21,210 bitmovin_api_sdk.common.bitmovin_api_logger.BitmovinApiLogger DEBUG    REQUEST: GET https://api.bitmovin.com/v1/encoding/encodings/03ccf3c5-aa78-445f-8ad4-934f5542db24/status\n",
      "2020-04-05 13:45:21,667 bitmovin_api_sdk.common.bitmovin_api_logger.BitmovinApiLogger DEBUG    RESPONSE: {\"requestId\":\"646e5115-2f58-43c9-a746-52dfccef6912\",\"status\":\"SUCCESS\",\"data\":{\"result\":{\"id\":\"696e879a-68ee-4089-a397-3fc48fb324e9\",\"createdAt\":\"2020-04-05T04:37:51Z\",\"queuedAt\":\"2020-04-05T04:41:11Z\",\"runningAt\":\"2020-04-05T04:43:08Z\",\"eta\":100.0,\"progress\":50,\"status\":\"RUNNING\",\"messages\":[{\"id\":\"a07c6a30-fc19-4ad7-9398-e28b5a70cbe2\",\"type\":\"DEBUG\",\"date\":\"2020-04-05T04:43:15Z\",\"text\":\"Encoding on cluster started.\"},{\"id\":\"e4419ef5-c784-4622-bb79-638e4163ccb2\",\"type\":\"INFO\",\"date\":\"2020-04-05T04:43:15Z\",\"text\":\"Encoding in progress.\"},{\"id\":\"fbd40b30-d8cf-4e39-b528-40b2476d29e3\",\"type\":\"DEBUG\",\"date\":\"2020-04-05T04:43:15Z\",\"text\":\"Probing input file.\"},{\"id\":\"d03aa2e2-8452-4c4f-a0f4-b26b0efa2d08\",\"type\":\"INFO\",\"date\":\"2020-04-05T04:43:13Z\",\"text\":\"Download of input file finished\"},{\"id\":\"92c71a96-21d5-4b8c-bd28-755272a2fb3b\",\"type\":\"DEBUG\",\"date\":\"2020-04-05T04:45:04Z\",\"text\":\"Finished adding and configuring encoding instance\"},{\"id\":\"1093a9e5-dcf6-4781-904e-a9f7eb6e58fe\",\"type\":\"DEBUG\",\"date\":\"2020-04-05T04:43:15Z\",\"text\":\"Setting up encoding configuration finished.\"},{\"id\":\"91f9d98f-91ce-4c66-a690-3d1d0504d157\",\"type\":\"INFO\",\"date\":\"2020-04-05T04:43:14Z\",\"text\":\"Analyzing input finished.\"},{\"id\":\"3032d2b5-1a58-4965-ad7c-d3f074ae5b86\",\"type\":\"INFO\",\"date\":\"2020-04-05T04:43:08Z\",\"text\":\"Download of input file in progress.\"},{\"id\":\"b5fc1c77-0d62-4d92-8724-c4bfd10c5eb9\",\"type\":\"INFO\",\"date\":\"2020-04-05T04:43:13Z\",\"text\":\"Analyzing input in progress.\"},{\"id\":\"ea898311-1a00-4b1a-bd19-6eeb3b1de0fb\",\"type\":\"DEBUG\",\"date\":\"2020-04-05T04:43:15Z\",\"text\":\"Probing input file finished.\"},{\"id\":\"c629d7ca-efc1-466a-bc9d-32c353b8a3e8\",\"type\":\"DEBUG\",\"date\":\"2020-04-05T04:45:04Z\",\"text\":\"Finished configuring and adding encoding instances\"}],\"subtasks\":[{\"id\":\"93c96a29-f3da-41bb-bf1f-58d56635a83f\",\"name\":\"Input file download\",\"runningAt\":\"2020-04-05T04:43:08Z\",\"updatedAt\":\"2020-04-05T04:43:13Z\",\"finishedAt\":\"2020-04-05T04:43:13Z\",\"progress\":100,\"status\":\"FINISHED\",\"metadata\":[{\"date\":\"2020-04-05T04:43:13Z\",\"data\":{\"size\":1172428172}}]},{\"id\":\"01018213-f08e-43fb-af96-36a6cae88b08\",\"name\":\"Input file analysis\",\"runningAt\":\"2020-04-05T04:43:13Z\",\"updatedAt\":\"2020-04-05T04:43:14Z\",\"finishedAt\":\"2020-04-05T04:43:14Z\",\"progress\":100,\"status\":\"FINISHED\"},{\"id\":\"2f4abaeb-9bbe-417a-a82c-af2867f79457\",\"name\":\"Analysis\",\"runningAt\":\"2020-04-05T04:43:17Z\",\"updatedAt\":\"2020-04-05T04:45:17Z\",\"finishedAt\":\"2020-04-05T04:43:27Z\",\"progress\":100,\"status\":\"FINISHED\",\"metadata\":[{\"date\":\"2020-04-05T04:43:17Z\",\"data\":{\"framesAnalysed\":0}}]},{\"id\":\"47a27b18-02f4-4686-90f3-d9fb200275cc\",\"name\":\"Encoding\",\"runningAt\":\"2020-04-05T04:43:15Z\",\"updatedAt\":\"2020-04-05T04:45:17Z\",\"progress\":27,\"status\":\"RUNNING\",\"metadata\":[{\"date\":\"2020-04-05T04:45:17Z\",\"data\":{\"bytesEncoded\":159104253,\"avgFramesEncodedPerSecond\":54.0,\"framesEncoded\":5952,\"realtimeFactor\":2.2545454545454544}}]}]},\"messages\":[{\"id\":\"8d3dfa1a-0c76-4222-a837-01aaea4e7f6d\",\"date\":\"2020-04-05T04:45:22Z\",\"type\":\"INFO\",\"text\":\"Successfully retrieved status of Encoding with id 03ccf3c5-aa78-445f-8ad4-934f5542db24!\"}]}}\n"
     ]
    },
    {
     "name": "stdout",
     "output_type": "stream",
     "text": [
      "Encoding status is Status.RUNNING (progress: 50 %)\n",
      "2020-04-05 13:45:26,684 bitmovin_api_sdk.common.bitmovin_api_logger.BitmovinApiLogger DEBUG    REQUEST: GET https://api.bitmovin.com/v1/encoding/encodings/03ccf3c5-aa78-445f-8ad4-934f5542db24/status\n",
      "2020-04-05 13:45:27,059 bitmovin_api_sdk.common.bitmovin_api_logger.BitmovinApiLogger DEBUG    RESPONSE: {\"requestId\":\"8eec69c3-bef3-4341-8cb0-38da1919709e\",\"status\":\"SUCCESS\",\"data\":{\"result\":{\"id\":\"696e879a-68ee-4089-a397-3fc48fb324e9\",\"createdAt\":\"2020-04-05T04:37:51Z\",\"queuedAt\":\"2020-04-05T04:41:11Z\",\"runningAt\":\"2020-04-05T04:43:08Z\",\"eta\":100.0,\"progress\":54,\"status\":\"RUNNING\",\"messages\":[{\"id\":\"1093a9e5-dcf6-4781-904e-a9f7eb6e58fe\",\"type\":\"DEBUG\",\"date\":\"2020-04-05T04:43:15Z\",\"text\":\"Setting up encoding configuration finished.\"},{\"id\":\"92c71a96-21d5-4b8c-bd28-755272a2fb3b\",\"type\":\"DEBUG\",\"date\":\"2020-04-05T04:45:04Z\",\"text\":\"Finished adding and configuring encoding instance\"},{\"id\":\"91f9d98f-91ce-4c66-a690-3d1d0504d157\",\"type\":\"INFO\",\"date\":\"2020-04-05T04:43:14Z\",\"text\":\"Analyzing input finished.\"},{\"id\":\"e4419ef5-c784-4622-bb79-638e4163ccb2\",\"type\":\"INFO\",\"date\":\"2020-04-05T04:43:15Z\",\"text\":\"Encoding in progress.\"},{\"id\":\"fbd40b30-d8cf-4e39-b528-40b2476d29e3\",\"type\":\"DEBUG\",\"date\":\"2020-04-05T04:43:15Z\",\"text\":\"Probing input file.\"},{\"id\":\"ea898311-1a00-4b1a-bd19-6eeb3b1de0fb\",\"type\":\"DEBUG\",\"date\":\"2020-04-05T04:43:15Z\",\"text\":\"Probing input file finished.\"},{\"id\":\"d03aa2e2-8452-4c4f-a0f4-b26b0efa2d08\",\"type\":\"INFO\",\"date\":\"2020-04-05T04:43:13Z\",\"text\":\"Download of input file finished\"},{\"id\":\"a07c6a30-fc19-4ad7-9398-e28b5a70cbe2\",\"type\":\"DEBUG\",\"date\":\"2020-04-05T04:43:15Z\",\"text\":\"Encoding on cluster started.\"},{\"id\":\"c629d7ca-efc1-466a-bc9d-32c353b8a3e8\",\"type\":\"DEBUG\",\"date\":\"2020-04-05T04:45:04Z\",\"text\":\"Finished configuring and adding encoding instances\"},{\"id\":\"3032d2b5-1a58-4965-ad7c-d3f074ae5b86\",\"type\":\"INFO\",\"date\":\"2020-04-05T04:43:08Z\",\"text\":\"Download of input file in progress.\"},{\"id\":\"b5fc1c77-0d62-4d92-8724-c4bfd10c5eb9\",\"type\":\"INFO\",\"date\":\"2020-04-05T04:43:13Z\",\"text\":\"Analyzing input in progress.\"}],\"subtasks\":[{\"id\":\"93c96a29-f3da-41bb-bf1f-58d56635a83f\",\"name\":\"Input file download\",\"runningAt\":\"2020-04-05T04:43:08Z\",\"updatedAt\":\"2020-04-05T04:43:13Z\",\"finishedAt\":\"2020-04-05T04:43:13Z\",\"progress\":100,\"status\":\"FINISHED\",\"metadata\":[{\"date\":\"2020-04-05T04:43:13Z\",\"data\":{\"size\":1172428172}}]},{\"id\":\"01018213-f08e-43fb-af96-36a6cae88b08\",\"name\":\"Input file analysis\",\"runningAt\":\"2020-04-05T04:43:13Z\",\"updatedAt\":\"2020-04-05T04:43:14Z\",\"finishedAt\":\"2020-04-05T04:43:14Z\",\"progress\":100,\"status\":\"FINISHED\"},{\"id\":\"2f4abaeb-9bbe-417a-a82c-af2867f79457\",\"name\":\"Analysis\",\"runningAt\":\"2020-04-05T04:43:17Z\",\"updatedAt\":\"2020-04-05T04:45:27Z\",\"finishedAt\":\"2020-04-05T04:43:27Z\",\"progress\":100,\"status\":\"FINISHED\",\"metadata\":[{\"date\":\"2020-04-05T04:43:17Z\",\"data\":{\"framesAnalysed\":0}}]},{\"id\":\"47a27b18-02f4-4686-90f3-d9fb200275cc\",\"name\":\"Encoding\",\"runningAt\":\"2020-04-05T04:43:15Z\",\"updatedAt\":\"2020-04-05T04:45:27Z\",\"progress\":36,\"status\":\"RUNNING\",\"metadata\":[{\"date\":\"2020-04-05T04:45:27Z\",\"data\":{\"bytesEncoded\":206516609,\"avgFramesEncodedPerSecond\":64.0,\"framesEncoded\":7776,\"realtimeFactor\":2.7}}]}]},\"messages\":[{\"id\":\"93a9375b-3edf-415a-a1c6-9ef71f5eff47\",\"date\":\"2020-04-05T04:45:27Z\",\"type\":\"INFO\",\"text\":\"Successfully retrieved status of Encoding with id 03ccf3c5-aa78-445f-8ad4-934f5542db24!\"}]}}\n",
      "Encoding status is Status.RUNNING (progress: 54 %)\n",
      "2020-04-05 13:45:32,076 bitmovin_api_sdk.common.bitmovin_api_logger.BitmovinApiLogger DEBUG    REQUEST: GET https://api.bitmovin.com/v1/encoding/encodings/03ccf3c5-aa78-445f-8ad4-934f5542db24/status\n",
      "2020-04-05 13:45:32,718 bitmovin_api_sdk.common.bitmovin_api_logger.BitmovinApiLogger DEBUG    RESPONSE: {\"requestId\":\"b145f098-abef-490f-a021-ba01b356ec76\",\"status\":\"SUCCESS\",\"data\":{\"result\":{\"id\":\"696e879a-68ee-4089-a397-3fc48fb324e9\",\"createdAt\":\"2020-04-05T04:37:51Z\",\"queuedAt\":\"2020-04-05T04:41:11Z\",\"runningAt\":\"2020-04-05T04:43:08Z\",\"eta\":100.0,\"progress\":54,\"status\":\"RUNNING\",\"messages\":[{\"id\":\"1093a9e5-dcf6-4781-904e-a9f7eb6e58fe\",\"type\":\"DEBUG\",\"date\":\"2020-04-05T04:43:15Z\",\"text\":\"Setting up encoding configuration finished.\"},{\"id\":\"92c71a96-21d5-4b8c-bd28-755272a2fb3b\",\"type\":\"DEBUG\",\"date\":\"2020-04-05T04:45:04Z\",\"text\":\"Finished adding and configuring encoding instance\"},{\"id\":\"91f9d98f-91ce-4c66-a690-3d1d0504d157\",\"type\":\"INFO\",\"date\":\"2020-04-05T04:43:14Z\",\"text\":\"Analyzing input finished.\"},{\"id\":\"e4419ef5-c784-4622-bb79-638e4163ccb2\",\"type\":\"INFO\",\"date\":\"2020-04-05T04:43:15Z\",\"text\":\"Encoding in progress.\"},{\"id\":\"fbd40b30-d8cf-4e39-b528-40b2476d29e3\",\"type\":\"DEBUG\",\"date\":\"2020-04-05T04:43:15Z\",\"text\":\"Probing input file.\"},{\"id\":\"ea898311-1a00-4b1a-bd19-6eeb3b1de0fb\",\"type\":\"DEBUG\",\"date\":\"2020-04-05T04:43:15Z\",\"text\":\"Probing input file finished.\"},{\"id\":\"d03aa2e2-8452-4c4f-a0f4-b26b0efa2d08\",\"type\":\"INFO\",\"date\":\"2020-04-05T04:43:13Z\",\"text\":\"Download of input file finished\"},{\"id\":\"a07c6a30-fc19-4ad7-9398-e28b5a70cbe2\",\"type\":\"DEBUG\",\"date\":\"2020-04-05T04:43:15Z\",\"text\":\"Encoding on cluster started.\"},{\"id\":\"c629d7ca-efc1-466a-bc9d-32c353b8a3e8\",\"type\":\"DEBUG\",\"date\":\"2020-04-05T04:45:04Z\",\"text\":\"Finished configuring and adding encoding instances\"},{\"id\":\"3032d2b5-1a58-4965-ad7c-d3f074ae5b86\",\"type\":\"INFO\",\"date\":\"2020-04-05T04:43:08Z\",\"text\":\"Download of input file in progress.\"},{\"id\":\"b5fc1c77-0d62-4d92-8724-c4bfd10c5eb9\",\"type\":\"INFO\",\"date\":\"2020-04-05T04:43:13Z\",\"text\":\"Analyzing input in progress.\"}],\"subtasks\":[{\"id\":\"93c96a29-f3da-41bb-bf1f-58d56635a83f\",\"name\":\"Input file download\",\"runningAt\":\"2020-04-05T04:43:08Z\",\"updatedAt\":\"2020-04-05T04:43:13Z\",\"finishedAt\":\"2020-04-05T04:43:13Z\",\"progress\":100,\"status\":\"FINISHED\",\"metadata\":[{\"date\":\"2020-04-05T04:43:13Z\",\"data\":{\"size\":1172428172}}]},{\"id\":\"01018213-f08e-43fb-af96-36a6cae88b08\",\"name\":\"Input file analysis\",\"runningAt\":\"2020-04-05T04:43:13Z\",\"updatedAt\":\"2020-04-05T04:43:14Z\",\"finishedAt\":\"2020-04-05T04:43:14Z\",\"progress\":100,\"status\":\"FINISHED\"},{\"id\":\"2f4abaeb-9bbe-417a-a82c-af2867f79457\",\"name\":\"Analysis\",\"runningAt\":\"2020-04-05T04:43:17Z\",\"updatedAt\":\"2020-04-05T04:45:27Z\",\"finishedAt\":\"2020-04-05T04:43:27Z\",\"progress\":100,\"status\":\"FINISHED\",\"metadata\":[{\"date\":\"2020-04-05T04:43:17Z\",\"data\":{\"framesAnalysed\":0}}]},{\"id\":\"47a27b18-02f4-4686-90f3-d9fb200275cc\",\"name\":\"Encoding\",\"runningAt\":\"2020-04-05T04:43:15Z\",\"updatedAt\":\"2020-04-05T04:45:27Z\",\"progress\":36,\"status\":\"RUNNING\",\"metadata\":[{\"date\":\"2020-04-05T04:45:27Z\",\"data\":{\"bytesEncoded\":206516609,\"avgFramesEncodedPerSecond\":64.0,\"framesEncoded\":7776,\"realtimeFactor\":2.7}}]}]},\"messages\":[{\"id\":\"95e10fa3-caa2-4aec-9549-da9381d76b36\",\"date\":\"2020-04-05T04:45:33Z\",\"type\":\"INFO\",\"text\":\"Successfully retrieved status of Encoding with id 03ccf3c5-aa78-445f-8ad4-934f5542db24!\"}]}}\n",
      "Encoding status is Status.RUNNING (progress: 54 %)\n",
      "2020-04-05 13:45:37,731 bitmovin_api_sdk.common.bitmovin_api_logger.BitmovinApiLogger DEBUG    REQUEST: GET https://api.bitmovin.com/v1/encoding/encodings/03ccf3c5-aa78-445f-8ad4-934f5542db24/status\n",
      "2020-04-05 13:45:38,087 bitmovin_api_sdk.common.bitmovin_api_logger.BitmovinApiLogger DEBUG    RESPONSE: {\"requestId\":\"61541d85-630a-421a-bd61-721f6bc1cf1d\",\"status\":\"SUCCESS\",\"data\":{\"result\":{\"id\":\"696e879a-68ee-4089-a397-3fc48fb324e9\",\"createdAt\":\"2020-04-05T04:37:51Z\",\"queuedAt\":\"2020-04-05T04:41:11Z\",\"runningAt\":\"2020-04-05T04:43:08Z\",\"eta\":100.0,\"progress\":58,\"status\":\"RUNNING\",\"messages\":[{\"id\":\"a07c6a30-fc19-4ad7-9398-e28b5a70cbe2\",\"type\":\"DEBUG\",\"date\":\"2020-04-05T04:43:15Z\",\"text\":\"Encoding on cluster started.\"},{\"id\":\"e4419ef5-c784-4622-bb79-638e4163ccb2\",\"type\":\"INFO\",\"date\":\"2020-04-05T04:43:15Z\",\"text\":\"Encoding in progress.\"},{\"id\":\"fbd40b30-d8cf-4e39-b528-40b2476d29e3\",\"type\":\"DEBUG\",\"date\":\"2020-04-05T04:43:15Z\",\"text\":\"Probing input file.\"},{\"id\":\"d03aa2e2-8452-4c4f-a0f4-b26b0efa2d08\",\"type\":\"INFO\",\"date\":\"2020-04-05T04:43:13Z\",\"text\":\"Download of input file finished\"},{\"id\":\"92c71a96-21d5-4b8c-bd28-755272a2fb3b\",\"type\":\"DEBUG\",\"date\":\"2020-04-05T04:45:04Z\",\"text\":\"Finished adding and configuring encoding instance\"},{\"id\":\"1093a9e5-dcf6-4781-904e-a9f7eb6e58fe\",\"type\":\"DEBUG\",\"date\":\"2020-04-05T04:43:15Z\",\"text\":\"Setting up encoding configuration finished.\"},{\"id\":\"91f9d98f-91ce-4c66-a690-3d1d0504d157\",\"type\":\"INFO\",\"date\":\"2020-04-05T04:43:14Z\",\"text\":\"Analyzing input finished.\"},{\"id\":\"3032d2b5-1a58-4965-ad7c-d3f074ae5b86\",\"type\":\"INFO\",\"date\":\"2020-04-05T04:43:08Z\",\"text\":\"Download of input file in progress.\"},{\"id\":\"b5fc1c77-0d62-4d92-8724-c4bfd10c5eb9\",\"type\":\"INFO\",\"date\":\"2020-04-05T04:43:13Z\",\"text\":\"Analyzing input in progress.\"},{\"id\":\"ea898311-1a00-4b1a-bd19-6eeb3b1de0fb\",\"type\":\"DEBUG\",\"date\":\"2020-04-05T04:43:15Z\",\"text\":\"Probing input file finished.\"},{\"id\":\"c629d7ca-efc1-466a-bc9d-32c353b8a3e8\",\"type\":\"DEBUG\",\"date\":\"2020-04-05T04:45:04Z\",\"text\":\"Finished configuring and adding encoding instances\"}],\"subtasks\":[{\"id\":\"93c96a29-f3da-41bb-bf1f-58d56635a83f\",\"name\":\"Input file download\",\"runningAt\":\"2020-04-05T04:43:08Z\",\"updatedAt\":\"2020-04-05T04:43:13Z\",\"finishedAt\":\"2020-04-05T04:43:13Z\",\"progress\":100,\"status\":\"FINISHED\",\"metadata\":[{\"date\":\"2020-04-05T04:43:13Z\",\"data\":{\"size\":1172428172}}]},{\"id\":\"01018213-f08e-43fb-af96-36a6cae88b08\",\"name\":\"Input file analysis\",\"runningAt\":\"2020-04-05T04:43:13Z\",\"updatedAt\":\"2020-04-05T04:43:14Z\",\"finishedAt\":\"2020-04-05T04:43:14Z\",\"progress\":100,\"status\":\"FINISHED\"},{\"id\":\"2f4abaeb-9bbe-417a-a82c-af2867f79457\",\"name\":\"Analysis\",\"runningAt\":\"2020-04-05T04:43:17Z\",\"updatedAt\":\"2020-04-05T04:45:37Z\",\"finishedAt\":\"2020-04-05T04:43:27Z\",\"progress\":100,\"status\":\"FINISHED\",\"metadata\":[{\"date\":\"2020-04-05T04:43:17Z\",\"data\":{\"framesAnalysed\":0}}]},{\"id\":\"47a27b18-02f4-4686-90f3-d9fb200275cc\",\"name\":\"Encoding\",\"runningAt\":\"2020-04-05T04:43:15Z\",\"updatedAt\":\"2020-04-05T04:45:37Z\",\"progress\":45,\"status\":\"RUNNING\",\"metadata\":[{\"date\":\"2020-04-05T04:45:37Z\",\"data\":{\"bytesEncoded\":260805252,\"avgFramesEncodedPerSecond\":75.0,\"framesEncoded\":9792,\"realtimeFactor\":3.1384615384615384}}]}]},\"messages\":[{\"id\":\"3d340bdf-b072-4179-b5de-64352d388a88\",\"date\":\"2020-04-05T04:45:38Z\",\"type\":\"INFO\",\"text\":\"Successfully retrieved status of Encoding with id 03ccf3c5-aa78-445f-8ad4-934f5542db24!\"}]}}\n"
     ]
    },
    {
     "name": "stdout",
     "output_type": "stream",
     "text": [
      "Encoding status is Status.RUNNING (progress: 58 %)\n",
      "2020-04-05 13:45:43,103 bitmovin_api_sdk.common.bitmovin_api_logger.BitmovinApiLogger DEBUG    REQUEST: GET https://api.bitmovin.com/v1/encoding/encodings/03ccf3c5-aa78-445f-8ad4-934f5542db24/status\n",
      "2020-04-05 13:45:43,528 bitmovin_api_sdk.common.bitmovin_api_logger.BitmovinApiLogger DEBUG    RESPONSE: {\"requestId\":\"7ba73b3c-2f94-48c7-a7c0-bc081477d90b\",\"status\":\"SUCCESS\",\"data\":{\"result\":{\"id\":\"696e879a-68ee-4089-a397-3fc48fb324e9\",\"createdAt\":\"2020-04-05T04:37:51Z\",\"queuedAt\":\"2020-04-05T04:41:11Z\",\"runningAt\":\"2020-04-05T04:43:08Z\",\"eta\":100.0,\"progress\":58,\"status\":\"RUNNING\",\"messages\":[{\"id\":\"1093a9e5-dcf6-4781-904e-a9f7eb6e58fe\",\"type\":\"DEBUG\",\"date\":\"2020-04-05T04:43:15Z\",\"text\":\"Setting up encoding configuration finished.\"},{\"id\":\"92c71a96-21d5-4b8c-bd28-755272a2fb3b\",\"type\":\"DEBUG\",\"date\":\"2020-04-05T04:45:04Z\",\"text\":\"Finished adding and configuring encoding instance\"},{\"id\":\"91f9d98f-91ce-4c66-a690-3d1d0504d157\",\"type\":\"INFO\",\"date\":\"2020-04-05T04:43:14Z\",\"text\":\"Analyzing input finished.\"},{\"id\":\"e4419ef5-c784-4622-bb79-638e4163ccb2\",\"type\":\"INFO\",\"date\":\"2020-04-05T04:43:15Z\",\"text\":\"Encoding in progress.\"},{\"id\":\"fbd40b30-d8cf-4e39-b528-40b2476d29e3\",\"type\":\"DEBUG\",\"date\":\"2020-04-05T04:43:15Z\",\"text\":\"Probing input file.\"},{\"id\":\"ea898311-1a00-4b1a-bd19-6eeb3b1de0fb\",\"type\":\"DEBUG\",\"date\":\"2020-04-05T04:43:15Z\",\"text\":\"Probing input file finished.\"},{\"id\":\"d03aa2e2-8452-4c4f-a0f4-b26b0efa2d08\",\"type\":\"INFO\",\"date\":\"2020-04-05T04:43:13Z\",\"text\":\"Download of input file finished\"},{\"id\":\"a07c6a30-fc19-4ad7-9398-e28b5a70cbe2\",\"type\":\"DEBUG\",\"date\":\"2020-04-05T04:43:15Z\",\"text\":\"Encoding on cluster started.\"},{\"id\":\"c629d7ca-efc1-466a-bc9d-32c353b8a3e8\",\"type\":\"DEBUG\",\"date\":\"2020-04-05T04:45:04Z\",\"text\":\"Finished configuring and adding encoding instances\"},{\"id\":\"3032d2b5-1a58-4965-ad7c-d3f074ae5b86\",\"type\":\"INFO\",\"date\":\"2020-04-05T04:43:08Z\",\"text\":\"Download of input file in progress.\"},{\"id\":\"b5fc1c77-0d62-4d92-8724-c4bfd10c5eb9\",\"type\":\"INFO\",\"date\":\"2020-04-05T04:43:13Z\",\"text\":\"Analyzing input in progress.\"}],\"subtasks\":[{\"id\":\"93c96a29-f3da-41bb-bf1f-58d56635a83f\",\"name\":\"Input file download\",\"runningAt\":\"2020-04-05T04:43:08Z\",\"updatedAt\":\"2020-04-05T04:43:13Z\",\"finishedAt\":\"2020-04-05T04:43:13Z\",\"progress\":100,\"status\":\"FINISHED\",\"metadata\":[{\"date\":\"2020-04-05T04:43:13Z\",\"data\":{\"size\":1172428172}}]},{\"id\":\"01018213-f08e-43fb-af96-36a6cae88b08\",\"name\":\"Input file analysis\",\"runningAt\":\"2020-04-05T04:43:13Z\",\"updatedAt\":\"2020-04-05T04:43:14Z\",\"finishedAt\":\"2020-04-05T04:43:14Z\",\"progress\":100,\"status\":\"FINISHED\"},{\"id\":\"2f4abaeb-9bbe-417a-a82c-af2867f79457\",\"name\":\"Analysis\",\"runningAt\":\"2020-04-05T04:43:17Z\",\"updatedAt\":\"2020-04-05T04:45:37Z\",\"finishedAt\":\"2020-04-05T04:43:27Z\",\"progress\":100,\"status\":\"FINISHED\",\"metadata\":[{\"date\":\"2020-04-05T04:43:17Z\",\"data\":{\"framesAnalysed\":0}}]},{\"id\":\"47a27b18-02f4-4686-90f3-d9fb200275cc\",\"name\":\"Encoding\",\"runningAt\":\"2020-04-05T04:43:15Z\",\"updatedAt\":\"2020-04-05T04:45:37Z\",\"progress\":45,\"status\":\"RUNNING\",\"metadata\":[{\"date\":\"2020-04-05T04:45:37Z\",\"data\":{\"bytesEncoded\":260805252,\"avgFramesEncodedPerSecond\":75.0,\"framesEncoded\":9792,\"realtimeFactor\":3.1384615384615384}}]}]},\"messages\":[{\"id\":\"263a75e7-d55f-4a08-80fb-95e1f2898538\",\"date\":\"2020-04-05T04:45:44Z\",\"type\":\"INFO\",\"text\":\"Successfully retrieved status of Encoding with id 03ccf3c5-aa78-445f-8ad4-934f5542db24!\"}]}}\n",
      "Encoding status is Status.RUNNING (progress: 58 %)\n",
      "2020-04-05 13:45:48,539 bitmovin_api_sdk.common.bitmovin_api_logger.BitmovinApiLogger DEBUG    REQUEST: GET https://api.bitmovin.com/v1/encoding/encodings/03ccf3c5-aa78-445f-8ad4-934f5542db24/status\n",
      "2020-04-05 13:45:48,959 bitmovin_api_sdk.common.bitmovin_api_logger.BitmovinApiLogger DEBUG    RESPONSE: {\"requestId\":\"8a8e5a4c-64a5-443c-ac34-5d6b52e370a7\",\"status\":\"SUCCESS\",\"data\":{\"result\":{\"id\":\"696e879a-68ee-4089-a397-3fc48fb324e9\",\"createdAt\":\"2020-04-05T04:37:51Z\",\"queuedAt\":\"2020-04-05T04:41:11Z\",\"runningAt\":\"2020-04-05T04:43:08Z\",\"eta\":100.0,\"progress\":62,\"status\":\"RUNNING\",\"messages\":[{\"id\":\"91f9d98f-91ce-4c66-a690-3d1d0504d157\",\"type\":\"INFO\",\"date\":\"2020-04-05T04:43:14Z\",\"text\":\"Analyzing input finished.\"},{\"id\":\"3032d2b5-1a58-4965-ad7c-d3f074ae5b86\",\"type\":\"INFO\",\"date\":\"2020-04-05T04:43:08Z\",\"text\":\"Download of input file in progress.\"},{\"id\":\"b5fc1c77-0d62-4d92-8724-c4bfd10c5eb9\",\"type\":\"INFO\",\"date\":\"2020-04-05T04:43:13Z\",\"text\":\"Analyzing input in progress.\"},{\"id\":\"92c71a96-21d5-4b8c-bd28-755272a2fb3b\",\"type\":\"DEBUG\",\"date\":\"2020-04-05T04:45:04Z\",\"text\":\"Finished adding and configuring encoding instance\"},{\"id\":\"1093a9e5-dcf6-4781-904e-a9f7eb6e58fe\",\"type\":\"DEBUG\",\"date\":\"2020-04-05T04:43:15Z\",\"text\":\"Setting up encoding configuration finished.\"},{\"id\":\"a07c6a30-fc19-4ad7-9398-e28b5a70cbe2\",\"type\":\"DEBUG\",\"date\":\"2020-04-05T04:43:15Z\",\"text\":\"Encoding on cluster started.\"},{\"id\":\"d03aa2e2-8452-4c4f-a0f4-b26b0efa2d08\",\"type\":\"INFO\",\"date\":\"2020-04-05T04:43:13Z\",\"text\":\"Download of input file finished\"},{\"id\":\"e4419ef5-c784-4622-bb79-638e4163ccb2\",\"type\":\"INFO\",\"date\":\"2020-04-05T04:43:15Z\",\"text\":\"Encoding in progress.\"},{\"id\":\"fbd40b30-d8cf-4e39-b528-40b2476d29e3\",\"type\":\"DEBUG\",\"date\":\"2020-04-05T04:43:15Z\",\"text\":\"Probing input file.\"},{\"id\":\"ea898311-1a00-4b1a-bd19-6eeb3b1de0fb\",\"type\":\"DEBUG\",\"date\":\"2020-04-05T04:43:15Z\",\"text\":\"Probing input file finished.\"},{\"id\":\"c629d7ca-efc1-466a-bc9d-32c353b8a3e8\",\"type\":\"DEBUG\",\"date\":\"2020-04-05T04:45:04Z\",\"text\":\"Finished configuring and adding encoding instances\"}],\"subtasks\":[{\"id\":\"93c96a29-f3da-41bb-bf1f-58d56635a83f\",\"name\":\"Input file download\",\"runningAt\":\"2020-04-05T04:43:08Z\",\"updatedAt\":\"2020-04-05T04:43:13Z\",\"finishedAt\":\"2020-04-05T04:43:13Z\",\"progress\":100,\"status\":\"FINISHED\",\"metadata\":[{\"date\":\"2020-04-05T04:43:13Z\",\"data\":{\"size\":1172428172}}]},{\"id\":\"01018213-f08e-43fb-af96-36a6cae88b08\",\"name\":\"Input file analysis\",\"runningAt\":\"2020-04-05T04:43:13Z\",\"updatedAt\":\"2020-04-05T04:43:14Z\",\"finishedAt\":\"2020-04-05T04:43:14Z\",\"progress\":100,\"status\":\"FINISHED\"},{\"id\":\"2f4abaeb-9bbe-417a-a82c-af2867f79457\",\"name\":\"Analysis\",\"runningAt\":\"2020-04-05T04:43:17Z\",\"updatedAt\":\"2020-04-05T04:45:47Z\",\"finishedAt\":\"2020-04-05T04:43:27Z\",\"progress\":100,\"status\":\"FINISHED\",\"metadata\":[{\"date\":\"2020-04-05T04:43:17Z\",\"data\":{\"framesAnalysed\":0}}]},{\"id\":\"47a27b18-02f4-4686-90f3-d9fb200275cc\",\"name\":\"Encoding\",\"runningAt\":\"2020-04-05T04:43:15Z\",\"updatedAt\":\"2020-04-05T04:45:47Z\",\"progress\":56,\"status\":\"RUNNING\",\"metadata\":[{\"date\":\"2020-04-05T04:45:47Z\",\"data\":{\"bytesEncoded\":320346478,\"avgFramesEncodedPerSecond\":86.0,\"framesEncoded\":12096,\"realtimeFactor\":3.6}}]}]},\"messages\":[{\"id\":\"42c327bd-86b1-435f-8df6-2fb65eeb6662\",\"date\":\"2020-04-05T04:45:49Z\",\"type\":\"INFO\",\"text\":\"Successfully retrieved status of Encoding with id 03ccf3c5-aa78-445f-8ad4-934f5542db24!\"}]}}\n",
      "Encoding status is Status.RUNNING (progress: 62 %)\n",
      "2020-04-05 13:45:53,970 bitmovin_api_sdk.common.bitmovin_api_logger.BitmovinApiLogger DEBUG    REQUEST: GET https://api.bitmovin.com/v1/encoding/encodings/03ccf3c5-aa78-445f-8ad4-934f5542db24/status\n",
      "2020-04-05 13:45:54,314 bitmovin_api_sdk.common.bitmovin_api_logger.BitmovinApiLogger DEBUG    RESPONSE: {\"requestId\":\"5d83705a-e680-4d5c-bf54-28a4bd4442da\",\"status\":\"SUCCESS\",\"data\":{\"result\":{\"id\":\"696e879a-68ee-4089-a397-3fc48fb324e9\",\"createdAt\":\"2020-04-05T04:37:51Z\",\"queuedAt\":\"2020-04-05T04:41:11Z\",\"runningAt\":\"2020-04-05T04:43:08Z\",\"eta\":100.0,\"progress\":62,\"status\":\"RUNNING\",\"messages\":[{\"id\":\"c629d7ca-efc1-466a-bc9d-32c353b8a3e8\",\"type\":\"DEBUG\",\"date\":\"2020-04-05T04:45:04Z\",\"text\":\"Finished configuring and adding encoding instances\"},{\"id\":\"3032d2b5-1a58-4965-ad7c-d3f074ae5b86\",\"type\":\"INFO\",\"date\":\"2020-04-05T04:43:08Z\",\"text\":\"Download of input file in progress.\"},{\"id\":\"b5fc1c77-0d62-4d92-8724-c4bfd10c5eb9\",\"type\":\"INFO\",\"date\":\"2020-04-05T04:43:13Z\",\"text\":\"Analyzing input in progress.\"},{\"id\":\"fbd40b30-d8cf-4e39-b528-40b2476d29e3\",\"type\":\"DEBUG\",\"date\":\"2020-04-05T04:43:15Z\",\"text\":\"Probing input file.\"},{\"id\":\"d03aa2e2-8452-4c4f-a0f4-b26b0efa2d08\",\"type\":\"INFO\",\"date\":\"2020-04-05T04:43:13Z\",\"text\":\"Download of input file finished\"},{\"id\":\"a07c6a30-fc19-4ad7-9398-e28b5a70cbe2\",\"type\":\"DEBUG\",\"date\":\"2020-04-05T04:43:15Z\",\"text\":\"Encoding on cluster started.\"},{\"id\":\"1093a9e5-dcf6-4781-904e-a9f7eb6e58fe\",\"type\":\"DEBUG\",\"date\":\"2020-04-05T04:43:15Z\",\"text\":\"Setting up encoding configuration finished.\"},{\"id\":\"e4419ef5-c784-4622-bb79-638e4163ccb2\",\"type\":\"INFO\",\"date\":\"2020-04-05T04:43:15Z\",\"text\":\"Encoding in progress.\"},{\"id\":\"ea898311-1a00-4b1a-bd19-6eeb3b1de0fb\",\"type\":\"DEBUG\",\"date\":\"2020-04-05T04:43:15Z\",\"text\":\"Probing input file finished.\"},{\"id\":\"92c71a96-21d5-4b8c-bd28-755272a2fb3b\",\"type\":\"DEBUG\",\"date\":\"2020-04-05T04:45:04Z\",\"text\":\"Finished adding and configuring encoding instance\"},{\"id\":\"91f9d98f-91ce-4c66-a690-3d1d0504d157\",\"type\":\"INFO\",\"date\":\"2020-04-05T04:43:14Z\",\"text\":\"Analyzing input finished.\"}],\"subtasks\":[{\"id\":\"93c96a29-f3da-41bb-bf1f-58d56635a83f\",\"name\":\"Input file download\",\"runningAt\":\"2020-04-05T04:43:08Z\",\"updatedAt\":\"2020-04-05T04:43:13Z\",\"finishedAt\":\"2020-04-05T04:43:13Z\",\"progress\":100,\"status\":\"FINISHED\",\"metadata\":[{\"date\":\"2020-04-05T04:43:13Z\",\"data\":{\"size\":1172428172}}]},{\"id\":\"01018213-f08e-43fb-af96-36a6cae88b08\",\"name\":\"Input file analysis\",\"runningAt\":\"2020-04-05T04:43:13Z\",\"updatedAt\":\"2020-04-05T04:43:14Z\",\"finishedAt\":\"2020-04-05T04:43:14Z\",\"progress\":100,\"status\":\"FINISHED\"},{\"id\":\"2f4abaeb-9bbe-417a-a82c-af2867f79457\",\"name\":\"Analysis\",\"runningAt\":\"2020-04-05T04:43:17Z\",\"updatedAt\":\"2020-04-05T04:45:47Z\",\"finishedAt\":\"2020-04-05T04:43:27Z\",\"progress\":100,\"status\":\"FINISHED\",\"metadata\":[{\"date\":\"2020-04-05T04:43:17Z\",\"data\":{\"framesAnalysed\":0}}]},{\"id\":\"47a27b18-02f4-4686-90f3-d9fb200275cc\",\"name\":\"Encoding\",\"runningAt\":\"2020-04-05T04:43:15Z\",\"updatedAt\":\"2020-04-05T04:45:47Z\",\"progress\":56,\"status\":\"RUNNING\",\"metadata\":[{\"date\":\"2020-04-05T04:45:47Z\",\"data\":{\"bytesEncoded\":320346478,\"avgFramesEncodedPerSecond\":86.0,\"framesEncoded\":12096,\"realtimeFactor\":3.6}}]}]},\"messages\":[{\"id\":\"8d918d36-b10c-4fbc-9c20-2fdbb09a3095\",\"date\":\"2020-04-05T04:45:54Z\",\"type\":\"INFO\",\"text\":\"Successfully retrieved status of Encoding with id 03ccf3c5-aa78-445f-8ad4-934f5542db24!\"}]}}\n"
     ]
    },
    {
     "name": "stdout",
     "output_type": "stream",
     "text": [
      "Encoding status is Status.RUNNING (progress: 62 %)\n",
      "2020-04-05 13:45:59,323 bitmovin_api_sdk.common.bitmovin_api_logger.BitmovinApiLogger DEBUG    REQUEST: GET https://api.bitmovin.com/v1/encoding/encodings/03ccf3c5-aa78-445f-8ad4-934f5542db24/status\n",
      "2020-04-05 13:45:59,711 bitmovin_api_sdk.common.bitmovin_api_logger.BitmovinApiLogger DEBUG    RESPONSE: {\"requestId\":\"b24a81f3-e498-467e-85d9-df14bde1159d\",\"status\":\"SUCCESS\",\"data\":{\"result\":{\"id\":\"696e879a-68ee-4089-a397-3fc48fb324e9\",\"createdAt\":\"2020-04-05T04:37:51Z\",\"queuedAt\":\"2020-04-05T04:41:11Z\",\"runningAt\":\"2020-04-05T04:43:08Z\",\"eta\":100.0,\"progress\":66,\"status\":\"RUNNING\",\"messages\":[{\"id\":\"d03aa2e2-8452-4c4f-a0f4-b26b0efa2d08\",\"type\":\"INFO\",\"date\":\"2020-04-05T04:43:13Z\",\"text\":\"Download of input file finished\"},{\"id\":\"a07c6a30-fc19-4ad7-9398-e28b5a70cbe2\",\"type\":\"DEBUG\",\"date\":\"2020-04-05T04:43:15Z\",\"text\":\"Encoding on cluster started.\"},{\"id\":\"fbd40b30-d8cf-4e39-b528-40b2476d29e3\",\"type\":\"DEBUG\",\"date\":\"2020-04-05T04:43:15Z\",\"text\":\"Probing input file.\"},{\"id\":\"1093a9e5-dcf6-4781-904e-a9f7eb6e58fe\",\"type\":\"DEBUG\",\"date\":\"2020-04-05T04:43:15Z\",\"text\":\"Setting up encoding configuration finished.\"},{\"id\":\"92c71a96-21d5-4b8c-bd28-755272a2fb3b\",\"type\":\"DEBUG\",\"date\":\"2020-04-05T04:45:04Z\",\"text\":\"Finished adding and configuring encoding instance\"},{\"id\":\"e4419ef5-c784-4622-bb79-638e4163ccb2\",\"type\":\"INFO\",\"date\":\"2020-04-05T04:43:15Z\",\"text\":\"Encoding in progress.\"},{\"id\":\"91f9d98f-91ce-4c66-a690-3d1d0504d157\",\"type\":\"INFO\",\"date\":\"2020-04-05T04:43:14Z\",\"text\":\"Analyzing input finished.\"},{\"id\":\"c629d7ca-efc1-466a-bc9d-32c353b8a3e8\",\"type\":\"DEBUG\",\"date\":\"2020-04-05T04:45:04Z\",\"text\":\"Finished configuring and adding encoding instances\"},{\"id\":\"ea898311-1a00-4b1a-bd19-6eeb3b1de0fb\",\"type\":\"DEBUG\",\"date\":\"2020-04-05T04:43:15Z\",\"text\":\"Probing input file finished.\"},{\"id\":\"3032d2b5-1a58-4965-ad7c-d3f074ae5b86\",\"type\":\"INFO\",\"date\":\"2020-04-05T04:43:08Z\",\"text\":\"Download of input file in progress.\"},{\"id\":\"b5fc1c77-0d62-4d92-8724-c4bfd10c5eb9\",\"type\":\"INFO\",\"date\":\"2020-04-05T04:43:13Z\",\"text\":\"Analyzing input in progress.\"}],\"subtasks\":[{\"id\":\"93c96a29-f3da-41bb-bf1f-58d56635a83f\",\"name\":\"Input file download\",\"runningAt\":\"2020-04-05T04:43:08Z\",\"updatedAt\":\"2020-04-05T04:43:13Z\",\"finishedAt\":\"2020-04-05T04:43:13Z\",\"progress\":100,\"status\":\"FINISHED\",\"metadata\":[{\"date\":\"2020-04-05T04:43:13Z\",\"data\":{\"size\":1172428172}}]},{\"id\":\"01018213-f08e-43fb-af96-36a6cae88b08\",\"name\":\"Input file analysis\",\"runningAt\":\"2020-04-05T04:43:13Z\",\"updatedAt\":\"2020-04-05T04:43:14Z\",\"finishedAt\":\"2020-04-05T04:43:14Z\",\"progress\":100,\"status\":\"FINISHED\"},{\"id\":\"2f4abaeb-9bbe-417a-a82c-af2867f79457\",\"name\":\"Analysis\",\"runningAt\":\"2020-04-05T04:43:17Z\",\"updatedAt\":\"2020-04-05T04:45:57Z\",\"finishedAt\":\"2020-04-05T04:43:27Z\",\"progress\":100,\"status\":\"FINISHED\",\"metadata\":[{\"date\":\"2020-04-05T04:43:17Z\",\"data\":{\"framesAnalysed\":0}}]},{\"id\":\"47a27b18-02f4-4686-90f3-d9fb200275cc\",\"name\":\"Encoding\",\"runningAt\":\"2020-04-05T04:43:15Z\",\"updatedAt\":\"2020-04-05T04:45:57Z\",\"progress\":65,\"status\":\"RUNNING\",\"metadata\":[{\"date\":\"2020-04-05T04:45:57Z\",\"data\":{\"bytesEncoded\":369392777,\"avgFramesEncodedPerSecond\":93.0,\"framesEncoded\":14016,\"realtimeFactor\":3.8933333333333335}}]}]},\"messages\":[{\"id\":\"9bcf01f5-df45-49e9-902a-615f93a4ed54\",\"date\":\"2020-04-05T04:46:00Z\",\"type\":\"INFO\",\"text\":\"Successfully retrieved status of Encoding with id 03ccf3c5-aa78-445f-8ad4-934f5542db24!\"}]}}\n",
      "Encoding status is Status.RUNNING (progress: 66 %)\n",
      "2020-04-05 13:46:04,724 bitmovin_api_sdk.common.bitmovin_api_logger.BitmovinApiLogger DEBUG    REQUEST: GET https://api.bitmovin.com/v1/encoding/encodings/03ccf3c5-aa78-445f-8ad4-934f5542db24/status\n",
      "2020-04-05 13:46:05,419 bitmovin_api_sdk.common.bitmovin_api_logger.BitmovinApiLogger DEBUG    RESPONSE: {\"requestId\":\"505b955b-96ab-4569-8988-c4c4accb1583\",\"status\":\"SUCCESS\",\"data\":{\"result\":{\"id\":\"696e879a-68ee-4089-a397-3fc48fb324e9\",\"createdAt\":\"2020-04-05T04:37:51Z\",\"queuedAt\":\"2020-04-05T04:41:11Z\",\"runningAt\":\"2020-04-05T04:43:08Z\",\"eta\":100.0,\"progress\":66,\"status\":\"RUNNING\",\"messages\":[{\"id\":\"ea898311-1a00-4b1a-bd19-6eeb3b1de0fb\",\"type\":\"DEBUG\",\"date\":\"2020-04-05T04:43:15Z\",\"text\":\"Probing input file finished.\"},{\"id\":\"3032d2b5-1a58-4965-ad7c-d3f074ae5b86\",\"type\":\"INFO\",\"date\":\"2020-04-05T04:43:08Z\",\"text\":\"Download of input file in progress.\"},{\"id\":\"b5fc1c77-0d62-4d92-8724-c4bfd10c5eb9\",\"type\":\"INFO\",\"date\":\"2020-04-05T04:43:13Z\",\"text\":\"Analyzing input in progress.\"},{\"id\":\"d03aa2e2-8452-4c4f-a0f4-b26b0efa2d08\",\"type\":\"INFO\",\"date\":\"2020-04-05T04:43:13Z\",\"text\":\"Download of input file finished\"},{\"id\":\"1093a9e5-dcf6-4781-904e-a9f7eb6e58fe\",\"type\":\"DEBUG\",\"date\":\"2020-04-05T04:43:15Z\",\"text\":\"Setting up encoding configuration finished.\"},{\"id\":\"fbd40b30-d8cf-4e39-b528-40b2476d29e3\",\"type\":\"DEBUG\",\"date\":\"2020-04-05T04:43:15Z\",\"text\":\"Probing input file.\"},{\"id\":\"92c71a96-21d5-4b8c-bd28-755272a2fb3b\",\"type\":\"DEBUG\",\"date\":\"2020-04-05T04:45:04Z\",\"text\":\"Finished adding and configuring encoding instance\"},{\"id\":\"a07c6a30-fc19-4ad7-9398-e28b5a70cbe2\",\"type\":\"DEBUG\",\"date\":\"2020-04-05T04:43:15Z\",\"text\":\"Encoding on cluster started.\"},{\"id\":\"c629d7ca-efc1-466a-bc9d-32c353b8a3e8\",\"type\":\"DEBUG\",\"date\":\"2020-04-05T04:45:04Z\",\"text\":\"Finished configuring and adding encoding instances\"},{\"id\":\"e4419ef5-c784-4622-bb79-638e4163ccb2\",\"type\":\"INFO\",\"date\":\"2020-04-05T04:43:15Z\",\"text\":\"Encoding in progress.\"},{\"id\":\"91f9d98f-91ce-4c66-a690-3d1d0504d157\",\"type\":\"INFO\",\"date\":\"2020-04-05T04:43:14Z\",\"text\":\"Analyzing input finished.\"}],\"subtasks\":[{\"id\":\"93c96a29-f3da-41bb-bf1f-58d56635a83f\",\"name\":\"Input file download\",\"runningAt\":\"2020-04-05T04:43:08Z\",\"updatedAt\":\"2020-04-05T04:43:13Z\",\"finishedAt\":\"2020-04-05T04:43:13Z\",\"progress\":100,\"status\":\"FINISHED\",\"metadata\":[{\"date\":\"2020-04-05T04:43:13Z\",\"data\":{\"size\":1172428172}}]},{\"id\":\"01018213-f08e-43fb-af96-36a6cae88b08\",\"name\":\"Input file analysis\",\"runningAt\":\"2020-04-05T04:43:13Z\",\"updatedAt\":\"2020-04-05T04:43:14Z\",\"finishedAt\":\"2020-04-05T04:43:14Z\",\"progress\":100,\"status\":\"FINISHED\"},{\"id\":\"2f4abaeb-9bbe-417a-a82c-af2867f79457\",\"name\":\"Analysis\",\"runningAt\":\"2020-04-05T04:43:17Z\",\"updatedAt\":\"2020-04-05T04:45:57Z\",\"finishedAt\":\"2020-04-05T04:43:27Z\",\"progress\":100,\"status\":\"FINISHED\",\"metadata\":[{\"date\":\"2020-04-05T04:43:17Z\",\"data\":{\"framesAnalysed\":0}}]},{\"id\":\"47a27b18-02f4-4686-90f3-d9fb200275cc\",\"name\":\"Encoding\",\"runningAt\":\"2020-04-05T04:43:15Z\",\"updatedAt\":\"2020-04-05T04:45:57Z\",\"progress\":65,\"status\":\"RUNNING\",\"metadata\":[{\"date\":\"2020-04-05T04:45:57Z\",\"data\":{\"bytesEncoded\":369392777,\"avgFramesEncodedPerSecond\":93.0,\"framesEncoded\":14016,\"realtimeFactor\":3.8933333333333335}}]}]},\"messages\":[{\"id\":\"302d1eb3-eca0-47df-910f-3bde6b222db8\",\"date\":\"2020-04-05T04:46:06Z\",\"type\":\"INFO\",\"text\":\"Successfully retrieved status of Encoding with id 03ccf3c5-aa78-445f-8ad4-934f5542db24!\"}]}}\n",
      "Encoding status is Status.RUNNING (progress: 66 %)\n",
      "2020-04-05 13:46:10,435 bitmovin_api_sdk.common.bitmovin_api_logger.BitmovinApiLogger DEBUG    REQUEST: GET https://api.bitmovin.com/v1/encoding/encodings/03ccf3c5-aa78-445f-8ad4-934f5542db24/status\n",
      "2020-04-05 13:46:10,787 bitmovin_api_sdk.common.bitmovin_api_logger.BitmovinApiLogger DEBUG    RESPONSE: {\"requestId\":\"063c51ed-69b7-43a8-b1f2-d061884d28b3\",\"status\":\"SUCCESS\",\"data\":{\"result\":{\"id\":\"696e879a-68ee-4089-a397-3fc48fb324e9\",\"createdAt\":\"2020-04-05T04:37:51Z\",\"queuedAt\":\"2020-04-05T04:41:11Z\",\"runningAt\":\"2020-04-05T04:43:08Z\",\"eta\":100.0,\"progress\":72,\"status\":\"RUNNING\",\"messages\":[{\"id\":\"91f9d98f-91ce-4c66-a690-3d1d0504d157\",\"type\":\"INFO\",\"date\":\"2020-04-05T04:43:14Z\",\"text\":\"Analyzing input finished.\"},{\"id\":\"c629d7ca-efc1-466a-bc9d-32c353b8a3e8\",\"type\":\"DEBUG\",\"date\":\"2020-04-05T04:45:04Z\",\"text\":\"Finished configuring and adding encoding instances\"},{\"id\":\"3032d2b5-1a58-4965-ad7c-d3f074ae5b86\",\"type\":\"INFO\",\"date\":\"2020-04-05T04:43:08Z\",\"text\":\"Download of input file in progress.\"},{\"id\":\"b5fc1c77-0d62-4d92-8724-c4bfd10c5eb9\",\"type\":\"INFO\",\"date\":\"2020-04-05T04:43:13Z\",\"text\":\"Analyzing input in progress.\"},{\"id\":\"ea898311-1a00-4b1a-bd19-6eeb3b1de0fb\",\"type\":\"DEBUG\",\"date\":\"2020-04-05T04:43:15Z\",\"text\":\"Probing input file finished.\"},{\"id\":\"1093a9e5-dcf6-4781-904e-a9f7eb6e58fe\",\"type\":\"DEBUG\",\"date\":\"2020-04-05T04:43:15Z\",\"text\":\"Setting up encoding configuration finished.\"},{\"id\":\"92c71a96-21d5-4b8c-bd28-755272a2fb3b\",\"type\":\"DEBUG\",\"date\":\"2020-04-05T04:45:04Z\",\"text\":\"Finished adding and configuring encoding instance\"},{\"id\":\"a07c6a30-fc19-4ad7-9398-e28b5a70cbe2\",\"type\":\"DEBUG\",\"date\":\"2020-04-05T04:43:15Z\",\"text\":\"Encoding on cluster started.\"},{\"id\":\"d03aa2e2-8452-4c4f-a0f4-b26b0efa2d08\",\"type\":\"INFO\",\"date\":\"2020-04-05T04:43:13Z\",\"text\":\"Download of input file finished\"},{\"id\":\"e4419ef5-c784-4622-bb79-638e4163ccb2\",\"type\":\"INFO\",\"date\":\"2020-04-05T04:43:15Z\",\"text\":\"Encoding in progress.\"},{\"id\":\"fbd40b30-d8cf-4e39-b528-40b2476d29e3\",\"type\":\"DEBUG\",\"date\":\"2020-04-05T04:43:15Z\",\"text\":\"Probing input file.\"}],\"subtasks\":[{\"id\":\"93c96a29-f3da-41bb-bf1f-58d56635a83f\",\"name\":\"Input file download\",\"runningAt\":\"2020-04-05T04:43:08Z\",\"updatedAt\":\"2020-04-05T04:43:13Z\",\"finishedAt\":\"2020-04-05T04:43:13Z\",\"progress\":100,\"status\":\"FINISHED\",\"metadata\":[{\"date\":\"2020-04-05T04:43:13Z\",\"data\":{\"size\":1172428172}}]},{\"id\":\"01018213-f08e-43fb-af96-36a6cae88b08\",\"name\":\"Input file analysis\",\"runningAt\":\"2020-04-05T04:43:13Z\",\"updatedAt\":\"2020-04-05T04:43:14Z\",\"finishedAt\":\"2020-04-05T04:43:14Z\",\"progress\":100,\"status\":\"FINISHED\"},{\"id\":\"2f4abaeb-9bbe-417a-a82c-af2867f79457\",\"name\":\"Analysis\",\"runningAt\":\"2020-04-05T04:43:17Z\",\"updatedAt\":\"2020-04-05T04:46:07Z\",\"finishedAt\":\"2020-04-05T04:43:27Z\",\"progress\":100,\"status\":\"FINISHED\",\"metadata\":[{\"date\":\"2020-04-05T04:43:17Z\",\"data\":{\"framesAnalysed\":0}}]},{\"id\":\"47a27b18-02f4-4686-90f3-d9fb200275cc\",\"name\":\"Encoding\",\"runningAt\":\"2020-04-05T04:43:15Z\",\"updatedAt\":\"2020-04-05T04:46:07Z\",\"progress\":82,\"status\":\"RUNNING\",\"metadata\":[{\"date\":\"2020-04-05T04:46:07Z\",\"data\":{\"bytesEncoded\":455623031,\"avgFramesEncodedPerSecond\":109.0,\"framesEncoded\":17568,\"realtimeFactor\":4.575}}]}]},\"messages\":[{\"id\":\"ac9381df-1e96-4559-8b83-d656693dcba9\",\"date\":\"2020-04-05T04:46:11Z\",\"type\":\"INFO\",\"text\":\"Successfully retrieved status of Encoding with id 03ccf3c5-aa78-445f-8ad4-934f5542db24!\"}]}}\n"
     ]
    },
    {
     "name": "stdout",
     "output_type": "stream",
     "text": [
      "Encoding status is Status.RUNNING (progress: 72 %)\n",
      "2020-04-05 13:46:15,803 bitmovin_api_sdk.common.bitmovin_api_logger.BitmovinApiLogger DEBUG    REQUEST: GET https://api.bitmovin.com/v1/encoding/encodings/03ccf3c5-aa78-445f-8ad4-934f5542db24/status\n",
      "2020-04-05 13:46:16,197 bitmovin_api_sdk.common.bitmovin_api_logger.BitmovinApiLogger DEBUG    RESPONSE: {\"requestId\":\"bfb253d7-cb93-4338-8fa0-975335ab102b\",\"status\":\"SUCCESS\",\"data\":{\"result\":{\"id\":\"696e879a-68ee-4089-a397-3fc48fb324e9\",\"createdAt\":\"2020-04-05T04:37:51Z\",\"queuedAt\":\"2020-04-05T04:41:11Z\",\"runningAt\":\"2020-04-05T04:43:08Z\",\"eta\":100.0,\"progress\":72,\"status\":\"RUNNING\",\"messages\":[{\"id\":\"ea898311-1a00-4b1a-bd19-6eeb3b1de0fb\",\"type\":\"DEBUG\",\"date\":\"2020-04-05T04:43:15Z\",\"text\":\"Probing input file finished.\"},{\"id\":\"d03aa2e2-8452-4c4f-a0f4-b26b0efa2d08\",\"type\":\"INFO\",\"date\":\"2020-04-05T04:43:13Z\",\"text\":\"Download of input file finished\"},{\"id\":\"3032d2b5-1a58-4965-ad7c-d3f074ae5b86\",\"type\":\"INFO\",\"date\":\"2020-04-05T04:43:08Z\",\"text\":\"Download of input file in progress.\"},{\"id\":\"1093a9e5-dcf6-4781-904e-a9f7eb6e58fe\",\"type\":\"DEBUG\",\"date\":\"2020-04-05T04:43:15Z\",\"text\":\"Setting up encoding configuration finished.\"},{\"id\":\"91f9d98f-91ce-4c66-a690-3d1d0504d157\",\"type\":\"INFO\",\"date\":\"2020-04-05T04:43:14Z\",\"text\":\"Analyzing input finished.\"},{\"id\":\"92c71a96-21d5-4b8c-bd28-755272a2fb3b\",\"type\":\"DEBUG\",\"date\":\"2020-04-05T04:45:04Z\",\"text\":\"Finished adding and configuring encoding instance\"},{\"id\":\"b5fc1c77-0d62-4d92-8724-c4bfd10c5eb9\",\"type\":\"INFO\",\"date\":\"2020-04-05T04:43:13Z\",\"text\":\"Analyzing input in progress.\"},{\"id\":\"fbd40b30-d8cf-4e39-b528-40b2476d29e3\",\"type\":\"DEBUG\",\"date\":\"2020-04-05T04:43:15Z\",\"text\":\"Probing input file.\"},{\"id\":\"a07c6a30-fc19-4ad7-9398-e28b5a70cbe2\",\"type\":\"DEBUG\",\"date\":\"2020-04-05T04:43:15Z\",\"text\":\"Encoding on cluster started.\"},{\"id\":\"e4419ef5-c784-4622-bb79-638e4163ccb2\",\"type\":\"INFO\",\"date\":\"2020-04-05T04:43:15Z\",\"text\":\"Encoding in progress.\"},{\"id\":\"c629d7ca-efc1-466a-bc9d-32c353b8a3e8\",\"type\":\"DEBUG\",\"date\":\"2020-04-05T04:45:04Z\",\"text\":\"Finished configuring and adding encoding instances\"}],\"subtasks\":[{\"id\":\"93c96a29-f3da-41bb-bf1f-58d56635a83f\",\"name\":\"Input file download\",\"runningAt\":\"2020-04-05T04:43:08Z\",\"updatedAt\":\"2020-04-05T04:43:13Z\",\"finishedAt\":\"2020-04-05T04:43:13Z\",\"progress\":100,\"status\":\"FINISHED\",\"metadata\":[{\"date\":\"2020-04-05T04:43:13Z\",\"data\":{\"size\":1172428172}}]},{\"id\":\"01018213-f08e-43fb-af96-36a6cae88b08\",\"name\":\"Input file analysis\",\"runningAt\":\"2020-04-05T04:43:13Z\",\"updatedAt\":\"2020-04-05T04:43:14Z\",\"finishedAt\":\"2020-04-05T04:43:14Z\",\"progress\":100,\"status\":\"FINISHED\"},{\"id\":\"2f4abaeb-9bbe-417a-a82c-af2867f79457\",\"name\":\"Analysis\",\"runningAt\":\"2020-04-05T04:43:17Z\",\"updatedAt\":\"2020-04-05T04:46:07Z\",\"finishedAt\":\"2020-04-05T04:43:27Z\",\"progress\":100,\"status\":\"FINISHED\",\"metadata\":[{\"date\":\"2020-04-05T04:43:17Z\",\"data\":{\"framesAnalysed\":0}}]},{\"id\":\"47a27b18-02f4-4686-90f3-d9fb200275cc\",\"name\":\"Encoding\",\"runningAt\":\"2020-04-05T04:43:15Z\",\"updatedAt\":\"2020-04-05T04:46:07Z\",\"progress\":82,\"status\":\"RUNNING\",\"metadata\":[{\"date\":\"2020-04-05T04:46:07Z\",\"data\":{\"bytesEncoded\":455623031,\"avgFramesEncodedPerSecond\":109.0,\"framesEncoded\":17568,\"realtimeFactor\":4.575}}]}]},\"messages\":[{\"id\":\"20207d3c-bf00-42b2-acd4-7bc3c555198f\",\"date\":\"2020-04-05T04:46:16Z\",\"type\":\"INFO\",\"text\":\"Successfully retrieved status of Encoding with id 03ccf3c5-aa78-445f-8ad4-934f5542db24!\"}]}}\n",
      "Encoding status is Status.RUNNING (progress: 72 %)\n",
      "2020-04-05 13:46:21,209 bitmovin_api_sdk.common.bitmovin_api_logger.BitmovinApiLogger DEBUG    REQUEST: GET https://api.bitmovin.com/v1/encoding/encodings/03ccf3c5-aa78-445f-8ad4-934f5542db24/status\n",
      "2020-04-05 13:46:21,583 bitmovin_api_sdk.common.bitmovin_api_logger.BitmovinApiLogger DEBUG    RESPONSE: {\"requestId\":\"e0d908c9-3edf-449b-bfb3-d0b557bf54af\",\"status\":\"SUCCESS\",\"data\":{\"result\":{\"id\":\"696e879a-68ee-4089-a397-3fc48fb324e9\",\"createdAt\":\"2020-04-05T04:37:51Z\",\"queuedAt\":\"2020-04-05T04:41:11Z\",\"runningAt\":\"2020-04-05T04:43:08Z\",\"eta\":100.0,\"progress\":78,\"status\":\"RUNNING\",\"messages\":[{\"id\":\"a07c6a30-fc19-4ad7-9398-e28b5a70cbe2\",\"type\":\"DEBUG\",\"date\":\"2020-04-05T04:43:15Z\",\"text\":\"Encoding on cluster started.\"},{\"id\":\"e4419ef5-c784-4622-bb79-638e4163ccb2\",\"type\":\"INFO\",\"date\":\"2020-04-05T04:43:15Z\",\"text\":\"Encoding in progress.\"},{\"id\":\"fbd40b30-d8cf-4e39-b528-40b2476d29e3\",\"type\":\"DEBUG\",\"date\":\"2020-04-05T04:43:15Z\",\"text\":\"Probing input file.\"},{\"id\":\"d03aa2e2-8452-4c4f-a0f4-b26b0efa2d08\",\"type\":\"INFO\",\"date\":\"2020-04-05T04:43:13Z\",\"text\":\"Download of input file finished\"},{\"id\":\"92c71a96-21d5-4b8c-bd28-755272a2fb3b\",\"type\":\"DEBUG\",\"date\":\"2020-04-05T04:45:04Z\",\"text\":\"Finished adding and configuring encoding instance\"},{\"id\":\"1093a9e5-dcf6-4781-904e-a9f7eb6e58fe\",\"type\":\"DEBUG\",\"date\":\"2020-04-05T04:43:15Z\",\"text\":\"Setting up encoding configuration finished.\"},{\"id\":\"91f9d98f-91ce-4c66-a690-3d1d0504d157\",\"type\":\"INFO\",\"date\":\"2020-04-05T04:43:14Z\",\"text\":\"Analyzing input finished.\"},{\"id\":\"3032d2b5-1a58-4965-ad7c-d3f074ae5b86\",\"type\":\"INFO\",\"date\":\"2020-04-05T04:43:08Z\",\"text\":\"Download of input file in progress.\"},{\"id\":\"b5fc1c77-0d62-4d92-8724-c4bfd10c5eb9\",\"type\":\"INFO\",\"date\":\"2020-04-05T04:43:13Z\",\"text\":\"Analyzing input in progress.\"},{\"id\":\"ea898311-1a00-4b1a-bd19-6eeb3b1de0fb\",\"type\":\"DEBUG\",\"date\":\"2020-04-05T04:43:15Z\",\"text\":\"Probing input file finished.\"},{\"id\":\"c629d7ca-efc1-466a-bc9d-32c353b8a3e8\",\"type\":\"DEBUG\",\"date\":\"2020-04-05T04:45:04Z\",\"text\":\"Finished configuring and adding encoding instances\"}],\"subtasks\":[{\"id\":\"93c96a29-f3da-41bb-bf1f-58d56635a83f\",\"name\":\"Input file download\",\"runningAt\":\"2020-04-05T04:43:08Z\",\"updatedAt\":\"2020-04-05T04:43:13Z\",\"finishedAt\":\"2020-04-05T04:43:13Z\",\"progress\":100,\"status\":\"FINISHED\",\"metadata\":[{\"date\":\"2020-04-05T04:43:13Z\",\"data\":{\"size\":1172428172}}]},{\"id\":\"01018213-f08e-43fb-af96-36a6cae88b08\",\"name\":\"Input file analysis\",\"runningAt\":\"2020-04-05T04:43:13Z\",\"updatedAt\":\"2020-04-05T04:43:14Z\",\"finishedAt\":\"2020-04-05T04:43:14Z\",\"progress\":100,\"status\":\"FINISHED\"},{\"id\":\"2f4abaeb-9bbe-417a-a82c-af2867f79457\",\"name\":\"Analysis\",\"runningAt\":\"2020-04-05T04:43:17Z\",\"updatedAt\":\"2020-04-05T04:46:17Z\",\"finishedAt\":\"2020-04-05T04:43:27Z\",\"progress\":100,\"status\":\"FINISHED\",\"metadata\":[{\"date\":\"2020-04-05T04:43:17Z\",\"data\":{\"framesAnalysed\":0}}]},{\"id\":\"47a27b18-02f4-4686-90f3-d9fb200275cc\",\"name\":\"Encoding\",\"runningAt\":\"2020-04-05T04:43:15Z\",\"updatedAt\":\"2020-04-05T04:46:17Z\",\"progress\":95,\"status\":\"RUNNING\",\"metadata\":[{\"date\":\"2020-04-05T04:46:17Z\",\"data\":{\"bytesEncoded\":521528208,\"avgFramesEncodedPerSecond\":119.0,\"framesEncoded\":20256,\"realtimeFactor\":4.964705882352941}}]}]},\"messages\":[{\"id\":\"d86359aa-4108-4bf7-8716-c4a4dc90216f\",\"date\":\"2020-04-05T04:46:22Z\",\"type\":\"INFO\",\"text\":\"Successfully retrieved status of Encoding with id 03ccf3c5-aa78-445f-8ad4-934f5542db24!\"}]}}\n",
      "Encoding status is Status.RUNNING (progress: 78 %)\n",
      "2020-04-05 13:46:26,599 bitmovin_api_sdk.common.bitmovin_api_logger.BitmovinApiLogger DEBUG    REQUEST: GET https://api.bitmovin.com/v1/encoding/encodings/03ccf3c5-aa78-445f-8ad4-934f5542db24/status\n",
      "2020-04-05 13:46:27,052 bitmovin_api_sdk.common.bitmovin_api_logger.BitmovinApiLogger DEBUG    RESPONSE: {\"requestId\":\"b02f8dd4-9120-4a08-83e0-e48935e83eb0\",\"status\":\"SUCCESS\",\"data\":{\"result\":{\"id\":\"696e879a-68ee-4089-a397-3fc48fb324e9\",\"createdAt\":\"2020-04-05T04:37:51Z\",\"queuedAt\":\"2020-04-05T04:41:11Z\",\"runningAt\":\"2020-04-05T04:43:08Z\",\"eta\":200.0,\"progress\":90,\"status\":\"RUNNING\",\"messages\":[{\"id\":\"e4419ef5-c784-4622-bb79-638e4163ccb2\",\"type\":\"INFO\",\"date\":\"2020-04-05T04:43:15Z\",\"text\":\"Encoding in progress.\"},{\"id\":\"32b5c69a-f46e-4957-a1fd-ed84a5c792d2\",\"type\":\"INFO\",\"date\":\"2020-04-05T04:46:24Z\",\"text\":\"Progressive HLS muxing in progress\"},{\"id\":\"fbd40b30-d8cf-4e39-b528-40b2476d29e3\",\"type\":\"DEBUG\",\"date\":\"2020-04-05T04:43:15Z\",\"text\":\"Probing input file.\"},{\"id\":\"91f9d98f-91ce-4c66-a690-3d1d0504d157\",\"type\":\"INFO\",\"date\":\"2020-04-05T04:43:14Z\",\"text\":\"Analyzing input finished.\"},{\"id\":\"92c71a96-21d5-4b8c-bd28-755272a2fb3b\",\"type\":\"DEBUG\",\"date\":\"2020-04-05T04:45:04Z\",\"text\":\"Finished adding and configuring encoding instance\"},{\"id\":\"1093a9e5-dcf6-4781-904e-a9f7eb6e58fe\",\"type\":\"DEBUG\",\"date\":\"2020-04-05T04:43:15Z\",\"text\":\"Setting up encoding configuration finished.\"},{\"id\":\"3032d2b5-1a58-4965-ad7c-d3f074ae5b86\",\"type\":\"INFO\",\"date\":\"2020-04-05T04:43:08Z\",\"text\":\"Download of input file in progress.\"},{\"id\":\"ea898311-1a00-4b1a-bd19-6eeb3b1de0fb\",\"type\":\"DEBUG\",\"date\":\"2020-04-05T04:43:15Z\",\"text\":\"Probing input file finished.\"},{\"id\":\"de50674d-a476-4549-941f-d0c11871d879\",\"type\":\"DEBUG\",\"date\":\"2020-04-05T04:46:23Z\",\"text\":\"Encoding on cluster finished.\"},{\"id\":\"c629d7ca-efc1-466a-bc9d-32c353b8a3e8\",\"type\":\"DEBUG\",\"date\":\"2020-04-05T04:45:04Z\",\"text\":\"Finished configuring and adding encoding instances\"},{\"id\":\"d03aa2e2-8452-4c4f-a0f4-b26b0efa2d08\",\"type\":\"INFO\",\"date\":\"2020-04-05T04:43:13Z\",\"text\":\"Download of input file finished\"},{\"id\":\"b5fc1c77-0d62-4d92-8724-c4bfd10c5eb9\",\"type\":\"INFO\",\"date\":\"2020-04-05T04:43:13Z\",\"text\":\"Analyzing input in progress.\"},{\"id\":\"ac50ded9-0cf4-4c06-9222-b9501cc89307\",\"type\":\"DEBUG\",\"date\":\"2020-04-05T04:46:23Z\",\"text\":\"Saving encoding meta data finished.\"},{\"id\":\"a07c6a30-fc19-4ad7-9398-e28b5a70cbe2\",\"type\":\"DEBUG\",\"date\":\"2020-04-05T04:43:15Z\",\"text\":\"Encoding on cluster started.\"},{\"id\":\"70169ca8-4aff-45e9-a6df-3ae88485f388\",\"type\":\"DEBUG\",\"date\":\"2020-04-05T04:46:23Z\",\"text\":\"Saving encoding meta data.\"}],\"subtasks\":[{\"id\":\"93c96a29-f3da-41bb-bf1f-58d56635a83f\",\"name\":\"Input file download\",\"runningAt\":\"2020-04-05T04:43:08Z\",\"updatedAt\":\"2020-04-05T04:43:13Z\",\"finishedAt\":\"2020-04-05T04:43:13Z\",\"progress\":100,\"status\":\"FINISHED\",\"metadata\":[{\"date\":\"2020-04-05T04:43:13Z\",\"data\":{\"size\":1172428172}}]},{\"id\":\"01018213-f08e-43fb-af96-36a6cae88b08\",\"name\":\"Input file analysis\",\"runningAt\":\"2020-04-05T04:43:13Z\",\"updatedAt\":\"2020-04-05T04:43:14Z\",\"finishedAt\":\"2020-04-05T04:43:14Z\",\"progress\":100,\"status\":\"FINISHED\"},{\"id\":\"2f4abaeb-9bbe-417a-a82c-af2867f79457\",\"name\":\"Analysis\",\"runningAt\":\"2020-04-05T04:43:17Z\",\"updatedAt\":\"2020-04-05T04:46:23Z\",\"finishedAt\":\"2020-04-05T04:43:27Z\",\"progress\":100,\"status\":\"FINISHED\",\"metadata\":[{\"date\":\"2020-04-05T04:43:17Z\",\"data\":{\"framesAnalysed\":0}}]},{\"id\":\"47a27b18-02f4-4686-90f3-d9fb200275cc\",\"name\":\"Encoding\",\"runningAt\":\"2020-04-05T04:43:15Z\",\"updatedAt\":\"2020-04-05T04:46:23Z\",\"finishedAt\":\"2020-04-05T04:46:23Z\",\"progress\":100,\"status\":\"FINISHED\",\"metadata\":[{\"date\":\"2020-04-05T04:46:23Z\",\"data\":{\"bytesEncoded\":545288752,\"avgFramesEncodedPerSecond\":121.0,\"framesEncoded\":21312,\"realtimeFactor\":5.045454545454546}}]},{\"id\":\"ba4f6eb0-5e7c-4280-8c1f-a04900281121\",\"name\":\"Progressive muxing HLS content\",\"runningAt\":\"2020-04-05T04:46:24Z\",\"updatedAt\":\"2020-04-05T04:46:24Z\",\"progress\":0,\"status\":\"RUNNING\"},{\"id\":\"0f0939b8-b560-4e11-a32b-1cf8ff372fee\",\"name\":\"Uploading progressive HLS muxing\",\"runningAt\":\"2020-04-05T04:46:27Z\",\"updatedAt\":\"2020-04-05T04:46:27Z\",\"progress\":0,\"status\":\"RUNNING\"}]},\"messages\":[{\"id\":\"2bf3cdca-956a-4f42-b412-47b999195ea9\",\"date\":\"2020-04-05T04:46:27Z\",\"type\":\"INFO\",\"text\":\"Successfully retrieved status of Encoding with id 03ccf3c5-aa78-445f-8ad4-934f5542db24!\"}]}}\n"
     ]
    },
    {
     "name": "stdout",
     "output_type": "stream",
     "text": [
      "Encoding status is Status.RUNNING (progress: 90 %)\n",
      "2020-04-05 13:46:32,071 bitmovin_api_sdk.common.bitmovin_api_logger.BitmovinApiLogger DEBUG    REQUEST: GET https://api.bitmovin.com/v1/encoding/encodings/03ccf3c5-aa78-445f-8ad4-934f5542db24/status\n",
      "2020-04-05 13:46:32,479 bitmovin_api_sdk.common.bitmovin_api_logger.BitmovinApiLogger DEBUG    RESPONSE: {\"requestId\":\"82135e9f-b4ce-439c-879d-1eea979ee7b3\",\"status\":\"SUCCESS\",\"data\":{\"result\":{\"id\":\"696e879a-68ee-4089-a397-3fc48fb324e9\",\"createdAt\":\"2020-04-05T04:37:51Z\",\"queuedAt\":\"2020-04-05T04:41:11Z\",\"runningAt\":\"2020-04-05T04:43:08Z\",\"eta\":200.0,\"progress\":90,\"status\":\"RUNNING\",\"messages\":[{\"id\":\"91f9d98f-91ce-4c66-a690-3d1d0504d157\",\"type\":\"INFO\",\"date\":\"2020-04-05T04:43:14Z\",\"text\":\"Analyzing input finished.\"},{\"id\":\"3032d2b5-1a58-4965-ad7c-d3f074ae5b86\",\"type\":\"INFO\",\"date\":\"2020-04-05T04:43:08Z\",\"text\":\"Download of input file in progress.\"},{\"id\":\"32b5c69a-f46e-4957-a1fd-ed84a5c792d2\",\"type\":\"INFO\",\"date\":\"2020-04-05T04:46:24Z\",\"text\":\"Progressive HLS muxing in progress\"},{\"id\":\"ea898311-1a00-4b1a-bd19-6eeb3b1de0fb\",\"type\":\"DEBUG\",\"date\":\"2020-04-05T04:43:15Z\",\"text\":\"Probing input file finished.\"},{\"id\":\"de50674d-a476-4549-941f-d0c11871d879\",\"type\":\"DEBUG\",\"date\":\"2020-04-05T04:46:23Z\",\"text\":\"Encoding on cluster finished.\"},{\"id\":\"c629d7ca-efc1-466a-bc9d-32c353b8a3e8\",\"type\":\"DEBUG\",\"date\":\"2020-04-05T04:45:04Z\",\"text\":\"Finished configuring and adding encoding instances\"},{\"id\":\"b5fc1c77-0d62-4d92-8724-c4bfd10c5eb9\",\"type\":\"INFO\",\"date\":\"2020-04-05T04:43:13Z\",\"text\":\"Analyzing input in progress.\"},{\"id\":\"3c429ecc-29da-4a4d-9489-df3efa80af94\",\"type\":\"DEBUG\",\"date\":\"2020-04-05T04:46:28Z\",\"text\":\"Finished shutdown of encoding instance\"},{\"id\":\"92c71a96-21d5-4b8c-bd28-755272a2fb3b\",\"type\":\"DEBUG\",\"date\":\"2020-04-05T04:45:04Z\",\"text\":\"Finished adding and configuring encoding instance\"},{\"id\":\"1093a9e5-dcf6-4781-904e-a9f7eb6e58fe\",\"type\":\"DEBUG\",\"date\":\"2020-04-05T04:43:15Z\",\"text\":\"Setting up encoding configuration finished.\"},{\"id\":\"a07c6a30-fc19-4ad7-9398-e28b5a70cbe2\",\"type\":\"DEBUG\",\"date\":\"2020-04-05T04:43:15Z\",\"text\":\"Encoding on cluster started.\"},{\"id\":\"70169ca8-4aff-45e9-a6df-3ae88485f388\",\"type\":\"DEBUG\",\"date\":\"2020-04-05T04:46:23Z\",\"text\":\"Saving encoding meta data.\"},{\"id\":\"ac50ded9-0cf4-4c06-9222-b9501cc89307\",\"type\":\"DEBUG\",\"date\":\"2020-04-05T04:46:23Z\",\"text\":\"Saving encoding meta data finished.\"},{\"id\":\"d03aa2e2-8452-4c4f-a0f4-b26b0efa2d08\",\"type\":\"INFO\",\"date\":\"2020-04-05T04:43:13Z\",\"text\":\"Download of input file finished\"},{\"id\":\"e4419ef5-c784-4622-bb79-638e4163ccb2\",\"type\":\"INFO\",\"date\":\"2020-04-05T04:43:15Z\",\"text\":\"Encoding in progress.\"},{\"id\":\"fbd40b30-d8cf-4e39-b528-40b2476d29e3\",\"type\":\"DEBUG\",\"date\":\"2020-04-05T04:43:15Z\",\"text\":\"Probing input file.\"},{\"id\":\"1c4be6a6-e80a-45a6-940e-7b5fd77a468d\",\"type\":\"INFO\",\"date\":\"2020-04-05T04:46:27Z\",\"text\":\"Progressive HLS muxing upload in progress\"}],\"subtasks\":[{\"id\":\"93c96a29-f3da-41bb-bf1f-58d56635a83f\",\"name\":\"Input file download\",\"runningAt\":\"2020-04-05T04:43:08Z\",\"updatedAt\":\"2020-04-05T04:43:13Z\",\"finishedAt\":\"2020-04-05T04:43:13Z\",\"progress\":100,\"status\":\"FINISHED\",\"metadata\":[{\"date\":\"2020-04-05T04:43:13Z\",\"data\":{\"size\":1172428172}}]},{\"id\":\"01018213-f08e-43fb-af96-36a6cae88b08\",\"name\":\"Input file analysis\",\"runningAt\":\"2020-04-05T04:43:13Z\",\"updatedAt\":\"2020-04-05T04:43:14Z\",\"finishedAt\":\"2020-04-05T04:43:14Z\",\"progress\":100,\"status\":\"FINISHED\"},{\"id\":\"2f4abaeb-9bbe-417a-a82c-af2867f79457\",\"name\":\"Analysis\",\"runningAt\":\"2020-04-05T04:43:17Z\",\"updatedAt\":\"2020-04-05T04:46:23Z\",\"finishedAt\":\"2020-04-05T04:43:27Z\",\"progress\":100,\"status\":\"FINISHED\",\"metadata\":[{\"date\":\"2020-04-05T04:43:17Z\",\"data\":{\"framesAnalysed\":0}}]},{\"id\":\"47a27b18-02f4-4686-90f3-d9fb200275cc\",\"name\":\"Encoding\",\"runningAt\":\"2020-04-05T04:43:15Z\",\"updatedAt\":\"2020-04-05T04:46:23Z\",\"finishedAt\":\"2020-04-05T04:46:23Z\",\"progress\":100,\"status\":\"FINISHED\",\"metadata\":[{\"date\":\"2020-04-05T04:46:23Z\",\"data\":{\"bytesEncoded\":545288752,\"avgFramesEncodedPerSecond\":121.0,\"framesEncoded\":21312,\"realtimeFactor\":5.045454545454546}}]},{\"id\":\"ba4f6eb0-5e7c-4280-8c1f-a04900281121\",\"name\":\"Progressive muxing HLS content\",\"runningAt\":\"2020-04-05T04:46:24Z\",\"updatedAt\":\"2020-04-05T04:46:24Z\",\"progress\":0,\"status\":\"RUNNING\"},{\"id\":\"0f0939b8-b560-4e11-a32b-1cf8ff372fee\",\"name\":\"Uploading progressive HLS muxing\",\"runningAt\":\"2020-04-05T04:46:27Z\",\"updatedAt\":\"2020-04-05T04:46:27Z\",\"progress\":0,\"status\":\"RUNNING\"}]},\"messages\":[{\"id\":\"2942ebf0-e3b5-4029-b4a3-5dbe0d703ce7\",\"date\":\"2020-04-05T04:46:33Z\",\"type\":\"INFO\",\"text\":\"Successfully retrieved status of Encoding with id 03ccf3c5-aa78-445f-8ad4-934f5542db24!\"}]}}\n",
      "Encoding status is Status.RUNNING (progress: 90 %)\n",
      "2020-04-05 13:46:37,499 bitmovin_api_sdk.common.bitmovin_api_logger.BitmovinApiLogger DEBUG    REQUEST: GET https://api.bitmovin.com/v1/encoding/encodings/03ccf3c5-aa78-445f-8ad4-934f5542db24/status\n",
      "2020-04-05 13:46:37,852 bitmovin_api_sdk.common.bitmovin_api_logger.BitmovinApiLogger DEBUG    RESPONSE: {\"requestId\":\"f645bd1f-5b04-4a7e-9916-5b5924bfedb2\",\"status\":\"SUCCESS\",\"data\":{\"result\":{\"id\":\"696e879a-68ee-4089-a397-3fc48fb324e9\",\"createdAt\":\"2020-04-05T04:37:51Z\",\"queuedAt\":\"2020-04-05T04:41:11Z\",\"runningAt\":\"2020-04-05T04:43:08Z\",\"eta\":200.0,\"progress\":90,\"status\":\"RUNNING\",\"messages\":[{\"id\":\"d03aa2e2-8452-4c4f-a0f4-b26b0efa2d08\",\"type\":\"INFO\",\"date\":\"2020-04-05T04:43:13Z\",\"text\":\"Download of input file finished\"},{\"id\":\"3c429ecc-29da-4a4d-9489-df3efa80af94\",\"type\":\"DEBUG\",\"date\":\"2020-04-05T04:46:28Z\",\"text\":\"Finished shutdown of encoding instance\"},{\"id\":\"c629d7ca-efc1-466a-bc9d-32c353b8a3e8\",\"type\":\"DEBUG\",\"date\":\"2020-04-05T04:45:04Z\",\"text\":\"Finished configuring and adding encoding instances\"},{\"id\":\"3032d2b5-1a58-4965-ad7c-d3f074ae5b86\",\"type\":\"INFO\",\"date\":\"2020-04-05T04:43:08Z\",\"text\":\"Download of input file in progress.\"},{\"id\":\"1c4be6a6-e80a-45a6-940e-7b5fd77a468d\",\"type\":\"INFO\",\"date\":\"2020-04-05T04:46:27Z\",\"text\":\"Progressive HLS muxing upload in progress\"},{\"id\":\"91f9d98f-91ce-4c66-a690-3d1d0504d157\",\"type\":\"INFO\",\"date\":\"2020-04-05T04:43:14Z\",\"text\":\"Analyzing input finished.\"},{\"id\":\"ea898311-1a00-4b1a-bd19-6eeb3b1de0fb\",\"type\":\"DEBUG\",\"date\":\"2020-04-05T04:43:15Z\",\"text\":\"Probing input file finished.\"},{\"id\":\"de50674d-a476-4549-941f-d0c11871d879\",\"type\":\"DEBUG\",\"date\":\"2020-04-05T04:46:23Z\",\"text\":\"Encoding on cluster finished.\"},{\"id\":\"e4419ef5-c784-4622-bb79-638e4163ccb2\",\"type\":\"INFO\",\"date\":\"2020-04-05T04:43:15Z\",\"text\":\"Encoding in progress.\"},{\"id\":\"ac50ded9-0cf4-4c06-9222-b9501cc89307\",\"type\":\"DEBUG\",\"date\":\"2020-04-05T04:46:23Z\",\"text\":\"Saving encoding meta data finished.\"},{\"id\":\"fbd40b30-d8cf-4e39-b528-40b2476d29e3\",\"type\":\"DEBUG\",\"date\":\"2020-04-05T04:43:15Z\",\"text\":\"Probing input file.\"},{\"id\":\"32b5c69a-f46e-4957-a1fd-ed84a5c792d2\",\"type\":\"INFO\",\"date\":\"2020-04-05T04:46:24Z\",\"text\":\"Progressive HLS muxing in progress\"},{\"id\":\"92c71a96-21d5-4b8c-bd28-755272a2fb3b\",\"type\":\"DEBUG\",\"date\":\"2020-04-05T04:45:04Z\",\"text\":\"Finished adding and configuring encoding instance\"},{\"id\":\"1093a9e5-dcf6-4781-904e-a9f7eb6e58fe\",\"type\":\"DEBUG\",\"date\":\"2020-04-05T04:43:15Z\",\"text\":\"Setting up encoding configuration finished.\"},{\"id\":\"b5fc1c77-0d62-4d92-8724-c4bfd10c5eb9\",\"type\":\"INFO\",\"date\":\"2020-04-05T04:43:13Z\",\"text\":\"Analyzing input in progress.\"},{\"id\":\"a07c6a30-fc19-4ad7-9398-e28b5a70cbe2\",\"type\":\"DEBUG\",\"date\":\"2020-04-05T04:43:15Z\",\"text\":\"Encoding on cluster started.\"},{\"id\":\"70169ca8-4aff-45e9-a6df-3ae88485f388\",\"type\":\"DEBUG\",\"date\":\"2020-04-05T04:46:23Z\",\"text\":\"Saving encoding meta data.\"}],\"subtasks\":[{\"id\":\"93c96a29-f3da-41bb-bf1f-58d56635a83f\",\"name\":\"Input file download\",\"runningAt\":\"2020-04-05T04:43:08Z\",\"updatedAt\":\"2020-04-05T04:43:13Z\",\"finishedAt\":\"2020-04-05T04:43:13Z\",\"progress\":100,\"status\":\"FINISHED\",\"metadata\":[{\"date\":\"2020-04-05T04:43:13Z\",\"data\":{\"size\":1172428172}}]},{\"id\":\"01018213-f08e-43fb-af96-36a6cae88b08\",\"name\":\"Input file analysis\",\"runningAt\":\"2020-04-05T04:43:13Z\",\"updatedAt\":\"2020-04-05T04:43:14Z\",\"finishedAt\":\"2020-04-05T04:43:14Z\",\"progress\":100,\"status\":\"FINISHED\"},{\"id\":\"2f4abaeb-9bbe-417a-a82c-af2867f79457\",\"name\":\"Analysis\",\"runningAt\":\"2020-04-05T04:43:17Z\",\"updatedAt\":\"2020-04-05T04:46:23Z\",\"finishedAt\":\"2020-04-05T04:43:27Z\",\"progress\":100,\"status\":\"FINISHED\",\"metadata\":[{\"date\":\"2020-04-05T04:43:17Z\",\"data\":{\"framesAnalysed\":0}}]},{\"id\":\"47a27b18-02f4-4686-90f3-d9fb200275cc\",\"name\":\"Encoding\",\"runningAt\":\"2020-04-05T04:43:15Z\",\"updatedAt\":\"2020-04-05T04:46:23Z\",\"finishedAt\":\"2020-04-05T04:46:23Z\",\"progress\":100,\"status\":\"FINISHED\",\"metadata\":[{\"date\":\"2020-04-05T04:46:23Z\",\"data\":{\"bytesEncoded\":545288752,\"avgFramesEncodedPerSecond\":121.0,\"framesEncoded\":21312,\"realtimeFactor\":5.045454545454546}}]},{\"id\":\"ba4f6eb0-5e7c-4280-8c1f-a04900281121\",\"name\":\"Progressive muxing HLS content\",\"runningAt\":\"2020-04-05T04:46:24Z\",\"updatedAt\":\"2020-04-05T04:46:24Z\",\"progress\":0,\"status\":\"RUNNING\"},{\"id\":\"0f0939b8-b560-4e11-a32b-1cf8ff372fee\",\"name\":\"Uploading progressive HLS muxing\",\"runningAt\":\"2020-04-05T04:46:27Z\",\"updatedAt\":\"2020-04-05T04:46:27Z\",\"progress\":0,\"status\":\"RUNNING\"}]},\"messages\":[{\"id\":\"7acb45f3-ff29-43aa-85cd-72853d9f2b34\",\"date\":\"2020-04-05T04:46:38Z\",\"type\":\"INFO\",\"text\":\"Successfully retrieved status of Encoding with id 03ccf3c5-aa78-445f-8ad4-934f5542db24!\"}]}}\n"
     ]
    },
    {
     "name": "stdout",
     "output_type": "stream",
     "text": [
      "Encoding status is Status.RUNNING (progress: 90 %)\n",
      "2020-04-05 13:46:42,869 bitmovin_api_sdk.common.bitmovin_api_logger.BitmovinApiLogger DEBUG    REQUEST: GET https://api.bitmovin.com/v1/encoding/encodings/03ccf3c5-aa78-445f-8ad4-934f5542db24/status\n",
      "2020-04-05 13:46:43,335 bitmovin_api_sdk.common.bitmovin_api_logger.BitmovinApiLogger DEBUG    RESPONSE: {\"requestId\":\"d8ea6a9a-d5e2-4976-8247-1827b7b9e1d7\",\"status\":\"SUCCESS\",\"data\":{\"result\":{\"id\":\"696e879a-68ee-4089-a397-3fc48fb324e9\",\"createdAt\":\"2020-04-05T04:37:51Z\",\"queuedAt\":\"2020-04-05T04:41:11Z\",\"runningAt\":\"2020-04-05T04:43:08Z\",\"eta\":200.0,\"progress\":90,\"status\":\"RUNNING\",\"messages\":[{\"id\":\"e4419ef5-c784-4622-bb79-638e4163ccb2\",\"type\":\"INFO\",\"date\":\"2020-04-05T04:43:15Z\",\"text\":\"Encoding in progress.\"},{\"id\":\"32b5c69a-f46e-4957-a1fd-ed84a5c792d2\",\"type\":\"INFO\",\"date\":\"2020-04-05T04:46:24Z\",\"text\":\"Progressive HLS muxing in progress\"},{\"id\":\"fbd40b30-d8cf-4e39-b528-40b2476d29e3\",\"type\":\"DEBUG\",\"date\":\"2020-04-05T04:43:15Z\",\"text\":\"Probing input file.\"},{\"id\":\"91f9d98f-91ce-4c66-a690-3d1d0504d157\",\"type\":\"INFO\",\"date\":\"2020-04-05T04:43:14Z\",\"text\":\"Analyzing input finished.\"},{\"id\":\"92c71a96-21d5-4b8c-bd28-755272a2fb3b\",\"type\":\"DEBUG\",\"date\":\"2020-04-05T04:45:04Z\",\"text\":\"Finished adding and configuring encoding instance\"},{\"id\":\"1093a9e5-dcf6-4781-904e-a9f7eb6e58fe\",\"type\":\"DEBUG\",\"date\":\"2020-04-05T04:43:15Z\",\"text\":\"Setting up encoding configuration finished.\"},{\"id\":\"3032d2b5-1a58-4965-ad7c-d3f074ae5b86\",\"type\":\"INFO\",\"date\":\"2020-04-05T04:43:08Z\",\"text\":\"Download of input file in progress.\"},{\"id\":\"ea898311-1a00-4b1a-bd19-6eeb3b1de0fb\",\"type\":\"DEBUG\",\"date\":\"2020-04-05T04:43:15Z\",\"text\":\"Probing input file finished.\"},{\"id\":\"de50674d-a476-4549-941f-d0c11871d879\",\"type\":\"DEBUG\",\"date\":\"2020-04-05T04:46:23Z\",\"text\":\"Encoding on cluster finished.\"},{\"id\":\"c629d7ca-efc1-466a-bc9d-32c353b8a3e8\",\"type\":\"DEBUG\",\"date\":\"2020-04-05T04:45:04Z\",\"text\":\"Finished configuring and adding encoding instances\"},{\"id\":\"1c4be6a6-e80a-45a6-940e-7b5fd77a468d\",\"type\":\"INFO\",\"date\":\"2020-04-05T04:46:27Z\",\"text\":\"Progressive HLS muxing upload in progress\"},{\"id\":\"d03aa2e2-8452-4c4f-a0f4-b26b0efa2d08\",\"type\":\"INFO\",\"date\":\"2020-04-05T04:43:13Z\",\"text\":\"Download of input file finished\"},{\"id\":\"3c429ecc-29da-4a4d-9489-df3efa80af94\",\"type\":\"DEBUG\",\"date\":\"2020-04-05T04:46:28Z\",\"text\":\"Finished shutdown of encoding instance\"},{\"id\":\"b5fc1c77-0d62-4d92-8724-c4bfd10c5eb9\",\"type\":\"INFO\",\"date\":\"2020-04-05T04:43:13Z\",\"text\":\"Analyzing input in progress.\"},{\"id\":\"ac50ded9-0cf4-4c06-9222-b9501cc89307\",\"type\":\"DEBUG\",\"date\":\"2020-04-05T04:46:23Z\",\"text\":\"Saving encoding meta data finished.\"},{\"id\":\"a07c6a30-fc19-4ad7-9398-e28b5a70cbe2\",\"type\":\"DEBUG\",\"date\":\"2020-04-05T04:43:15Z\",\"text\":\"Encoding on cluster started.\"},{\"id\":\"70169ca8-4aff-45e9-a6df-3ae88485f388\",\"type\":\"DEBUG\",\"date\":\"2020-04-05T04:46:23Z\",\"text\":\"Saving encoding meta data.\"}],\"subtasks\":[{\"id\":\"93c96a29-f3da-41bb-bf1f-58d56635a83f\",\"name\":\"Input file download\",\"runningAt\":\"2020-04-05T04:43:08Z\",\"updatedAt\":\"2020-04-05T04:43:13Z\",\"finishedAt\":\"2020-04-05T04:43:13Z\",\"progress\":100,\"status\":\"FINISHED\",\"metadata\":[{\"date\":\"2020-04-05T04:43:13Z\",\"data\":{\"size\":1172428172}}]},{\"id\":\"01018213-f08e-43fb-af96-36a6cae88b08\",\"name\":\"Input file analysis\",\"runningAt\":\"2020-04-05T04:43:13Z\",\"updatedAt\":\"2020-04-05T04:43:14Z\",\"finishedAt\":\"2020-04-05T04:43:14Z\",\"progress\":100,\"status\":\"FINISHED\"},{\"id\":\"2f4abaeb-9bbe-417a-a82c-af2867f79457\",\"name\":\"Analysis\",\"runningAt\":\"2020-04-05T04:43:17Z\",\"updatedAt\":\"2020-04-05T04:46:23Z\",\"finishedAt\":\"2020-04-05T04:43:27Z\",\"progress\":100,\"status\":\"FINISHED\",\"metadata\":[{\"date\":\"2020-04-05T04:43:17Z\",\"data\":{\"framesAnalysed\":0}}]},{\"id\":\"47a27b18-02f4-4686-90f3-d9fb200275cc\",\"name\":\"Encoding\",\"runningAt\":\"2020-04-05T04:43:15Z\",\"updatedAt\":\"2020-04-05T04:46:23Z\",\"finishedAt\":\"2020-04-05T04:46:23Z\",\"progress\":100,\"status\":\"FINISHED\",\"metadata\":[{\"date\":\"2020-04-05T04:46:23Z\",\"data\":{\"bytesEncoded\":545288752,\"avgFramesEncodedPerSecond\":121.0,\"framesEncoded\":21312,\"realtimeFactor\":5.045454545454546}}]},{\"id\":\"ba4f6eb0-5e7c-4280-8c1f-a04900281121\",\"name\":\"Progressive muxing HLS content\",\"runningAt\":\"2020-04-05T04:46:24Z\",\"updatedAt\":\"2020-04-05T04:46:24Z\",\"progress\":0,\"status\":\"RUNNING\"},{\"id\":\"0f0939b8-b560-4e11-a32b-1cf8ff372fee\",\"name\":\"Uploading progressive HLS muxing\",\"runningAt\":\"2020-04-05T04:46:27Z\",\"updatedAt\":\"2020-04-05T04:46:27Z\",\"progress\":0,\"status\":\"RUNNING\"}]},\"messages\":[{\"id\":\"d7e76b86-e44a-4fab-a056-6e0dc56f775a\",\"date\":\"2020-04-05T04:46:43Z\",\"type\":\"INFO\",\"text\":\"Successfully retrieved status of Encoding with id 03ccf3c5-aa78-445f-8ad4-934f5542db24!\"}]}}\n",
      "Encoding status is Status.RUNNING (progress: 90 %)\n",
      "2020-04-05 13:46:48,352 bitmovin_api_sdk.common.bitmovin_api_logger.BitmovinApiLogger DEBUG    REQUEST: GET https://api.bitmovin.com/v1/encoding/encodings/03ccf3c5-aa78-445f-8ad4-934f5542db24/status\n",
      "2020-04-05 13:46:48,721 bitmovin_api_sdk.common.bitmovin_api_logger.BitmovinApiLogger DEBUG    RESPONSE: {\"requestId\":\"7ae30f28-ed68-422b-86b0-61bd7d55481e\",\"status\":\"SUCCESS\",\"data\":{\"result\":{\"id\":\"696e879a-68ee-4089-a397-3fc48fb324e9\",\"createdAt\":\"2020-04-05T04:37:51Z\",\"queuedAt\":\"2020-04-05T04:41:11Z\",\"runningAt\":\"2020-04-05T04:43:08Z\",\"eta\":200.0,\"progress\":90,\"status\":\"RUNNING\",\"messages\":[{\"id\":\"c629d7ca-efc1-466a-bc9d-32c353b8a3e8\",\"type\":\"DEBUG\",\"date\":\"2020-04-05T04:45:04Z\",\"text\":\"Finished configuring and adding encoding instances\"},{\"id\":\"3c429ecc-29da-4a4d-9489-df3efa80af94\",\"type\":\"DEBUG\",\"date\":\"2020-04-05T04:46:28Z\",\"text\":\"Finished shutdown of encoding instance\"},{\"id\":\"3032d2b5-1a58-4965-ad7c-d3f074ae5b86\",\"type\":\"INFO\",\"date\":\"2020-04-05T04:43:08Z\",\"text\":\"Download of input file in progress.\"},{\"id\":\"fbd40b30-d8cf-4e39-b528-40b2476d29e3\",\"type\":\"DEBUG\",\"date\":\"2020-04-05T04:43:15Z\",\"text\":\"Probing input file.\"},{\"id\":\"1c4be6a6-e80a-45a6-940e-7b5fd77a468d\",\"type\":\"INFO\",\"date\":\"2020-04-05T04:46:27Z\",\"text\":\"Progressive HLS muxing upload in progress\"},{\"id\":\"70169ca8-4aff-45e9-a6df-3ae88485f388\",\"type\":\"DEBUG\",\"date\":\"2020-04-05T04:46:23Z\",\"text\":\"Saving encoding meta data.\"},{\"id\":\"e02bc29d-4d56-4505-9d8b-edd8fefdb76f\",\"type\":\"INFO\",\"date\":\"2020-04-05T04:46:44Z\",\"text\":\"Progressive HLS muxing finished\"},{\"id\":\"a07c6a30-fc19-4ad7-9398-e28b5a70cbe2\",\"type\":\"DEBUG\",\"date\":\"2020-04-05T04:43:15Z\",\"text\":\"Encoding on cluster started.\"},{\"id\":\"e4419ef5-c784-4622-bb79-638e4163ccb2\",\"type\":\"INFO\",\"date\":\"2020-04-05T04:43:15Z\",\"text\":\"Encoding in progress.\"},{\"id\":\"32b5c69a-f46e-4957-a1fd-ed84a5c792d2\",\"type\":\"INFO\",\"date\":\"2020-04-05T04:46:24Z\",\"text\":\"Progressive HLS muxing in progress\"},{\"id\":\"91f9d98f-91ce-4c66-a690-3d1d0504d157\",\"type\":\"INFO\",\"date\":\"2020-04-05T04:43:14Z\",\"text\":\"Analyzing input finished.\"},{\"id\":\"de50674d-a476-4549-941f-d0c11871d879\",\"type\":\"DEBUG\",\"date\":\"2020-04-05T04:46:23Z\",\"text\":\"Encoding on cluster finished.\"},{\"id\":\"b5fc1c77-0d62-4d92-8724-c4bfd10c5eb9\",\"type\":\"INFO\",\"date\":\"2020-04-05T04:43:13Z\",\"text\":\"Analyzing input in progress.\"},{\"id\":\"d03aa2e2-8452-4c4f-a0f4-b26b0efa2d08\",\"type\":\"INFO\",\"date\":\"2020-04-05T04:43:13Z\",\"text\":\"Download of input file finished\"},{\"id\":\"ac50ded9-0cf4-4c06-9222-b9501cc89307\",\"type\":\"DEBUG\",\"date\":\"2020-04-05T04:46:23Z\",\"text\":\"Saving encoding meta data finished.\"},{\"id\":\"1093a9e5-dcf6-4781-904e-a9f7eb6e58fe\",\"type\":\"DEBUG\",\"date\":\"2020-04-05T04:43:15Z\",\"text\":\"Setting up encoding configuration finished.\"},{\"id\":\"ea898311-1a00-4b1a-bd19-6eeb3b1de0fb\",\"type\":\"DEBUG\",\"date\":\"2020-04-05T04:43:15Z\",\"text\":\"Probing input file finished.\"},{\"id\":\"92c71a96-21d5-4b8c-bd28-755272a2fb3b\",\"type\":\"DEBUG\",\"date\":\"2020-04-05T04:45:04Z\",\"text\":\"Finished adding and configuring encoding instance\"}],\"subtasks\":[{\"id\":\"93c96a29-f3da-41bb-bf1f-58d56635a83f\",\"name\":\"Input file download\",\"runningAt\":\"2020-04-05T04:43:08Z\",\"updatedAt\":\"2020-04-05T04:43:13Z\",\"finishedAt\":\"2020-04-05T04:43:13Z\",\"progress\":100,\"status\":\"FINISHED\",\"metadata\":[{\"date\":\"2020-04-05T04:43:13Z\",\"data\":{\"size\":1172428172}}]},{\"id\":\"01018213-f08e-43fb-af96-36a6cae88b08\",\"name\":\"Input file analysis\",\"runningAt\":\"2020-04-05T04:43:13Z\",\"updatedAt\":\"2020-04-05T04:43:14Z\",\"finishedAt\":\"2020-04-05T04:43:14Z\",\"progress\":100,\"status\":\"FINISHED\"},{\"id\":\"2f4abaeb-9bbe-417a-a82c-af2867f79457\",\"name\":\"Analysis\",\"runningAt\":\"2020-04-05T04:43:17Z\",\"updatedAt\":\"2020-04-05T04:46:23Z\",\"finishedAt\":\"2020-04-05T04:43:27Z\",\"progress\":100,\"status\":\"FINISHED\",\"metadata\":[{\"date\":\"2020-04-05T04:43:17Z\",\"data\":{\"framesAnalysed\":0}}]},{\"id\":\"47a27b18-02f4-4686-90f3-d9fb200275cc\",\"name\":\"Encoding\",\"runningAt\":\"2020-04-05T04:43:15Z\",\"updatedAt\":\"2020-04-05T04:46:23Z\",\"finishedAt\":\"2020-04-05T04:46:23Z\",\"progress\":100,\"status\":\"FINISHED\",\"metadata\":[{\"date\":\"2020-04-05T04:46:23Z\",\"data\":{\"bytesEncoded\":545288752,\"avgFramesEncodedPerSecond\":121.0,\"framesEncoded\":21312,\"realtimeFactor\":5.045454545454546}}]},{\"id\":\"0f0939b8-b560-4e11-a32b-1cf8ff372fee\",\"name\":\"Uploading progressive HLS muxing\",\"runningAt\":\"2020-04-05T04:46:27Z\",\"updatedAt\":\"2020-04-05T04:46:27Z\",\"progress\":0,\"status\":\"RUNNING\"},{\"id\":\"ba4f6eb0-5e7c-4280-8c1f-a04900281121\",\"name\":\"Progressive muxing HLS content\",\"runningAt\":\"2020-04-05T04:46:24Z\",\"updatedAt\":\"2020-04-05T04:46:44Z\",\"finishedAt\":\"2020-04-05T04:46:44Z\",\"progress\":100,\"status\":\"FINISHED\"}]},\"messages\":[{\"id\":\"eed1e33d-46df-429b-af84-5dacad089531\",\"date\":\"2020-04-05T04:46:49Z\",\"type\":\"INFO\",\"text\":\"Successfully retrieved status of Encoding with id 03ccf3c5-aa78-445f-8ad4-934f5542db24!\"}]}}\n"
     ]
    },
    {
     "name": "stdout",
     "output_type": "stream",
     "text": [
      "Encoding status is Status.RUNNING (progress: 90 %)\n",
      "2020-04-05 13:46:53,738 bitmovin_api_sdk.common.bitmovin_api_logger.BitmovinApiLogger DEBUG    REQUEST: GET https://api.bitmovin.com/v1/encoding/encodings/03ccf3c5-aa78-445f-8ad4-934f5542db24/status\n",
      "2020-04-05 13:46:54,168 bitmovin_api_sdk.common.bitmovin_api_logger.BitmovinApiLogger DEBUG    RESPONSE: {\"requestId\":\"38452784-fc91-44bc-b460-438c2e8301f6\",\"status\":\"SUCCESS\",\"data\":{\"result\":{\"id\":\"696e879a-68ee-4089-a397-3fc48fb324e9\",\"createdAt\":\"2020-04-05T04:37:51Z\",\"queuedAt\":\"2020-04-05T04:41:11Z\",\"runningAt\":\"2020-04-05T04:43:08Z\",\"finishedAt\":\"2020-04-05T04:46:52Z\",\"eta\":0.0,\"progress\":100,\"status\":\"FINISHED\",\"messages\":[{\"id\":\"32b5c69a-f46e-4957-a1fd-ed84a5c792d2\",\"type\":\"INFO\",\"date\":\"2020-04-05T04:46:24Z\",\"text\":\"Progressive HLS muxing in progress\"},{\"id\":\"91f9d98f-91ce-4c66-a690-3d1d0504d157\",\"type\":\"INFO\",\"date\":\"2020-04-05T04:43:14Z\",\"text\":\"Analyzing input finished.\"},{\"id\":\"3032d2b5-1a58-4965-ad7c-d3f074ae5b86\",\"type\":\"INFO\",\"date\":\"2020-04-05T04:43:08Z\",\"text\":\"Download of input file in progress.\"},{\"id\":\"ea898311-1a00-4b1a-bd19-6eeb3b1de0fb\",\"type\":\"DEBUG\",\"date\":\"2020-04-05T04:43:15Z\",\"text\":\"Probing input file finished.\"},{\"id\":\"de50674d-a476-4549-941f-d0c11871d879\",\"type\":\"DEBUG\",\"date\":\"2020-04-05T04:46:23Z\",\"text\":\"Encoding on cluster finished.\"},{\"id\":\"1c4be6a6-e80a-45a6-940e-7b5fd77a468d\",\"type\":\"INFO\",\"date\":\"2020-04-05T04:46:27Z\",\"text\":\"Progressive HLS muxing upload in progress\"},{\"id\":\"e4419ef5-c784-4622-bb79-638e4163ccb2\",\"type\":\"INFO\",\"date\":\"2020-04-05T04:43:15Z\",\"text\":\"Encoding in progress.\"},{\"id\":\"92c71a96-21d5-4b8c-bd28-755272a2fb3b\",\"type\":\"DEBUG\",\"date\":\"2020-04-05T04:45:04Z\",\"text\":\"Finished adding and configuring encoding instance\"},{\"id\":\"c617a66f-c1e1-4c43-89cd-5195e168c29c\",\"type\":\"INFO\",\"date\":\"2020-04-05T04:46:52Z\",\"text\":\"Encoding has finished successfully.\"},{\"id\":\"1093a9e5-dcf6-4781-904e-a9f7eb6e58fe\",\"type\":\"DEBUG\",\"date\":\"2020-04-05T04:43:15Z\",\"text\":\"Setting up encoding configuration finished.\"},{\"id\":\"c629d7ca-efc1-466a-bc9d-32c353b8a3e8\",\"type\":\"DEBUG\",\"date\":\"2020-04-05T04:45:04Z\",\"text\":\"Finished configuring and adding encoding instances\"},{\"id\":\"a07c6a30-fc19-4ad7-9398-e28b5a70cbe2\",\"type\":\"DEBUG\",\"date\":\"2020-04-05T04:43:15Z\",\"text\":\"Encoding on cluster started.\"},{\"id\":\"b5fc1c77-0d62-4d92-8724-c4bfd10c5eb9\",\"type\":\"INFO\",\"date\":\"2020-04-05T04:43:13Z\",\"text\":\"Analyzing input in progress.\"},{\"id\":\"d03aa2e2-8452-4c4f-a0f4-b26b0efa2d08\",\"type\":\"INFO\",\"date\":\"2020-04-05T04:43:13Z\",\"text\":\"Download of input file finished\"},{\"id\":\"e02bc29d-4d56-4505-9d8b-edd8fefdb76f\",\"type\":\"INFO\",\"date\":\"2020-04-05T04:46:44Z\",\"text\":\"Progressive HLS muxing finished\"},{\"id\":\"3c429ecc-29da-4a4d-9489-df3efa80af94\",\"type\":\"DEBUG\",\"date\":\"2020-04-05T04:46:28Z\",\"text\":\"Finished shutdown of encoding instance\"},{\"id\":\"70169ca8-4aff-45e9-a6df-3ae88485f388\",\"type\":\"DEBUG\",\"date\":\"2020-04-05T04:46:23Z\",\"text\":\"Saving encoding meta data.\"},{\"id\":\"ac50ded9-0cf4-4c06-9222-b9501cc89307\",\"type\":\"DEBUG\",\"date\":\"2020-04-05T04:46:23Z\",\"text\":\"Saving encoding meta data finished.\"},{\"id\":\"fbd40b30-d8cf-4e39-b528-40b2476d29e3\",\"type\":\"DEBUG\",\"date\":\"2020-04-05T04:43:15Z\",\"text\":\"Probing input file.\"},{\"id\":\"6bf8e284-21fd-4889-9194-5389bf43a63d\",\"type\":\"INFO\",\"date\":\"2020-04-05T04:46:52Z\",\"text\":\"Progressive HLS muxing upload finished\"}],\"subtasks\":[{\"id\":\"93c96a29-f3da-41bb-bf1f-58d56635a83f\",\"name\":\"Input file download\",\"runningAt\":\"2020-04-05T04:43:08Z\",\"updatedAt\":\"2020-04-05T04:43:13Z\",\"finishedAt\":\"2020-04-05T04:43:13Z\",\"progress\":100,\"status\":\"FINISHED\",\"metadata\":[{\"date\":\"2020-04-05T04:43:13Z\",\"data\":{\"size\":1172428172}}]},{\"id\":\"01018213-f08e-43fb-af96-36a6cae88b08\",\"name\":\"Input file analysis\",\"runningAt\":\"2020-04-05T04:43:13Z\",\"updatedAt\":\"2020-04-05T04:43:14Z\",\"finishedAt\":\"2020-04-05T04:43:14Z\",\"progress\":100,\"status\":\"FINISHED\"},{\"id\":\"2f4abaeb-9bbe-417a-a82c-af2867f79457\",\"name\":\"Analysis\",\"runningAt\":\"2020-04-05T04:43:17Z\",\"updatedAt\":\"2020-04-05T04:46:23Z\",\"finishedAt\":\"2020-04-05T04:43:27Z\",\"progress\":100,\"status\":\"FINISHED\",\"metadata\":[{\"date\":\"2020-04-05T04:43:17Z\",\"data\":{\"framesAnalysed\":0}}]},{\"id\":\"47a27b18-02f4-4686-90f3-d9fb200275cc\",\"name\":\"Encoding\",\"runningAt\":\"2020-04-05T04:43:15Z\",\"updatedAt\":\"2020-04-05T04:46:23Z\",\"finishedAt\":\"2020-04-05T04:46:23Z\",\"progress\":100,\"status\":\"FINISHED\",\"metadata\":[{\"date\":\"2020-04-05T04:46:23Z\",\"data\":{\"bytesEncoded\":545288752,\"avgFramesEncodedPerSecond\":121.0,\"framesEncoded\":21312,\"realtimeFactor\":5.045454545454546}}]},{\"id\":\"ba4f6eb0-5e7c-4280-8c1f-a04900281121\",\"name\":\"Progressive muxing HLS content\",\"runningAt\":\"2020-04-05T04:46:24Z\",\"updatedAt\":\"2020-04-05T04:46:44Z\",\"finishedAt\":\"2020-04-05T04:46:44Z\",\"progress\":100,\"status\":\"FINISHED\"},{\"id\":\"0f0939b8-b560-4e11-a32b-1cf8ff372fee\",\"name\":\"Uploading progressive HLS muxing\",\"runningAt\":\"2020-04-05T04:46:27Z\",\"updatedAt\":\"2020-04-05T04:46:52Z\",\"finishedAt\":\"2020-04-05T04:46:52Z\",\"progress\":100,\"status\":\"FINISHED\"}]},\"messages\":[{\"id\":\"ddd50e87-3e96-414d-a4a5-66f4f10f5e1b\",\"date\":\"2020-04-05T04:46:54Z\",\"type\":\"INFO\",\"text\":\"Successfully retrieved status of Encoding with id 03ccf3c5-aa78-445f-8ad4-934f5542db24!\"}]}}\n",
      "Encoding status is Status.FINISHED (progress: 100 %)\n",
      "Encoding finished successfully\n"
     ]
    }
   ],
   "source": [
    "task = bitmovin_api.encoding.encodings.status(encoding_id=encoder.id)\n",
    "\n",
    "while task.status is not Status.FINISHED and task.status is not Status.ERROR:\n",
    "    time.sleep(5)\n",
    "    task = bitmovin_api.encoding.encodings.status(encoding_id=encoder.id)\n",
    "    print(\"Encoding status is {} (progress: {} %)\".format(task.status, task.progress))\n",
    "\n",
    "if task.status is Status.ERROR:\n",
    "    _log_task_errors(task=task)\n",
    "    raise Exception(\"Encoding failed\")\n",
    "\n",
    "print(\"Encoding finished successfully\")"
   ]
  },
  {
   "cell_type": "code",
   "execution_count": null,
   "metadata": {},
   "outputs": [],
   "source": []
  },
  {
   "cell_type": "code",
   "execution_count": 73,
   "metadata": {},
   "outputs": [],
   "source": [
    "def _createHLSManifest(encoding, output):\n",
    "    \n",
    "    hls_manifest_output = HlsManifest(\n",
    "        outputs=[{'acl': [{'permission': 'PUBLIC_READ'}],\n",
    "              'outputId': '50d0e12b-3117-48a1-aeb1-92ff71b30a7d',\n",
    "              'outputPath': '/video/MultiCodec/'}],\n",
    "        name=\"master.m3u8\",\n",
    "        manifest_name=\"master.m3u8\"\n",
    "    )\n",
    "\n",
    "    hls_manifest =  bitmovin_api.encoding.manifests.hls.create(hls_manifest=hls_manifest_output)\n",
    "    print(hls_manifest.id)\n",
    "    return hls_manifest"
   ]
  },
  {
   "cell_type": "code",
   "execution_count": 74,
   "metadata": {
    "scrolled": true
   },
   "outputs": [
    {
     "name": "stdout",
     "output_type": "stream",
     "text": [
      "2020-04-05 14:01:12,684 bitmovin_api_sdk.common.bitmovin_api_logger.BitmovinApiLogger DEBUG    REQUEST: POST https://api.bitmovin.com/v1/encoding/manifests/hls  --> {\"name\": \"master.m3u8\", \"outputs\": [{\"acl\": [{\"permission\": \"PUBLIC_READ\"}], \"outputId\": \"50d0e12b-3117-48a1-aeb1-92ff71b30a7d\", \"outputPath\": \"/video/MultiCodec/\"}], \"manifestName\": \"master.m3u8\"}\n",
      "2020-04-05 14:01:12,687 bitmovin_api_sdk.common.bitmovin_api_logger.BitmovinApiLogger DEBUG    Serialized request object: {\"manifestName\": \"master.m3u8\", \"name\": \"master.m3u8\", \"outputs\": [{\"acl\": [{\"permission\": \"PUBLIC_READ\"}], \"outputId\": \"50d0e12b-3117-48a1-aeb1-92ff71b30a7d\", \"outputPath\": \"/video/MultiCodec/\"}]}\n",
      "2020-04-05 14:01:13,228 bitmovin_api_sdk.common.bitmovin_api_logger.BitmovinApiLogger DEBUG    RESPONSE: {\"requestId\":\"ea913d36-caae-49f7-8190-d00e74906eff\",\"status\":\"SUCCESS\",\"data\":{\"result\":{\"id\":\"09293a03-e07d-4b5d-a6fc-9a462ce018c0\",\"name\":\"master.m3u8\",\"createdAt\":\"2020-04-05T05:01:13Z\",\"modifiedAt\":\"2020-04-05T05:01:13Z\",\"type\":\"HLS\",\"manifestName\":\"master.m3u8\",\"status\":\"CREATED\",\"outputs\":[{\"outputId\":\"50d0e12b-3117-48a1-aeb1-92ff71b30a7d\",\"outputPath\":\"/video/MultiCodec/\",\"acl\":[{\"scope\":null,\"permission\":\"PUBLIC_READ\"}]}]},\"messages\":[{\"type\":\"INFO\",\"text\":\"Manifest created successfully\"}]}}\n",
      "09293a03-e07d-4b5d-a6fc-9a462ce018c0\n"
     ]
    }
   ],
   "source": [
    "hls_manifest = _createHLSManifest(encoding=encoder, output=gcs_output)"
   ]
  },
  {
   "cell_type": "code",
   "execution_count": 75,
   "metadata": {},
   "outputs": [],
   "source": [
    "def _create_audio_media_playlist(encoding, manifest, audio_muxing, segment_path):\n",
    "    audio_media_info = AudioMediaInfo(name=\"audio.m3u8\",\n",
    "                                      uri=\"audio.m3u8\",\n",
    "                                      group_id=\"audio\",\n",
    "                                      encoding_id=encoding.id,\n",
    "                                      stream_id=audio_muxing.streams[0].stream_id,\n",
    "                                      muxing_id=audio_muxing.id,\n",
    "                                      language=\"en\",\n",
    "                                      assoc_language=\"en\",\n",
    "                                      autoselect=False,\n",
    "                                      is_default=False,\n",
    "                                      forced=False,\n",
    "                                      segment_path=segment_path)\n",
    "\n",
    "    return bitmovin_api.encoding.manifests.hls.media.audio.create(manifest_id=manifest.id,\\\n",
    "                                                                  audio_media_info=audio_media_info)"
   ]
  },
  {
   "cell_type": "code",
   "execution_count": 58,
   "metadata": {},
   "outputs": [
    {
     "name": "stdout",
     "output_type": "stream",
     "text": [
      "2020-04-05 13:12:23,835 bitmovin_api_sdk.common.bitmovin_api_logger.BitmovinApiLogger DEBUG    REQUEST: POST https://api.bitmovin.com/v1/encoding/manifests/hls/fcb935a5-b152-4b71-9d3b-1faf7e95bbda/media/audio  --> {\"groupId\": \"audio\", \"language\": \"en\", \"assocLanguage\": \"en\", \"name\": \"audio.m3u8\", \"isDefault\": false, \"autoselect\": false, \"segmentPath\": \"fmp4-aac/\", \"encodingId\": \"c18b735f-c298-473d-94a6-24c9480d81d3\", \"streamId\": \"f9ea5e2b-feac-491b-ab44-cc74337139c1\", \"muxingId\": \"ec79ab1c-5f81-4ede-afdd-365d450229bc\", \"uri\": \"audio.m3u8\", \"forced\": false}\n",
      "2020-04-05 13:12:23,849 bitmovin_api_sdk.common.bitmovin_api_logger.BitmovinApiLogger DEBUG    Serialized request object: {\"assocLanguage\": \"en\", \"autoselect\": false, \"encodingId\": \"c18b735f-c298-473d-94a6-24c9480d81d3\", \"forced\": false, \"groupId\": \"audio\", \"isDefault\": false, \"language\": \"en\", \"muxingId\": \"ec79ab1c-5f81-4ede-afdd-365d450229bc\", \"name\": \"audio.m3u8\", \"segmentPath\": \"fmp4-aac/\", \"streamId\": \"f9ea5e2b-feac-491b-ab44-cc74337139c1\", \"uri\": \"audio.m3u8\"}\n",
      "2020-04-05 13:12:24,350 bitmovin_api_sdk.common.bitmovin_api_logger.BitmovinApiLogger DEBUG    RESPONSE: {\"requestId\":\"f7ed1e21-7b2f-4d00-8425-027de26001e4\",\"status\":\"SUCCESS\",\"data\":{\"result\":{\"id\":\"560f0d6f-cbb6-4fad-b4cd-b7b728e28a1b\",\"groupId\":\"audio\",\"language\":\"en\",\"assocLanguage\":\"en\",\"name\":\"audio.m3u8\",\"isDefault\":false,\"autoselect\":false,\"encodingId\":\"c18b735f-c298-473d-94a6-24c9480d81d3\",\"streamId\":\"f9ea5e2b-feac-491b-ab44-cc74337139c1\",\"muxingId\":\"ec79ab1c-5f81-4ede-afdd-365d450229bc\",\"segmentPath\":\"fmp4-aac/\",\"uri\":\"audio.m3u8\",\"forced\":false}}}\n"
     ]
    }
   ],
   "source": [
    "audio_media_info = _create_audio_media_playlist(encoding=encoder, \\\n",
    "                                                manifest=hls_manifest,\\\n",
    "                                                audio_muxing=audiofmp4mux,\\\n",
    "                                                segment_path=\"fmp4-aac/\")"
   ]
  },
  {
   "cell_type": "code",
   "execution_count": 59,
   "metadata": {},
   "outputs": [],
   "source": [
    "def _create_video_stream_playlist(encoding, manifest, bitrate, muxing, segment_path, audio_media_info):\n",
    "    stream_info = StreamInfo(uri=\"video_{0}kbps.m3u8\".format(bitrate / 1000),\n",
    "                             encoding_id=encoding.id,\n",
    "                             stream_id=muxing.streams[0].stream_id,\n",
    "                             muxing_id=muxing.id,\n",
    "                             audio=audio_media_info.group_id,\n",
    "                             segment_path=segment_path)\n",
    "\n",
    "    return bitmovin_api.encoding.manifests.hls.streams.create(manifest_id=manifest.id, stream_info=stream_info)"
   ]
  },
  {
   "cell_type": "raw",
   "metadata": {},
   "source": [
    "def _create_video_stream_playlist(encoding, manifest, bitrate, muxing, segment_path):\n",
    "\n",
    "    stream_info = StreamInfo(uri=\"video_{0}kbps.m3u8\".format(bitrate / 1000),\n",
    "                             encoding_id=encoding.id,\n",
    "                             stream_id=muxing.streams[0].stream_id,\n",
    "                             muxing_id=muxing.id)\n",
    "\n",
    "    return bitmovin_api.encoding.manifests.hls.streams.create(manifest_id=manifest.id, stream_info=stream_info)"
   ]
  },
  {
   "cell_type": "code",
   "execution_count": 60,
   "metadata": {},
   "outputs": [
    {
     "name": "stdout",
     "output_type": "stream",
     "text": [
      "2020-04-05 13:12:31,565 bitmovin_api_sdk.common.bitmovin_api_logger.BitmovinApiLogger DEBUG    REQUEST: POST https://api.bitmovin.com/v1/encoding/manifests/hls/fcb935a5-b152-4b71-9d3b-1faf7e95bbda/streams  --> {\"audio\": \"audio\", \"encodingId\": \"c18b735f-c298-473d-94a6-24c9480d81d3\", \"streamId\": \"e0d88cbd-7c0f-4f78-a116-348e8b6ff77d\", \"muxingId\": \"7bacee52-b55f-4718-9c24-543738fe4414\", \"segmentPath\": \"fmp4-h264/\", \"uri\": \"video_4800.0kbps.m3u8\"}\n",
      "2020-04-05 13:12:31,568 bitmovin_api_sdk.common.bitmovin_api_logger.BitmovinApiLogger DEBUG    Serialized request object: {\"audio\": \"audio\", \"encodingId\": \"c18b735f-c298-473d-94a6-24c9480d81d3\", \"muxingId\": \"7bacee52-b55f-4718-9c24-543738fe4414\", \"segmentPath\": \"fmp4-h264/\", \"streamId\": \"e0d88cbd-7c0f-4f78-a116-348e8b6ff77d\", \"uri\": \"video_4800.0kbps.m3u8\"}\n",
      "2020-04-05 13:12:31,981 bitmovin_api_sdk.common.bitmovin_api_logger.BitmovinApiLogger DEBUG    RESPONSE: {\"requestId\":\"4d162c59-9a87-4218-91a4-b25bec674993\",\"status\":\"SUCCESS\",\"data\":{\"result\":{\"id\":\"b40a3c8c-0e69-4f83-ae1b-3c2e6d35c663\",\"audio\":\"audio\",\"encodingId\":\"c18b735f-c298-473d-94a6-24c9480d81d3\",\"streamId\":\"e0d88cbd-7c0f-4f78-a116-348e8b6ff77d\",\"muxingId\":\"7bacee52-b55f-4718-9c24-543738fe4414\",\"segmentPath\":\"fmp4-h264/\",\"uri\":\"video_4800.0kbps.m3u8\"}}}\n"
     ]
    }
   ],
   "source": [
    "video_media_info = _create_video_stream_playlist(encoding=encoder, \\\n",
    "                                                 bitrate=4800000,\n",
    "                                                 manifest=hls_manifest, \\\n",
    "                                                 muxing=h264fmp4mux, \\\n",
    "                                                 segment_path=\"fmp4-h264/\",\\\n",
    "                                                 audio_media_info=audio_media_info)"
   ]
  },
  {
   "cell_type": "code",
   "execution_count": null,
   "metadata": {},
   "outputs": [],
   "source": []
  },
  {
   "cell_type": "code",
   "execution_count": 61,
   "metadata": {},
   "outputs": [
    {
     "name": "stdout",
     "output_type": "stream",
     "text": [
      "2020-04-05 13:12:35,654 bitmovin_api_sdk.common.bitmovin_api_logger.BitmovinApiLogger DEBUG    REQUEST: POST https://api.bitmovin.com/v1/encoding/manifests/hls/fcb935a5-b152-4b71-9d3b-1faf7e95bbda/start\n",
      "2020-04-05 13:12:35,988 bitmovin_api_sdk.common.bitmovin_api_logger.BitmovinApiLogger DEBUG    RESPONSE: {\"requestId\":\"af3853c5-0f8d-4942-a3f1-313c79b018de\",\"status\":\"SUCCESS\",\"data\":{\"result\":{\"id\":\"fcb935a5-b152-4b71-9d3b-1faf7e95bbda\"},\"messages\":[{\"type\":\"INFO\",\"text\":\"Starting HLS manifest creation\",\"links\":[{\"href\":\"/encoding/manifests/hls/fcb935a5-b152-4b71-9d3b-1faf7e95bbda/status\",\"title\":\"Get status of HLS manifest creation\"}]}]}}\n"
     ]
    },
    {
     "data": {
      "text/plain": [
       "{'id': 'fcb935a5-b152-4b71-9d3b-1faf7e95bbda'}"
      ]
     },
     "execution_count": 61,
     "metadata": {},
     "output_type": "execute_result"
    }
   ],
   "source": [
    "bitmovin_api.encoding.manifests.hls.start(manifest_id=hls_manifest.id)"
   ]
  },
  {
   "cell_type": "code",
   "execution_count": 62,
   "metadata": {},
   "outputs": [
    {
     "name": "stdout",
     "output_type": "stream",
     "text": [
      "2020-04-05 13:12:38,164 bitmovin_api_sdk.common.bitmovin_api_logger.BitmovinApiLogger DEBUG    REQUEST: GET https://api.bitmovin.com/v1/encoding/manifests/hls/fcb935a5-b152-4b71-9d3b-1faf7e95bbda/status\n",
      "2020-04-05 13:12:38,587 bitmovin_api_sdk.common.bitmovin_api_logger.BitmovinApiLogger DEBUG    RESPONSE: {\"requestId\":\"adf94a81-f0a1-409e-82b8-13bed51be5e2\",\"status\":\"SUCCESS\",\"data\":{\"result\":{\"id\":\"d0f39120-9ca2-42cd-bb72-8eb1a6c2f8b4\",\"eta\":0.0,\"progress\":100,\"messages\":[{\"id\":\"b191a0c4-c17f-4751-a139-2ff9b8278436\",\"type\":\"INFO\",\"date\":\"2020-04-05T04:12:37Z\",\"text\":\"Manifest creation is in progress\"},{\"id\":\"f5920bd8-4547-4de8-bc07-9a74ee09c641\",\"type\":\"INFO\",\"date\":\"2020-04-05T04:12:37Z\",\"text\":\"Manifest creation finished successfully\"}],\"subTasks\":[{\"id\":\"b2f26e2e-0029-41c2-8401-df5113d96587\",\"name\":\"Creating manifest file\",\"progress\":0,\"status\":\"RUNNING\",\"updatedAt\":\"2020-04-05T04:12:37Z\"}],\"status\":\"FINISHED\"}}}\n",
      "Manifest created successfully\n"
     ]
    }
   ],
   "source": [
    "task = bitmovin_api.encoding.manifests.hls.status(manifest_id=hls_manifest.id)\n",
    "\n",
    "while task.status is not Status.FINISHED and task.status is not Status.ERROR:\n",
    "    time.sleep(5)\n",
    "    task = bitmovin_api.encoding.manifests.hls.status(manifest_id=hls_manifest.id)\n",
    "    print(\"Manifest status is {} (progress: {} %)\".format(task.status, task.progress))\n",
    "\n",
    "if task.status is Status.ERROR:\n",
    "    _log_task_errors(task=task)\n",
    "    raise Exception(\"Manifest creation failed\")\n",
    "\n",
    "print(\"Manifest created successfully\")"
   ]
  }
 ],
 "metadata": {
  "kernelspec": {
   "display_name": "Python 3",
   "language": "python",
   "name": "python3"
  },
  "language_info": {
   "codemirror_mode": {
    "name": "ipython",
    "version": 3
   },
   "file_extension": ".py",
   "mimetype": "text/x-python",
   "name": "python",
   "nbconvert_exporter": "python",
   "pygments_lexer": "ipython3",
   "version": "3.7.6"
  }
 },
 "nbformat": 4,
 "nbformat_minor": 4
}
